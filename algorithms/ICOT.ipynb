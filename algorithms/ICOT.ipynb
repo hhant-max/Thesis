{
 "cells": [
  {
   "cell_type": "code",
   "execution_count": 1,
   "metadata": {},
   "outputs": [],
   "source": [
    "using DataFrames, MLDataUtils\n",
    "using Clustering, Distances\n",
    "using CSV\n",
    "using Random\n",
    "using Logging\n",
    "\n",
    "# Set up Logging - we recommend to use this command to avoid package warnings during the model training process.\n",
    "logger = Logging.SimpleLogger(stderr, Logging.Warn);\n",
    "global_logger(logger);"
   ]
  },
  {
   "cell_type": "code",
   "execution_count": 2,
   "metadata": {},
   "outputs": [],
   "source": [
    "#### Set parameters for the learners\n",
    "cr = :silhouette\n",
    "method = \"ICOT_local\"\n",
    "warm_start = :oct; # ???????\n",
    "geom_search = true ## ?????\n",
    "threshold = 0.99\n",
    "seed = 1\n",
    "gridsearch = false\n",
    "num_tree_restarts = 10\n",
    "complexity_c = 0.0\n",
    "min_bucket = 100\n",
    "maxdepth = 3\n",
    "\n",
    "###### Step 1: Prepare the data\n",
    "# Read the data - recommend the use of the (deprecated) readtable() command to avoid potential version conflicts with the CSV package.\n",
    "# data = readtable(\"../data/ruspini.csv\"); \n"
   ]
  },
  {
   "cell_type": "code",
   "execution_count": 3,
   "metadata": {},
   "outputs": [
    {
     "name": "stdout",
     "output_type": "stream",
     "text": [
      "(41257, 697)"
     ]
    },
    {
     "data": {
      "text/plain": [
       "41257-element Array{Int64,1}:\n",
       " 0\n",
       " 0\n",
       " 0\n",
       " 0\n",
       " 0\n",
       " 0\n",
       " 0\n",
       " 0\n",
       " 0\n",
       " 0\n",
       " ⋮\n",
       " 1\n",
       " 1\n",
       " 1\n",
       " 1\n",
       " 1\n",
       " 1\n",
       " 1\n",
       " 1\n",
       " 1"
      ]
     },
     "metadata": {},
     "output_type": "display_data"
    }
   ],
   "source": [
    "data = DataFrame(CSV.File(\"/home/sfy/Documents/VScodeProject/Thesis/algorithms/alldata.csv\"))\n",
    "\n",
    "print(size(data))\n",
    "\n",
    "# Convert the dataset to a matrix\n",
    "data_array = Matrix(data)\n",
    "# Get the number of observations and features\n",
    "n, p = size(data_array)\n",
    "data_t = data_array';\n",
    "\n",
    "##### Step 2: Fit K-means clustering on the dataset to generate a warm-start for ICOT\n",
    "#Fix the seed\n",
    "Random.seed!(seed);\n",
    "K = 2\n",
    "\n",
    "# Run k-means and save the assignments \n",
    "kmeans_result = kmeans(data_t, K);\n",
    "assignment = kmeans_result.assignments;\n",
    "\n",
    "\n",
    "data_full = DataFrame(hcat(data, assignment, makeunique=true));\n",
    "# names!(data_full, [:x1, :x2, :true_labels, :kmean_assign]);\n",
    "# X = data_full[:, 1:2];\n",
    "# y = data_full[:, :true_labels];\n",
    "\n",
    "# Prepare data for ICOT: features are stored in the matrix X, and the warm-start labels are stored in y\n",
    "\n",
    "# get x and y\n",
    "X = select(data, Not([:y]))\n",
    "y = data[:, :y]"
   ]
  },
  {
   "cell_type": "code",
   "execution_count": 4,
   "metadata": {},
   "outputs": [
    {
     "name": "stderr",
     "output_type": "stream",
     "text": [
      "┌ Warning: This copy of Interpretable AI software is for academic purposes only and not for commercial use.\n",
      "└ @ IAIBase /home/iai/.julia/packages/IAIBase/pOrUV/src/precompile.jl:19\n"
     ]
    },
    {
     "data": {
      "text/plain": [
       "All Grid Results:\n",
       "\n",
       "│ Row │ cp         │ train_score │ valid_score │ rank_valid_score │\n",
       "│     │ \u001b[90mFloat64\u001b[39m    │ \u001b[90mFloat64\u001b[39m     │ \u001b[90mFloat64\u001b[39m     │ \u001b[90mInt64\u001b[39m            │\n",
       "├─────┼────────────┼─────────────┼─────────────┼──────────────────┤\n",
       "│ 1   │ 0.00219543 │ 0.859245    │ 0.86079     │ 1                │\n",
       "\n",
       "Best Params:\n",
       "  cp => 0.0021954279342068506\n",
       "\n",
       "Best Model - Fitted OptimalTreeClassifier:\n",
       "  1) Split: android.permission.READ_PHONE_STATE < 0.5\n",
       "    2) Split: android.intent.category.HOME < 0.5\n",
       "      3) Split: android.permission.SEND_SMS < 0.5\n",
       "        4) Predict: 0 (96.48%), [11692,427], 12119 points, error 427\n",
       "        5) Predict: 1 (68.60%), [130,284], 414 points, error 130\n",
       "      6) Split: android/content/pm/PackageManager;getPackageInfo < 1.5\n",
       "        7) Predict: 1 (96.07%), [20,489], 509 points, error 20\n",
       "        8) Predict: 0 (88.70%), [102,13], 115 points, error 13\n",
       "    9) Split: android/util/Base64;decode < 3.5\n",
       "      10) Split: android/media/MediaRecorder;setAudioSource < 0.5\n",
       "        11) Predict: 1 (81.96%), [3955,17968], 21923 points, error 3955\n",
       "        12) Predict: 0 (69.37%), [897,396], 1293 points, error 396\n",
       "      13) Split: android/widget/VideoView;stopPlayback < 5.5\n",
       "        14) Predict: 0 (92.13%), [3639,311], 3950 points, error 311\n",
       "        15) Predict: 1 (93.36%), [62,872], 934 points, error 62"
      ]
     },
     "metadata": {},
     "output_type": "display_data"
    }
   ],
   "source": [
    "##### Step 3a. Before running ICOT, start by testing the IAI license\n",
    "lnr_oct = ICOT.IAI.OptimalTreeClassifier(localsearch=false, max_depth=maxdepth,\n",
    "    minbucket=min_bucket,\n",
    "    criterion=:misclassification\n",
    ")\n",
    "grid = ICOT.IAI.GridSearch(lnr_oct)\n",
    "ICOT.IAI.fit!(grid, X, y)"
   ]
  },
  {
   "cell_type": "code",
   "execution_count": 6,
   "metadata": {},
   "outputs": [
    {
     "name": "stderr",
     "output_type": "stream",
     "text": [
      "┌ Warning: `showinbrowser(args...; kwargs...)` is deprecated, use `show_in_browser(args...; kwargs...)` instead.\n",
      "│   caller = top-level scope at none:0\n",
      "└ @ Core none:0\n"
     ]
    },
    {
     "data": {
      "text/plain": [
       "\"/tmp/tmpj9cMQP/tree.html\""
      ]
     },
     "metadata": {},
     "output_type": "display_data"
    }
   ],
   "source": [
    "ICOT.IAI.showinbrowser(grid.lnr)"
   ]
  },
  {
   "cell_type": "code",
   "execution_count": 24,
   "metadata": {},
   "outputs": [],
   "source": [
    "\n",
    "##### Step 3b. Run ICOT\n",
    "\n",
    "# Run ICOT with no warm-start: \n",
    "# warm_start = :none\n",
    "# lnr_ws_none = ICOT.InterpretableCluster(ls_num_tree_restarts=num_tree_restarts, ls_random_seed=seed, cp=complexity_c, max_depth=maxdepth,\n",
    "#     minbucket=min_bucket, criterion=cr, ls_warmstart_criterion=cr, kmeans_warmstart=warm_start,\n",
    "#     geom_search=geom_search, geom_threshold=threshold);\n",
    "# run_time_icot_ls_none = @elapsed ICOT.fit!(lnr_ws_none, X, y);\n",
    "\n",
    "# ICOT.showinbrowser(lnr_ws_none)\n",
    "# 30 mins without results\n",
    "\n",
    "# score_ws_none = ICOT.score(lnr_ws_none, X, y, criterion=:dunnindex);\n",
    "# score_al_ws_none = ICOT.score(lnr_ws_none, X, y, criterion=:silhouette);\n"
   ]
  },
  {
   "cell_type": "code",
   "execution_count": 5,
   "metadata": {},
   "outputs": [],
   "source": [
    "\n",
    "# Run ICOT with an OCT warm-start: fit an OCT as a supervised learning problem with labels \"y\" and use this as the warm-start\n",
    "warm_start = :oct\n",
    "\n",
    "min_bucket = 5000 #now is 11 # require ** leaves in each cluster\n",
    "# alpha: 1: for numerical covariates 0 for categorical !0 \n",
    "\n",
    "\n",
    "lnr_ws_oct = ICOT.InterpretableCluster(ls_num_tree_restarts=num_tree_restarts, ls_random_seed=seed, cp=complexity_c, max_depth=maxdepth,\n",
    "    minbucket=min_bucket, criterion=cr, ls_warmstart_criterion=cr, kmeans_warmstart=warm_start,\n",
    "    geom_search=geom_search, geom_threshold=threshold);\n",
    "run_time_icot_ls_oct = @elapsed ICOT.fit!(lnr_ws_oct, X, y);\n",
    "\n"
   ]
  },
  {
   "cell_type": "code",
   "execution_count": null,
   "metadata": {},
   "outputs": [],
   "source": [
    "\n",
    "score_ws_oct = ICOT.score(lnr_ws_oct, X, y, criterion=:dunnindex);\n",
    "score_al_ws_oct = ICOT.score(lnr_ws_oct, X, y, criterion=:silhouette);"
   ]
  },
  {
   "cell_type": "code",
   "execution_count": null,
   "metadata": {},
   "outputs": [],
   "source": []
  }
 ],
 "metadata": {
  "kernelspec": {
   "display_name": "Julia 1.1.0",
   "language": "julia",
   "name": "julia-1.1"
  },
  "language_info": {
   "file_extension": ".jl",
   "mimetype": "application/julia",
   "name": "julia",
   "version": "1.1.0"
  },
  "orig_nbformat": 4
 },
 "nbformat": 4,
 "nbformat_minor": 2
}
