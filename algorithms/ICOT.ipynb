{
 "cells": [
  {
   "cell_type": "code",
   "execution_count": 3,
   "metadata": {},
   "outputs": [
    {
     "name": "stderr",
     "output_type": "stream",
     "text": [
      "┌ Info: Precompiling CSV [336ed68f-0bac-5ca0-87d4-7b16caf5d00b]\n",
      "└ @ Base loading.jl:1186\n",
      "WARNING: Method definition ca_chain!(MbedTLS.SSLConfig) in module MbedTLS at /home/iai/.julia/packages/MbedTLS/X4xar/src/ssl.jl:489 overwritten in module Main at /home/iai/.julia/packages/PackageCompiler/4yNnV/sysimg/precompile.jl:225.\n",
      "WARNING: Method definition ca_chain!(MbedTLS.SSLConfig) in module MbedTLS at /home/iai/.julia/packages/MbedTLS/X4xar/src/ssl.jl:489 overwritten in module Main at /home/iai/.julia/packages/PackageCompiler/4yNnV/sysimg/precompile.jl:225.\n"
     ]
    }
   ],
   "source": [
    "using DataFrames, MLDataUtils\n",
    "using Clustering, Distances\n",
    "using CSV\n",
    "using Random\n",
    "using Logging"
   ]
  },
  {
   "cell_type": "code",
   "execution_count": 4,
   "metadata": {},
   "outputs": [
    {
     "name": "stderr",
     "output_type": "stream",
     "text": [
      "┌ Warning: `names!(df::AbstractDataFrame, vals::Vector{Symbol}; makeunique::Bool=false)` is deprecated, use `rename!(df, vals, makeunique=makeunique)` instead.\n",
      "│   caller = top-level scope at In[4]:44\n",
      "└ @ Core In[4]:44\n"
     ]
    }
   ],
   "source": [
    "\n",
    "# Set up Logging - we recommend to use this command to avoid package warnings during the model training process.\n",
    "logger = Logging.SimpleLogger(stderr, Logging.Warn);\n",
    "global_logger(logger);\n",
    "\n",
    "#### Set parameters for the learners\n",
    "cr = :dunnindex\n",
    "method = \"ICOT_local\"\n",
    "warm_start = :none;\n",
    "geom_search = false\n",
    "threshold = 0.0\n",
    "seed = 1\n",
    "gridsearch = false\n",
    "num_tree_restarts = 100\n",
    "complexity_c = 0.0\n",
    "min_bucket = 10\n",
    "maxdepth = 5\n",
    "\n",
    "###### Step 1: Prepare the data\n",
    "# Read the data - recommend the use of the (deprecated) readtable() command to avoid potential version conflicts with the CSV package.\n",
    "# data = readtable(\"../data/ruspini.csv\"); \n",
    "data = DataFrame(CSV.File(\"/home/sfy/Documents/VScodeProject/Thesis/data/ruspini.csv\"))\n",
    "\n",
    "# Convert the dataset to a matrix\n",
    "# data_array = convert(Matrix{Float64}, data[:,:]);\n",
    "data_array = Matrix(data)\n",
    "# Get the number of observations and features\n",
    "n, p = size(data_array)\n",
    "data_t = data_array';\n",
    "\n",
    "##### Step 2: Fit K-means clustering on the dataset to generate a warm-start for ICOT\n",
    "#Fix the seed\n",
    "Random.seed!(seed);\n",
    "\n",
    "# The ruspini dataset has pre-defined clusters, which we will use to select the cluster count (K) for the K-means algorithm. \n",
    "# In an unsupervised setting (with no prior-known K), the number of clusters for K means can be selected using the elbow method.\n",
    "K = length(unique(data_array[:, end]))\n",
    "\n",
    "# Run k-means and save the assignments \n",
    "kmeans_result = kmeans(data_t, K);\n",
    "assignment = kmeans_result.assignments;\n",
    "\n",
    "data_full = DataFrame(hcat(data, assignment, makeunique=true));\n",
    "names!(data_full, [:x1, :x2, :true_labels, :kmean_assign]);\n",
    "\n",
    "# Prepare data for ICOT: features are stored in the matrix X, and the warm-start labels are stored in y\n",
    "X = data_full[:, 1:2];\n",
    "y = data_full[:, :true_labels];\n"
   ]
  },
  {
   "cell_type": "code",
   "execution_count": 5,
   "metadata": {},
   "outputs": [
    {
     "data": {
      "text/html": [
       "<table class=\"data-frame\"><thead><tr><th></th><th>x1</th><th>x2</th></tr><tr><th></th><th>Float64</th><th>Float64</th></tr></thead><tbody><p>75 rows × 2 columns</p><tr><th>1</th><td>4.0</td><td>53.0</td></tr><tr><th>2</th><td>5.0</td><td>63.0</td></tr><tr><th>3</th><td>10.0</td><td>59.0</td></tr><tr><th>4</th><td>9.0</td><td>77.0</td></tr><tr><th>5</th><td>13.0</td><td>49.0</td></tr><tr><th>6</th><td>13.0</td><td>69.0</td></tr><tr><th>7</th><td>12.0</td><td>88.0</td></tr><tr><th>8</th><td>15.0</td><td>75.0</td></tr><tr><th>9</th><td>18.0</td><td>61.0</td></tr><tr><th>10</th><td>19.0</td><td>65.0</td></tr><tr><th>11</th><td>22.0</td><td>74.0</td></tr><tr><th>12</th><td>27.0</td><td>72.0</td></tr><tr><th>13</th><td>28.0</td><td>76.0</td></tr><tr><th>14</th><td>24.0</td><td>58.0</td></tr><tr><th>15</th><td>27.0</td><td>55.0</td></tr><tr><th>16</th><td>28.0</td><td>60.0</td></tr><tr><th>17</th><td>30.0</td><td>52.0</td></tr><tr><th>18</th><td>31.0</td><td>60.0</td></tr><tr><th>19</th><td>32.0</td><td>61.0</td></tr><tr><th>20</th><td>36.0</td><td>72.0</td></tr><tr><th>21</th><td>28.0</td><td>147.0</td></tr><tr><th>22</th><td>32.0</td><td>149.0</td></tr><tr><th>23</th><td>35.0</td><td>153.0</td></tr><tr><th>24</th><td>33.0</td><td>154.0</td></tr><tr><th>25</th><td>38.0</td><td>151.0</td></tr><tr><th>26</th><td>41.0</td><td>150.0</td></tr><tr><th>27</th><td>38.0</td><td>145.0</td></tr><tr><th>28</th><td>38.0</td><td>143.0</td></tr><tr><th>29</th><td>32.0</td><td>143.0</td></tr><tr><th>30</th><td>34.0</td><td>141.0</td></tr><tr><th>&vellip;</th><td>&vellip;</td><td>&vellip;</td></tr></tbody></table>"
      ],
      "text/latex": [
       "\\begin{tabular}{r|cc}\n",
       "\t& x1 & x2\\\\\n",
       "\t\\hline\n",
       "\t& Float64 & Float64\\\\\n",
       "\t\\hline\n",
       "\t1 & 4.0 & 53.0 \\\\\n",
       "\t2 & 5.0 & 63.0 \\\\\n",
       "\t3 & 10.0 & 59.0 \\\\\n",
       "\t4 & 9.0 & 77.0 \\\\\n",
       "\t5 & 13.0 & 49.0 \\\\\n",
       "\t6 & 13.0 & 69.0 \\\\\n",
       "\t7 & 12.0 & 88.0 \\\\\n",
       "\t8 & 15.0 & 75.0 \\\\\n",
       "\t9 & 18.0 & 61.0 \\\\\n",
       "\t10 & 19.0 & 65.0 \\\\\n",
       "\t11 & 22.0 & 74.0 \\\\\n",
       "\t12 & 27.0 & 72.0 \\\\\n",
       "\t13 & 28.0 & 76.0 \\\\\n",
       "\t14 & 24.0 & 58.0 \\\\\n",
       "\t15 & 27.0 & 55.0 \\\\\n",
       "\t16 & 28.0 & 60.0 \\\\\n",
       "\t17 & 30.0 & 52.0 \\\\\n",
       "\t18 & 31.0 & 60.0 \\\\\n",
       "\t19 & 32.0 & 61.0 \\\\\n",
       "\t20 & 36.0 & 72.0 \\\\\n",
       "\t21 & 28.0 & 147.0 \\\\\n",
       "\t22 & 32.0 & 149.0 \\\\\n",
       "\t23 & 35.0 & 153.0 \\\\\n",
       "\t24 & 33.0 & 154.0 \\\\\n",
       "\t25 & 38.0 & 151.0 \\\\\n",
       "\t26 & 41.0 & 150.0 \\\\\n",
       "\t27 & 38.0 & 145.0 \\\\\n",
       "\t28 & 38.0 & 143.0 \\\\\n",
       "\t29 & 32.0 & 143.0 \\\\\n",
       "\t30 & 34.0 & 141.0 \\\\\n",
       "\t$\\dots$ & $\\dots$ & $\\dots$ \\\\\n",
       "\\end{tabular}\n"
      ],
      "text/plain": [
       "75×2 DataFrame\n",
       "│ Row │ x1      │ x2      │\n",
       "│     │ \u001b[90mFloat64\u001b[39m │ \u001b[90mFloat64\u001b[39m │\n",
       "├─────┼─────────┼─────────┤\n",
       "│ 1   │ 4.0     │ 53.0    │\n",
       "│ 2   │ 5.0     │ 63.0    │\n",
       "│ 3   │ 10.0    │ 59.0    │\n",
       "│ 4   │ 9.0     │ 77.0    │\n",
       "│ 5   │ 13.0    │ 49.0    │\n",
       "│ 6   │ 13.0    │ 69.0    │\n",
       "│ 7   │ 12.0    │ 88.0    │\n",
       "│ 8   │ 15.0    │ 75.0    │\n",
       "│ 9   │ 18.0    │ 61.0    │\n",
       "│ 10  │ 19.0    │ 65.0    │\n",
       "⋮\n",
       "│ 65  │ 69.0    │ 15.0    │\n",
       "│ 66  │ 78.0    │ 16.0    │\n",
       "│ 67  │ 66.0    │ 18.0    │\n",
       "│ 68  │ 58.0    │ 13.0    │\n",
       "│ 69  │ 64.0    │ 20.0    │\n",
       "│ 70  │ 69.0    │ 21.0    │\n",
       "│ 71  │ 66.0    │ 23.0    │\n",
       "│ 72  │ 61.0    │ 25.0    │\n",
       "│ 73  │ 76.0    │ 27.0    │\n",
       "│ 74  │ 72.0    │ 31.0    │\n",
       "│ 75  │ 64.0    │ 30.0    │"
      ]
     },
     "execution_count": 5,
     "metadata": {},
     "output_type": "execute_result"
    }
   ],
   "source": [
    "X"
   ]
  },
  {
   "cell_type": "code",
   "execution_count": 7,
   "metadata": {},
   "outputs": [
    {
     "name": "stderr",
     "output_type": "stream",
     "text": [
      "┌ Warning: This copy of Interpretable AI software is for academic purposes only and not for commercial use.\n",
      "└ @ IAIBase /home/iai/.julia/packages/IAIBase/pOrUV/src/precompile.jl:19\n",
      "┌ Warning: `showinbrowser(args...; kwargs...)` is deprecated, use `show_in_browser(args...; kwargs...)` instead.\n",
      "│   caller = top-level scope at In[7]:8\n",
      "└ @ Core In[7]:8\n"
     ]
    },
    {
     "data": {
      "text/plain": [
       "\"/tmp/tmpmcL3A6/tree.html\""
      ]
     },
     "execution_count": 7,
     "metadata": {},
     "output_type": "execute_result"
    }
   ],
   "source": [
    "##### Step 3a. Before running ICOT, start by testing the IAI license\n",
    "lnr_oct = ICOT.IAI.OptimalTreeClassifier(localsearch=false, max_depth=maxdepth,\n",
    "    minbucket=min_bucket,\n",
    "    criterion=:misclassification\n",
    ")\n",
    "grid = ICOT.IAI.GridSearch(lnr_oct)\n",
    "ICOT.IAI.fit!(grid, X, y)\n",
    "ICOT.IAI.showinbrowser(grid.lnr)\n"
   ]
  },
  {
   "cell_type": "code",
   "execution_count": 8,
   "metadata": {},
   "outputs": [
    {
     "name": "stderr",
     "output_type": "stream",
     "text": [
      "┌ Warning: implicit `dims=2` argument now has to be passed explicitly to specify that distances between columns should be computed\n",
      "│   caller = ip:0x0\n",
      "└ @ Core :-1\n",
      "\u001b[32mTraining trees...100%|██████████████████████████████████| Time: 0:00:16\u001b[39m\n"
     ]
    },
    {
     "data": {
      "text/plain": [
       "Process(`\u001b[4mxdg-open\u001b[24m \u001b[4m/tmp/tmpANqkPG/tree.html\u001b[24m`, ProcessExited(0))"
      ]
     },
     "execution_count": 8,
     "metadata": {},
     "output_type": "execute_result"
    }
   ],
   "source": [
    "\n",
    "##### Step 3b. Run ICOT\n",
    "\n",
    "# Run ICOT with no warm-start: \n",
    "warm_start = :none\n",
    "lnr_ws_none = ICOT.InterpretableCluster(ls_num_tree_restarts=num_tree_restarts, ls_random_seed=seed, cp=complexity_c, max_depth=maxdepth,\n",
    "    minbucket=min_bucket, criterion=cr, ls_warmstart_criterion=cr, kmeans_warmstart=warm_start,\n",
    "    geom_search=geom_search, geom_threshold=threshold);\n",
    "run_time_icot_ls_none = @elapsed ICOT.fit!(lnr_ws_none, X, y);\n",
    "\n",
    "ICOT.showinbrowser(lnr_ws_none)\n"
   ]
  },
  {
   "cell_type": "code",
   "execution_count": 9,
   "metadata": {},
   "outputs": [
    {
     "name": "stderr",
     "output_type": "stream",
     "text": [
      "┌ Warning: `getindex(df::DataFrame, col_ind::ColumnIndex)` is deprecated, use `df[!, col_ind]` instead.\n",
      "│   caller = dunn_score(::Array{Float64,2}, ::Array{Int64,1}) at clustering_tree.jl:132\n",
      "└ @ ICOT /home/iai/.julia/packages/ICOT/34UmY/src/clustering/clustering_tree.jl:132\n",
      "Gtk-Message: 19:05:24.626: Not loading module \"atk-bridge\": The functionality is provided by GTK natively. Please try to not load it.\n"
     ]
    }
   ],
   "source": [
    "score_ws_none = ICOT.score(lnr_ws_none, X, y, criterion=:dunnindex);\n",
    "score_al_ws_none = ICOT.score(lnr_ws_none, X, y, criterion=:silhouette);\n"
   ]
  },
  {
   "cell_type": "code",
   "execution_count": 10,
   "metadata": {},
   "outputs": [
    {
     "name": "stderr",
     "output_type": "stream",
     "text": [
      "\u001b[32mTraining trees...100%|██████████████████████████████████| Time: 0:00:02\u001b[39m\n",
      "\u001b[32mTraining trees...100%|██████████████████████████████████| Time: 0:00:18\u001b[39m\n"
     ]
    }
   ],
   "source": [
    "\n",
    "# Run ICOT with an OCT warm-start: fit an OCT as a supervised learning problem with labels \"y\" and use this as the warm-start\n",
    "warm_start = :oct\n",
    "lnr_ws_oct = ICOT.InterpretableCluster(ls_num_tree_restarts=num_tree_restarts, ls_random_seed=seed, cp=complexity_c, max_depth=maxdepth,\n",
    "    minbucket=min_bucket, criterion=cr, ls_warmstart_criterion=cr, kmeans_warmstart=warm_start,\n",
    "    geom_search=geom_search, geom_threshold=threshold);\n",
    "run_time_icot_ls_oct = @elapsed ICOT.fit!(lnr_ws_oct, X, y);\n",
    "\n",
    "score_ws_oct = ICOT.score(lnr_ws_oct, X, y, criterion=:dunnindex);\n",
    "score_al_ws_oct = ICOT.score(lnr_ws_oct, X, y, criterion=:silhouette);\n"
   ]
  },
  {
   "cell_type": "code",
   "execution_count": null,
   "metadata": {},
   "outputs": [],
   "source": []
  }
 ],
 "metadata": {
  "kernelspec": {
   "display_name": "Julia(IAI) 1.1.0",
   "language": "julia",
   "name": "julia(iai)-1.1"
  },
  "language_info": {
   "file_extension": ".jl",
   "mimetype": "application/julia",
   "name": "julia",
   "version": "1.1.0"
  },
  "orig_nbformat": 4
 },
 "nbformat": 4,
 "nbformat_minor": 2
}
