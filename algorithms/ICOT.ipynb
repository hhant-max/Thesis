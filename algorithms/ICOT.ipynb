{
 "cells": [
  {
   "cell_type": "code",
   "execution_count": 2,
   "metadata": {},
   "outputs": [],
   "source": [
    "using DataFrames, MLDataUtils\n",
    "using Clustering, Distances\n",
    "using CSV\n",
    "using Random\n",
    "using Logging\n",
    "\n",
    "# Set up Logging - we recommend to use this command to avoid package warnings during the model training process.\n",
    "logger = Logging.SimpleLogger(stderr, Logging.Warn);\n",
    "global_logger(logger);"
   ]
  },
  {
   "cell_type": "code",
   "execution_count": 3,
   "metadata": {},
   "outputs": [],
   "source": [
    "#### Set parameters for the learners\n",
    "cr = :silhouette\n",
    "method = \"ICOT_local\"\n",
    "warm_start = :none; # ???????\n",
    "geom_search = false ## ?????\n",
    "threshold = 0.0\n",
    "seed = 1\n",
    "gridsearch = false\n",
    "num_tree_restarts = 100\n",
    "complexity_c = 0.0\n",
    "min_bucket = 10\n",
    "maxdepth = 5\n",
    "\n",
    "###### Step 1: Prepare the data\n",
    "# Read the data - recommend the use of the (deprecated) readtable() command to avoid potential version conflicts with the CSV package.\n",
    "# data = readtable(\"../data/ruspini.csv\"); \n"
   ]
  },
  {
   "cell_type": "code",
   "execution_count": null,
   "metadata": {},
   "outputs": [],
   "source": [
    "data = DataFrame(CSV.File(\"/home/sfy/Documents/VScodeProject/Thesis/algorithms/alldata.csv\"))"
   ]
  },
  {
   "cell_type": "code",
   "execution_count": 5,
   "metadata": {},
   "outputs": [
    {
     "data": {
      "text/plain": [
       "(41257, 697)"
      ]
     },
     "metadata": {},
     "output_type": "display_data"
    }
   ],
   "source": [
    "size(data)"
   ]
  },
  {
   "cell_type": "code",
   "execution_count": 6,
   "metadata": {},
   "outputs": [],
   "source": [
    "\n",
    "\n",
    "# Convert the dataset to a matrix\n",
    "data_array = Matrix(data)\n",
    "# Get the number of observations and features\n",
    "n, p = size(data_array)\n",
    "data_t = data_array';\n",
    "\n",
    "##### Step 2: Fit K-means clustering on the dataset to generate a warm-start for ICOT\n",
    "#Fix the seed\n",
    "Random.seed!(seed);\n",
    "K = 2\n",
    "\n",
    "# Run k-means and save the assignments \n",
    "kmeans_result = kmeans(data_t, K);\n",
    "assignment = kmeans_result.assignments;\n"
   ]
  },
  {
   "cell_type": "code",
   "execution_count": 7,
   "metadata": {},
   "outputs": [
    {
     "data": {
      "text/html": [
       "<table class=\"data-frame\"><thead><tr><th></th><th>android.permission.CAMERA</th><th>android.permission.READ_CONTACTS</th><th>android.permission.WRITE_CONTACTS</th></tr><tr><th></th><th>Int64</th><th>Int64</th><th>Int64</th></tr></thead><tbody><p>41,257 rows × 697 columns (omitted printing of 694 columns)</p><tr><th>1</th><td>1</td><td>0</td><td>0</td></tr><tr><th>2</th><td>1</td><td>0</td><td>0</td></tr><tr><th>3</th><td>0</td><td>0</td><td>0</td></tr><tr><th>4</th><td>0</td><td>0</td><td>0</td></tr><tr><th>5</th><td>1</td><td>0</td><td>0</td></tr><tr><th>6</th><td>0</td><td>0</td><td>0</td></tr><tr><th>7</th><td>0</td><td>0</td><td>0</td></tr><tr><th>8</th><td>0</td><td>0</td><td>0</td></tr><tr><th>9</th><td>1</td><td>0</td><td>0</td></tr><tr><th>10</th><td>0</td><td>0</td><td>0</td></tr><tr><th>11</th><td>0</td><td>0</td><td>0</td></tr><tr><th>12</th><td>1</td><td>0</td><td>0</td></tr><tr><th>13</th><td>1</td><td>1</td><td>0</td></tr><tr><th>14</th><td>0</td><td>0</td><td>0</td></tr><tr><th>15</th><td>0</td><td>0</td><td>0</td></tr><tr><th>16</th><td>1</td><td>1</td><td>0</td></tr><tr><th>17</th><td>1</td><td>0</td><td>0</td></tr><tr><th>18</th><td>1</td><td>0</td><td>0</td></tr><tr><th>19</th><td>0</td><td>0</td><td>0</td></tr><tr><th>20</th><td>0</td><td>0</td><td>0</td></tr><tr><th>21</th><td>0</td><td>0</td><td>0</td></tr><tr><th>22</th><td>1</td><td>0</td><td>0</td></tr><tr><th>23</th><td>0</td><td>0</td><td>0</td></tr><tr><th>24</th><td>1</td><td>0</td><td>0</td></tr><tr><th>&vellip;</th><td>&vellip;</td><td>&vellip;</td><td>&vellip;</td></tr></tbody></table>"
      ],
      "text/latex": [
       "\\begin{tabular}{r|cccc}\n",
       "\t& android.permission.CAMERA & android.permission.READ\\_CONTACTS & android.permission.WRITE\\_CONTACTS & \\\\\n",
       "\t\\hline\n",
       "\t& Int64 & Int64 & Int64 & \\\\\n",
       "\t\\hline\n",
       "\t1 & 1 & 0 & 0 & $\\dots$ \\\\\n",
       "\t2 & 1 & 0 & 0 & $\\dots$ \\\\\n",
       "\t3 & 0 & 0 & 0 & $\\dots$ \\\\\n",
       "\t4 & 0 & 0 & 0 & $\\dots$ \\\\\n",
       "\t5 & 1 & 0 & 0 & $\\dots$ \\\\\n",
       "\t6 & 0 & 0 & 0 & $\\dots$ \\\\\n",
       "\t7 & 0 & 0 & 0 & $\\dots$ \\\\\n",
       "\t8 & 0 & 0 & 0 & $\\dots$ \\\\\n",
       "\t9 & 1 & 0 & 0 & $\\dots$ \\\\\n",
       "\t10 & 0 & 0 & 0 & $\\dots$ \\\\\n",
       "\t11 & 0 & 0 & 0 & $\\dots$ \\\\\n",
       "\t12 & 1 & 0 & 0 & $\\dots$ \\\\\n",
       "\t13 & 1 & 1 & 0 & $\\dots$ \\\\\n",
       "\t14 & 0 & 0 & 0 & $\\dots$ \\\\\n",
       "\t15 & 0 & 0 & 0 & $\\dots$ \\\\\n",
       "\t16 & 1 & 1 & 0 & $\\dots$ \\\\\n",
       "\t17 & 1 & 0 & 0 & $\\dots$ \\\\\n",
       "\t18 & 1 & 0 & 0 & $\\dots$ \\\\\n",
       "\t19 & 0 & 0 & 0 & $\\dots$ \\\\\n",
       "\t20 & 0 & 0 & 0 & $\\dots$ \\\\\n",
       "\t21 & 0 & 0 & 0 & $\\dots$ \\\\\n",
       "\t22 & 1 & 0 & 0 & $\\dots$ \\\\\n",
       "\t23 & 0 & 0 & 0 & $\\dots$ \\\\\n",
       "\t24 & 1 & 0 & 0 & $\\dots$ \\\\\n",
       "\t$\\dots$ & $\\dots$ & $\\dots$ & $\\dots$ &  \\\\\n",
       "\\end{tabular}\n"
      ],
      "text/plain": [
       "41257×697 DataFrame. Omitted printing of 695 columns\n",
       "│ Row   │ android.permission.CAMERA │ android.permission.READ_CONTACTS │\n",
       "│       │ \u001b[90mInt64\u001b[39m                     │ \u001b[90mInt64\u001b[39m                            │\n",
       "├───────┼───────────────────────────┼──────────────────────────────────┤\n",
       "│ 1     │ 1                         │ 0                                │\n",
       "│ 2     │ 1                         │ 0                                │\n",
       "│ 3     │ 0                         │ 0                                │\n",
       "│ 4     │ 0                         │ 0                                │\n",
       "│ 5     │ 1                         │ 0                                │\n",
       "│ 6     │ 0                         │ 0                                │\n",
       "│ 7     │ 0                         │ 0                                │\n",
       "⋮\n",
       "│ 41250 │ 0                         │ 0                                │\n",
       "│ 41251 │ 1                         │ 0                                │\n",
       "│ 41252 │ 0                         │ 0                                │\n",
       "│ 41253 │ 1                         │ 0                                │\n",
       "│ 41254 │ 1                         │ 0                                │\n",
       "│ 41255 │ 0                         │ 0                                │\n",
       "│ 41256 │ 1                         │ 0                                │\n",
       "│ 41257 │ 0                         │ 0                                │"
      ]
     },
     "metadata": {},
     "output_type": "display_data"
    }
   ],
   "source": [
    "data"
   ]
  },
  {
   "cell_type": "code",
   "execution_count": 21,
   "metadata": {},
   "outputs": [
    {
     "data": {
      "text/plain": [
       "41257-element Array{Int64,1}:\n",
       " 0\n",
       " 0\n",
       " 0\n",
       " 0\n",
       " 0\n",
       " 0\n",
       " 0\n",
       " 0\n",
       " 0\n",
       " 0\n",
       " ⋮\n",
       " 1\n",
       " 1\n",
       " 1\n",
       " 1\n",
       " 1\n",
       " 1\n",
       " 1\n",
       " 1\n",
       " 1"
      ]
     },
     "metadata": {},
     "output_type": "display_data"
    }
   ],
   "source": [
    "\n",
    "data_full = DataFrame(hcat(data, assignment, makeunique=true));\n",
    "# names!(data_full, [:x1, :x2, :true_labels, :kmean_assign]);\n",
    "# X = data_full[:, 1:2];\n",
    "# y = data_full[:, :true_labels];\n",
    "\n",
    "# Prepare data for ICOT: features are stored in the matrix X, and the warm-start labels are stored in y\n",
    "\n",
    "# get x and y\n",
    "X = select(data,Not([:y]))\n",
    "y = data[:,:y]"
   ]
  },
  {
   "cell_type": "code",
   "execution_count": 11,
   "metadata": {},
   "outputs": [
    {
     "data": {
      "text/plain": [
       "GridSearch - Unfitted OptimalTreeClassifier:\n",
       "  max_depth:   5\n",
       "  minbucket:   10\n",
       "  localsearch: false\n",
       "\n",
       "GridSearch Params:\n",
       "  ()"
      ]
     },
     "metadata": {},
     "output_type": "display_data"
    }
   ],
   "source": [
    "##### Step 3a. Before running ICOT, start by testing the IAI license\n",
    "lnr_oct = ICOT.IAI.OptimalTreeClassifier(localsearch=false, max_depth=maxdepth,\n",
    "    minbucket=min_bucket,\n",
    "    criterion=:misclassification\n",
    ")\n",
    "grid = ICOT.IAI.GridSearch(lnr_oct)\n",
    "ICOT.IAI.fit!(grid, X, y)"
   ]
  },
  {
   "cell_type": "code",
   "execution_count": 22,
   "metadata": {},
   "outputs": [
    {
     "name": "stderr",
     "output_type": "stream",
     "text": [
      "┌ Warning: This copy of Interpretable AI software is for academic purposes only and not for commercial use.\n",
      "└ @ IAIBase /home/iai/.julia/packages/IAIBase/pOrUV/src/precompile.jl:19\n"
     ]
    },
    {
     "data": {
      "text/plain": [
       "All Grid Results:\n",
       "\n",
       "│ Row │ cp          │ train_score │ valid_score │ rank_valid_score │\n",
       "│     │ \u001b[90mFloat64\u001b[39m     │ \u001b[90mFloat64\u001b[39m     │ \u001b[90mFloat64\u001b[39m     │ \u001b[90mInt64\u001b[39m            │\n",
       "├─────┼─────────────┼─────────────┼─────────────┼──────────────────┤\n",
       "│ 1   │ 0.000104544 │ 0.881337    │ 0.884706    │ 1                │\n",
       "\n",
       "Best Params:\n",
       "  cp => 0.00010454418734318072\n",
       "\n",
       "Best Model - Fitted OptimalTreeClassifier:\n",
       "  1) Split: android.permission.READ_PHONE_STATE < 0.5\n",
       "    2) Split: android.intent.category.HOME < 0.5\n",
       "      3) Split: android.permission.SEND_SMS < 0.5\n",
       "        4) Split: android/provider/Settings$Secure;setLocationProviderEnabled < 0.5\n",
       "          5) Split: android/net/wifi/WifiManager;getConfiguredNetworks < 3.5\n",
       "            6) Predict: 0 (96.89%), [11686,375], 12061 points, error 375\n",
       "            7) Predict: 1 (61.54%), [5,8], 13 points, error 5\n",
       "          8) Predict: 1 (97.78%), [1,44], 45 points, error 1\n",
       "        9) Split: android/net/ConnectivityManager;getActiveNetworkInfo < 2.5\n",
       "          10) Split: android.permission.CALL_PHONE < 0.5\n",
       "            11) Predict: 1 (90.91%), [28,280], 308 points, error 28\n",
       "            12) Predict: 0 (100.00%), [11,0], 11 points, error 0\n",
       "          13) Predict: 0 (95.79%), [91,4], 95 points, error 4\n",
       "      14) Split: android/content/pm/PackageManager;getPackageInfo < 1.5\n",
       "        15) Split: android.intent.action.BOOT_COMPLETED < 0.5\n",
       "          16) Predict: 0 (100.00%), [11,0], 11 points, error 0\n",
       "          17) Predict: 1 (98.19%), [9,489], 498 points, error 9\n",
       "        18) Split: android/telephony/TelephonyManager;getDeviceId < 1.5\n",
       "          19) Predict: 0 (100.00%), [96,0], 96 points, error 0\n",
       "          20) Predict: 1 (68.42%), [6,13], 19 points, error 6\n",
       "    21) Split: android/util/Base64;decode < 3.5\n",
       "      22) Split: android/media/MediaRecorder;setAudioSource < 0.5\n",
       "        23) Split: android/provider/Settings$System;putString < 0.5\n",
       "          24) Split: android/content/ContextWrapper;getSystemService < 0.5\n",
       "            25) Predict: 1 (84.41%), [3249,17594], 20843 points, error 3249\n",
       "            26) Predict: 0 (72.08%), [204,79], 283 points, error 79\n",
       "          27) Split: android/telephony/SmsManager;sendTextMessage < 2.5\n",
       "            28) Predict: 0 (83.44%), [499,99], 598 points, error 99\n",
       "            29) Predict: 1 (98.49%), [3,196], 199 points, error 3\n",
       "        30) Split: android.intent.category.HOME < 0.5\n",
       "          31) Split: java/net/URL;openConnection < 30.5\n",
       "            32) Predict: 0 (80.67%), [864,207], 1071 points, error 207\n",
       "            33) Predict: 1 (79.41%), [14,54], 68 points, error 14\n",
       "          34) Split: android.intent.category.BROWSABLE < 0.5\n",
       "            35) Predict: 1 (95.65%), [6,132], 138 points, error 6\n",
       "            36) Predict: 0 (81.25%), [13,3], 16 points, error 3\n",
       "      37) Split: android/widget/VideoView;stopPlayback < 5.5\n",
       "        38) Split: android/telephony/SmsManager;sendTextMessage < 2.5\n",
       "          39) Split: android/util/Base64;decode < 120\n",
       "            40) Predict: 0 (93.62%), [3626,247], 3873 points, error 247\n",
       "            41) Predict: 1 (100.00%), [0,20], 20 points, error 0\n",
       "          42) Split: android/net/ConnectivityManager;isActiveNetworkMetered < 0.5\n",
       "            43) Predict: 1 (97.62%), [1,41], 42 points, error 1\n",
       "            44) Predict: 0 (80.00%), [12,3], 15 points, error 3\n",
       "        45) Split: android/net/wifi/WifiManager;isWifiEnabled < 0.5\n",
       "          46) Predict: 0 (97.56%), [40,1], 41 points, error 1\n",
       "          47) Split: android/util/Base64;encodeToString < 12.5\n",
       "            48) Predict: 1 (98.41%), [14,869], 883 points, error 14\n",
       "            49) Predict: 0 (80.00%), [8,2], 10 points, error 2"
      ]
     },
     "metadata": {},
     "output_type": "display_data"
    }
   ],
   "source": [
    "ICOT.IAI.fit!(grid, X, y)"
   ]
  },
  {
   "cell_type": "code",
   "execution_count": 23,
   "metadata": {},
   "outputs": [
    {
     "name": "stderr",
     "output_type": "stream",
     "text": [
      "┌ Warning: `showinbrowser(args...; kwargs...)` is deprecated, use `show_in_browser(args...; kwargs...)` instead.\n",
      "│   caller = top-level scope at none:0\n",
      "└ @ Core none:0\n"
     ]
    },
    {
     "data": {
      "text/plain": [
       "\"/tmp/tmpoEajSx/tree.html\""
      ]
     },
     "metadata": {},
     "output_type": "display_data"
    }
   ],
   "source": [
    "ICOT.IAI.showinbrowser(grid.lnr)"
   ]
  },
  {
   "cell_type": "code",
   "execution_count": 24,
   "metadata": {},
   "outputs": [],
   "source": [
    "\n",
    "##### Step 3b. Run ICOT\n",
    "\n",
    "# Run ICOT with no warm-start: \n",
    "warm_start = :none\n",
    "lnr_ws_none = ICOT.InterpretableCluster(ls_num_tree_restarts=num_tree_restarts, ls_random_seed=seed, cp=complexity_c, max_depth=maxdepth,\n",
    "    minbucket=min_bucket, criterion=cr, ls_warmstart_criterion=cr, kmeans_warmstart=warm_start,\n",
    "    geom_search=geom_search, geom_threshold=threshold);\n",
    "run_time_icot_ls_none = @elapsed ICOT.fit!(lnr_ws_none, X, y);\n",
    "\n",
    "ICOT.showinbrowser(lnr_ws_none)\n",
    "# 30 mins without results\n"
   ]
  },
  {
   "cell_type": "code",
   "execution_count": null,
   "metadata": {},
   "outputs": [],
   "source": [
    "score_ws_none = ICOT.score(lnr_ws_none, X, y, criterion=:dunnindex);\n",
    "score_al_ws_none = ICOT.score(lnr_ws_none, X, y, criterion=:silhouette);"
   ]
  },
  {
   "cell_type": "code",
   "execution_count": null,
   "metadata": {},
   "outputs": [],
   "source": [
    "\n",
    "# Run ICOT with an OCT warm-start: fit an OCT as a supervised learning problem with labels \"y\" and use this as the warm-start\n",
    "warm_start = :oct\n",
    "lnr_ws_oct = ICOT.InterpretableCluster(ls_num_tree_restarts=num_tree_restarts, ls_random_seed=seed, cp=complexity_c, max_depth=maxdepth,\n",
    "    minbucket=min_bucket, criterion=cr, ls_warmstart_criterion=cr, kmeans_warmstart=warm_start,\n",
    "    geom_search=geom_search, geom_threshold=threshold);\n",
    "run_time_icot_ls_oct = @elapsed ICOT.fit!(lnr_ws_oct, X, y);\n",
    "\n",
    "score_ws_oct = ICOT.score(lnr_ws_oct, X, y, criterion=:dunnindex);\n",
    "score_al_ws_oct = ICOT.score(lnr_ws_oct, X, y, criterion=:silhouette);\n"
   ]
  },
  {
   "cell_type": "code",
   "execution_count": null,
   "metadata": {},
   "outputs": [],
   "source": [
    "\n",
    "score_ws_oct = ICOT.score(lnr_ws_oct, X, y, criterion=:dunnindex);\n",
    "score_al_ws_oct = ICOT.score(lnr_ws_oct, X, y, criterion=:silhouette);\n"
   ]
  },
  {
   "cell_type": "code",
   "execution_count": null,
   "metadata": {},
   "outputs": [],
   "source": []
  }
 ],
 "metadata": {
  "kernelspec": {
   "display_name": "Julia 1.1.0",
   "language": "julia",
   "name": "julia-1.1"
  },
  "language_info": {
   "file_extension": ".jl",
   "mimetype": "application/julia",
   "name": "julia",
   "version": "1.1.0"
  },
  "orig_nbformat": 4
 },
 "nbformat": 4,
 "nbformat_minor": 2
}
