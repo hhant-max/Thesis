{
 "cells": [
  {
   "cell_type": "code",
   "execution_count": 17,
   "metadata": {},
   "outputs": [],
   "source": [
    "using DataFrames, MLDataUtils\n",
    "using Clustering, Distances\n",
    "using CSV\n",
    "using Random\n",
    "using Logging\n",
    "using Printf\n",
    "\n",
    "# Set up Logging - we recommend to use this command to avoid package warnings during the model training process.\n",
    "logger = Logging.SimpleLogger(stderr, Logging.Warn);\n",
    "global_logger(logger);"
   ]
  },
  {
   "cell_type": "code",
   "execution_count": 2,
   "metadata": {},
   "outputs": [
    {
     "name": "stderr",
     "output_type": "stream",
     "text": [
      "┌ Warning: readtable is deprecated, use CSV.read from the CSV package instead\n",
      "│   caller = top-level scope at In[2]:17\n",
      "└ @ Core In[2]:17\n"
     ]
    }
   ],
   "source": [
    "#### Set parameters for the learners\n",
    "cr = :silhouette # VALIDATION criterion totrain ICOT\n",
    "method = \"ICOT_local\"\n",
    "warm_start = :oct; \n",
    "# in the paper,  awarmstart slution to intilazation algorithm, oct use kmeas labels as \n",
    "# as a uspervised algorithm. greedy option fits a cart tree to lebels? try? or not good as kmenas\n",
    "geom_search = true \n",
    "# s a boolean parameter that controls where the algorithm will enable the geometric component of the feature space search. See details in Section 3.3.1 of the paper.\n",
    "threshold = 0.99 # the percentile of gaps for each \n",
    "seed = 1\n",
    "gridsearch = true\n",
    "num_tree_restarts = 20\n",
    "# is an integer specifying the number of random restarts to use in the local search algorithm. Must be positive and defaults to 100. The performance of the tree typically increases as this value is increased, but with quickly diminishing returns. The computational cost of training increases linearly with this value.\n",
    "complexity_c = 0.0\n",
    "min_bucket = 100\n",
    "maxdepth = 5 # can change ! use grid search for tuning!\n",
    "\n",
    "###### Step 1: Prepare the data\n",
    "# Read the data - recommend the use of the (deprecated) readtable() command to avoid potential version conflicts with the CSV package.\n",
    "dataset = readtable(\"dataset_R.csv\"); \n",
    "# println(dataset[1, :])\n"
   ]
  },
  {
   "cell_type": "code",
   "execution_count": 21,
   "metadata": {},
   "outputs": [
    {
     "data": {
      "text/html": [
       "<table class=\"data-frame\"><thead><tr><th></th><th>android_permission_CAMERA</th><th>android_permission_READ_CONTACTS</th><th>android_permission_WRITE_CONTACTS</th></tr><tr><th></th><th>Float64⍰</th><th>Float64⍰</th><th>Float64⍰</th></tr></thead><tbody><p>4,020 rows × 698 columns (omitted printing of 695 columns)</p><tr><th>1</th><td>-0.436297</td><td>1.79316</td><td>-0.4029</td></tr><tr><th>2</th><td>-0.436297</td><td>1.79316</td><td>-0.4029</td></tr><tr><th>3</th><td>-0.436297</td><td>1.79316</td><td>-0.4029</td></tr><tr><th>4</th><td>-0.436297</td><td>1.79316</td><td>-0.4029</td></tr><tr><th>5</th><td>-0.436297</td><td>1.79316</td><td>-0.4029</td></tr><tr><th>6</th><td>-0.436297</td><td>1.79316</td><td>-0.4029</td></tr><tr><th>7</th><td>-0.436297</td><td>1.79316</td><td>-0.4029</td></tr><tr><th>8</th><td>-0.436297</td><td>1.79316</td><td>-0.4029</td></tr><tr><th>9</th><td>-0.436297</td><td>1.79316</td><td>-0.4029</td></tr><tr><th>10</th><td>-0.436297</td><td>1.79316</td><td>-0.4029</td></tr><tr><th>11</th><td>-0.436297</td><td>1.79316</td><td>-0.4029</td></tr><tr><th>12</th><td>-0.436297</td><td>1.79316</td><td>-0.4029</td></tr><tr><th>13</th><td>-0.436297</td><td>1.79316</td><td>-0.4029</td></tr><tr><th>14</th><td>-0.436297</td><td>1.79316</td><td>-0.4029</td></tr><tr><th>15</th><td>-0.436297</td><td>1.79316</td><td>-0.4029</td></tr><tr><th>16</th><td>-0.436297</td><td>1.79316</td><td>-0.4029</td></tr><tr><th>17</th><td>-0.436297</td><td>1.79316</td><td>-0.4029</td></tr><tr><th>18</th><td>-0.436297</td><td>1.79316</td><td>-0.4029</td></tr><tr><th>19</th><td>-0.436297</td><td>1.79316</td><td>-0.4029</td></tr><tr><th>20</th><td>-0.436297</td><td>1.79316</td><td>-0.4029</td></tr><tr><th>21</th><td>-0.436297</td><td>1.79316</td><td>-0.4029</td></tr><tr><th>22</th><td>-0.436297</td><td>1.79316</td><td>-0.4029</td></tr><tr><th>23</th><td>-0.436297</td><td>1.79316</td><td>-0.4029</td></tr><tr><th>24</th><td>-0.436297</td><td>1.79316</td><td>-0.4029</td></tr><tr><th>25</th><td>-0.436297</td><td>1.79316</td><td>-0.4029</td></tr><tr><th>26</th><td>-0.436297</td><td>1.79316</td><td>-0.4029</td></tr><tr><th>27</th><td>-0.436297</td><td>1.79316</td><td>-0.4029</td></tr><tr><th>28</th><td>-0.436297</td><td>1.79316</td><td>-0.4029</td></tr><tr><th>29</th><td>-0.436297</td><td>1.79316</td><td>-0.4029</td></tr><tr><th>30</th><td>-0.436297</td><td>1.79316</td><td>-0.4029</td></tr><tr><th>&vellip;</th><td>&vellip;</td><td>&vellip;</td><td>&vellip;</td></tr></tbody></table>"
      ],
      "text/latex": [
       "\\begin{tabular}{r|cccc}\n",
       "\t& android\\_permission\\_CAMERA & android\\_permission\\_READ\\_CONTACTS & android\\_permission\\_WRITE\\_CONTACTS & \\\\\n",
       "\t\\hline\n",
       "\t& Float64⍰ & Float64⍰ & Float64⍰ & \\\\\n",
       "\t\\hline\n",
       "\t1 & -0.436297 & 1.79316 & -0.4029 & $\\dots$ \\\\\n",
       "\t2 & -0.436297 & 1.79316 & -0.4029 & $\\dots$ \\\\\n",
       "\t3 & -0.436297 & 1.79316 & -0.4029 & $\\dots$ \\\\\n",
       "\t4 & -0.436297 & 1.79316 & -0.4029 & $\\dots$ \\\\\n",
       "\t5 & -0.436297 & 1.79316 & -0.4029 & $\\dots$ \\\\\n",
       "\t6 & -0.436297 & 1.79316 & -0.4029 & $\\dots$ \\\\\n",
       "\t7 & -0.436297 & 1.79316 & -0.4029 & $\\dots$ \\\\\n",
       "\t8 & -0.436297 & 1.79316 & -0.4029 & $\\dots$ \\\\\n",
       "\t9 & -0.436297 & 1.79316 & -0.4029 & $\\dots$ \\\\\n",
       "\t10 & -0.436297 & 1.79316 & -0.4029 & $\\dots$ \\\\\n",
       "\t11 & -0.436297 & 1.79316 & -0.4029 & $\\dots$ \\\\\n",
       "\t12 & -0.436297 & 1.79316 & -0.4029 & $\\dots$ \\\\\n",
       "\t13 & -0.436297 & 1.79316 & -0.4029 & $\\dots$ \\\\\n",
       "\t14 & -0.436297 & 1.79316 & -0.4029 & $\\dots$ \\\\\n",
       "\t15 & -0.436297 & 1.79316 & -0.4029 & $\\dots$ \\\\\n",
       "\t16 & -0.436297 & 1.79316 & -0.4029 & $\\dots$ \\\\\n",
       "\t17 & -0.436297 & 1.79316 & -0.4029 & $\\dots$ \\\\\n",
       "\t18 & -0.436297 & 1.79316 & -0.4029 & $\\dots$ \\\\\n",
       "\t19 & -0.436297 & 1.79316 & -0.4029 & $\\dots$ \\\\\n",
       "\t20 & -0.436297 & 1.79316 & -0.4029 & $\\dots$ \\\\\n",
       "\t21 & -0.436297 & 1.79316 & -0.4029 & $\\dots$ \\\\\n",
       "\t22 & -0.436297 & 1.79316 & -0.4029 & $\\dots$ \\\\\n",
       "\t23 & -0.436297 & 1.79316 & -0.4029 & $\\dots$ \\\\\n",
       "\t24 & -0.436297 & 1.79316 & -0.4029 & $\\dots$ \\\\\n",
       "\t25 & -0.436297 & 1.79316 & -0.4029 & $\\dots$ \\\\\n",
       "\t26 & -0.436297 & 1.79316 & -0.4029 & $\\dots$ \\\\\n",
       "\t27 & -0.436297 & 1.79316 & -0.4029 & $\\dots$ \\\\\n",
       "\t28 & -0.436297 & 1.79316 & -0.4029 & $\\dots$ \\\\\n",
       "\t29 & -0.436297 & 1.79316 & -0.4029 & $\\dots$ \\\\\n",
       "\t30 & -0.436297 & 1.79316 & -0.4029 & $\\dots$ \\\\\n",
       "\t$\\dots$ & $\\dots$ & $\\dots$ & $\\dots$ &  \\\\\n",
       "\\end{tabular}\n"
      ],
      "text/plain": [
       "4020×698 DataFrame. Omitted printing of 696 columns\n",
       "│ Row  │ android_permission_CAMERA │ android_permission_READ_CONTACTS │\n",
       "│      │ \u001b[90mUnion{Missing, Float64}\u001b[39m   │ \u001b[90mUnion{Missing, Float64}\u001b[39m          │\n",
       "├──────┼───────────────────────────┼──────────────────────────────────┤\n",
       "│ 1    │ -0.436297                 │ 1.79316                          │\n",
       "│ 2    │ -0.436297                 │ 1.79316                          │\n",
       "│ 3    │ -0.436297                 │ 1.79316                          │\n",
       "│ 4    │ -0.436297                 │ 1.79316                          │\n",
       "│ 5    │ -0.436297                 │ 1.79316                          │\n",
       "│ 6    │ -0.436297                 │ 1.79316                          │\n",
       "│ 7    │ -0.436297                 │ 1.79316                          │\n",
       "│ 8    │ -0.436297                 │ 1.79316                          │\n",
       "│ 9    │ -0.436297                 │ 1.79316                          │\n",
       "│ 10   │ -0.436297                 │ 1.79316                          │\n",
       "⋮\n",
       "│ 4010 │ -0.436297                 │ -0.557674                        │\n",
       "│ 4011 │ -0.436297                 │ -0.557674                        │\n",
       "│ 4012 │ -0.436297                 │ -0.557674                        │\n",
       "│ 4013 │ -0.436297                 │ -0.557674                        │\n",
       "│ 4014 │ -0.436297                 │ -0.557674                        │\n",
       "│ 4015 │ -0.436297                 │ -0.557674                        │\n",
       "│ 4016 │ -0.436297                 │ -0.557674                        │\n",
       "│ 4017 │ -0.436297                 │ -0.557674                        │\n",
       "│ 4018 │ -0.436297                 │ -0.557674                        │\n",
       "│ 4019 │ -0.436297                 │ -0.557674                        │\n",
       "│ 4020 │ -0.436297                 │ -0.557674                        │"
      ]
     },
     "execution_count": 21,
     "metadata": {},
     "output_type": "execute_result"
    }
   ],
   "source": [
    "# data_x = select(dataset, Not(:label))\n",
    "# data\n",
    "#seperate x and y\n",
    "true_label = dataset[:, end]\n",
    "data_x = dataset[:, 1:end-1]\n",
    "# Prepare data for ICOT: features are \n",
    "# stored in the matrix X, and the warm-start labels are stored in y\n",
    "X = data_full[:, 1:end-2];\n",
    "y = data_full[:, :true_labels];\n",
    "\n",
    "# train model \n",
    "\n",
    "data_array = convert(Matrix{Float64}, data_x);\n",
    "# Get the number of observations and features\n",
    "n, p = size(data_array)\n",
    "data_t = data_array';\n",
    "\n",
    "##### Step 2: Fit K-means clustering on the dataset to generate a warm-start for ICOT\n",
    "#Fix the seed\n",
    "Random.seed!(seed);\n",
    "\n",
    "# The ruspini dataset has pre-defined clusters, which we will use to select the cluster count (K) for the K-means algorithm. \n",
    "# In an unsupervised setting (with no prior-known K), the number of clusters for K means can be selected using the elbow method.\n",
    "K = 10\n",
    "\n",
    "# Run k-means and save the assignments \n",
    "kmeans_result = kmeans(data_t, K);\n",
    "assignment = kmeans_result.assignments;\n",
    "\n",
    "# concat data and feed into next model\n",
    "data_full = DataFrame(hcat(dataset, assignment, makeunique=true));\n",
    "\n",
    "#rename column\n",
    "if !hasproperty(data_full, :true_labels)\n",
    "    rename!(data_full, :label => :true_labels)\n",
    "elseif !hasproperty(data_full, :kmean_assign)\n",
    "    rename!(data_full, :x1 => :kmean_assign)\n",
    "else\n",
    "    println(\"all done\")\n",
    "end"
   ]
  },
  {
   "cell_type": "code",
   "execution_count": 23,
   "metadata": {},
   "outputs": [
    {
     "data": {
      "text/plain": [
       "icot (generic function with 1 method)"
      ]
     },
     "execution_count": 23,
     "metadata": {},
     "output_type": "execute_result"
    }
   ],
   "source": [
    "\n",
    "\n",
    "# Run ICOT with an OCT warm-start: fit an OCT as a supervised learning problem with labels \"y\" and use this as the warm-start\n",
    "function icot(maxdepth)\n",
    "    warm_start = :oct\n",
    "    lnr_ws_oct = ICOT.InterpretableCluster(ls_num_tree_restarts=num_tree_restarts, ls_random_seed=seed, cp=complexity_c, max_depth=maxdepth,\n",
    "        minbucket=min_bucket, criterion=cr, ls_warmstart_criterion=cr, kmeans_warmstart=warm_start,\n",
    "        geom_search=geom_search, geom_threshold=threshold)\n",
    "    run_time_icot_ls_oct = @elapsed ICOT.fit!(lnr_ws_oct, X, y)\n",
    "\n",
    "    score_ws_oct = ICOT.score(lnr_ws_oct, X, y, criterion=:dunnindex)\n",
    "    score_al_ws_oct = ICOT.score(lnr_ws_oct, X, y, criterion=:silhouette)\n",
    "    ICOT.showinbrowser(lnr_ws_oct)\n",
    "\n",
    "    @printf(\"dunnindex = %.4f\\n\", float(score_ws_oct))\n",
    "    @printf(\"silhouette = %.4f\\n\", float(score_al_ws_oct))\n",
    "\n",
    "end\n"
   ]
  },
  {
   "cell_type": "code",
   "execution_count": null,
   "metadata": {},
   "outputs": [],
   "source": [
    "# grid search for max max_depth\n",
    "# unknown cannot use for gridsearch\n",
    "# for maxdepth in [4, 5, 6, 7, 8, 9, 10]\n",
    "#     @time begin\n",
    "#     @printf(\"MAXDEPTH = %1i\\n\", maxdepth)\n",
    "#     icot(maxdepth)\n",
    "#     end\n",
    "# end"
   ]
  },
  {
   "cell_type": "code",
   "execution_count": 26,
   "metadata": {},
   "outputs": [
    {
     "name": "stderr",
     "output_type": "stream",
     "text": [
      "┌ Warning: implicit `dims=2` argument now has to be passed explicitly to specify that distances between columns should be computed\n",
      "│   caller = ip:0x0\n",
      "└ @ Core :-1\n",
      "┌ Warning: This copy of Interpretable AI software is for academic purposes only and not for commercial use.\n",
      "└ @ IAIBase /home/iai/.julia/packages/IAIBase/pOrUV/src/precompile.jl:19\n",
      "\u001b[32mTraining trees...100%|██████████████████████████████████| Time: 0:00:29\u001b[39m\n",
      "\u001b[32mTraining trees...100%|██████████████████████████████████| Time: 0:00:31\u001b[39m\n",
      "┌ Warning: `getindex(df::DataFrame, col_ind::ColumnIndex)` is deprecated, use `df[!, col_ind]` instead.\n",
      "│   caller = dunn_score(::Array{Float64,2}, ::Array{Int64,1}) at clustering_tree.jl:132\n",
      "└ @ ICOT /home/iai/.julia/packages/ICOT/34UmY/src/clustering/clustering_tree.jl:132\n",
      "\u001b[32mTraining trees...100%|██████████████████████████████████| Time: 0:00:22\u001b[39m\n",
      "\u001b[32mTraining trees...100%|██████████████████████████████████| Time: 0:00:31\u001b[39m\n",
      "\u001b[32mTraining trees...  1%|▍                                 |  ETA: 0:05:06\u001b[39m:08\u001b[39m"
     ]
    },
    {
     "ename": "InterruptException",
     "evalue": "\u001b[91mInterruptException:\u001b[39m",
     "output_type": "error",
     "traceback": [
      "\u001b[91mInterruptException:\u001b[39m",
      "",
      "Stacktrace:",
      " [1] Type at ./boot.jl:402 [inlined]",
      " [2] randperm at /buildworker/worker/package_linux64/build/usr/share/julia/stdlib/v1.1/Random/src/misc.jl:279 [inlined]",
      " [3] local_search!(::IAITrees.Tree{IAIBase.ClassificationTask,IAITrees.Node{IAIBase.ClassificationTask,IAIBase.ClassificationFit}}, ::OptimalTrees.LocalSearcher{IAIBase.ClassificationTask,OptimalTrees.ClassificationEvaluator{IAIBase.Misclassification},IAIBase.ClassificationTarget,IAITrees.Node{IAIBase.ClassificationTask,IAIBase.ClassificationFit}}) at /home/iai/.julia/packages/OptimalTrees/qi0TN/src/localsearch/search.jl:83",
      " [4] run_worker!(::OptimalTrees.LocalSearcher{IAIBase.ClassificationTask,OptimalTrees.ClassificationEvaluator{IAIBase.Misclassification},IAIBase.ClassificationTarget,IAITrees.Node{IAIBase.ClassificationTask,IAIBase.ClassificationFit}}, ::OptimalTrees.LocalSearcher{IAIBase.ClassificationTask,OptimalTrees.ClassificationEvaluator{IAIBase.Gini},IAIBase.ClassificationTarget,IAITrees.Node{IAIBase.ClassificationTask,IAIBase.ClassificationFit}}, ::Distributed.RemoteChannel{Channel{Bool}}, ::UnitRange{Int64}) at /home/iai/.julia/packages/OptimalTrees/qi0TN/src/localsearch/distributed.jl:102",
      " [5] run_worker! at /home/iai/.julia/packages/OptimalTrees/qi0TN/src/localsearch/distributed.jl:61 [inlined]",
      " [6] run_distributed!(::Tuple{OptimalTrees.LocalSearcher{IAIBase.ClassificationTask,OptimalTrees.ClassificationEvaluator{IAIBase.Misclassification},IAIBase.ClassificationTarget,IAITrees.Node{IAIBase.ClassificationTask,IAIBase.ClassificationFit}},OptimalTrees.LocalSearcher{IAIBase.ClassificationTask,OptimalTrees.ClassificationEvaluator{IAIBase.Gini},IAIBase.ClassificationTarget,IAITrees.Node{IAIBase.ClassificationTask,IAIBase.ClassificationFit}},Distributed.RemoteChannel{Channel{Bool}}}, ::typeof(OptimalTrees.run_worker!), ::Int64, ::Array{Int64,1}) at /home/iai/.julia/packages/IAIBase/pOrUV/src/utils/distributed.jl:46",
      " [7] macro expansion at /home/iai/.julia/packages/OptimalTrees/qi0TN/src/localsearch/distributed.jl:34 [inlined]",
      " [8] macro expansion at ./task.jl:244 [inlined]",
      " [9] _fit!(::OptimalTrees.OptimalTreeClassifier) at /home/iai/.julia/packages/OptimalTrees/qi0TN/src/localsearch/distributed.jl:29",
      " [10] #_fit!#142 at /home/iai/.julia/packages/IAIBase/pOrUV/src/api.jl:143 [inlined]",
      " [11] _fit! at /home/iai/.julia/packages/IAIBase/pOrUV/src/api.jl:142 [inlined]",
      " [12] #fit!#213 at /home/iai/.julia/packages/IAIBase/pOrUV/src/api.jl:51 [inlined]",
      " [13] (::getfield(IAIBase, Symbol(\"#kw##fit!\")))(::NamedTuple{(:sample_weight,),Tuple{Nothing}}, ::typeof(IAIBase.fit!), ::OptimalTrees.OptimalTreeClassifier, ::SubArray{Float64,2,Array{Float64,2},Tuple{Array{Int64,1},Base.Slice{Base.OneTo{Int64}}},false}, ::SubArray{Int64,1,Array{Int64,1},Tuple{Array{Int64,1}},false}) at ./none:0",
      " [14] #grid_fit!#67(::Base.Iterators.Pairs{Union{},Union{},Tuple{},NamedTuple{(),Tuple{}}}, ::Function, ::OptimalTrees.OptimalTreeClassifier, ::Tuple{Array{Int64,1},Array{Int64,1}}, ::Dict{Symbol,Any}, ::Symbol, ::Array{Float64,2}, ::Nothing, ::Array{Int64,1}) at /home/iai/.julia/packages/IAITrees/mGpqH/src/gridsearch.jl:94",
      " [15] grid_fit! at /home/iai/.julia/packages/IAITrees/mGpqH/src/gridsearch.jl:75 [inlined]",
      " [16] #_fit!#118(::Bool, ::Base.Iterators.Pairs{Union{},Union{},Tuple{},NamedTuple{(),Tuple{}}}, ::Function, ::IAIBase.GridSearch{OptimalTrees.OptimalTreeClassifier,IAITrees.TreeGridResult}, ::Array{Float64,2}, ::Nothing, ::Symbol, ::Array{Int64,1}) at /home/iai/.julia/packages/IAIBase/pOrUV/src/gridsearch.jl:387",
      " [17] _fit! at /home/iai/.julia/packages/IAIBase/pOrUV/src/gridsearch.jl:375 [inlined]",
      " [18] #_fit!#117 at /home/iai/.julia/packages/IAIBase/pOrUV/src/gridsearch.jl:360 [inlined]",
      " [19] _fit! at /home/iai/.julia/packages/IAIBase/pOrUV/src/gridsearch.jl:360 [inlined]",
      " [20] #_fit!#115(::Base.Iterators.Pairs{Union{},Union{},Tuple{},NamedTuple{(),Tuple{}}}, ::Function, ::IAIBase.GridSearch{OptimalTrees.OptimalTreeClassifier,IAITrees.TreeGridResult}, ::Array{Float64,2}, ::Nothing, ::Float64, ::Array{Int64,1}) at /home/iai/.julia/packages/IAIBase/pOrUV/src/gridsearch.jl:286",
      " [21] _fit! at /home/iai/.julia/packages/IAIBase/pOrUV/src/gridsearch.jl:282 [inlined]",
      " [22] #fit!#215 at /home/iai/.julia/packages/IAIBase/pOrUV/src/api.jl:96 [inlined]",
      " [23] fit! at /home/iai/.julia/packages/IAIBase/pOrUV/src/api.jl:96 [inlined]",
      " [24] k_means_search!(::ICOT.Tree{ICOT.ClusteringTask,ICOT.Node{ICOT.ClusteringTask,ICOT.ClusteringFit}}, ::ICOT.InterpretableCluster, ::Symbol) at /home/iai/.julia/packages/ICOT/34UmY/src/localsearch/k_means_warmstart.jl:17",
      " [25] run_worker!(::ICOT.InterpretableCluster, ::UnitRange{Int64}) at /home/iai/.julia/packages/ICOT/34UmY/src/localsearch/distributed.jl:113",
      " [26] fit_heuristic_localsearch!(::ICOT.InterpretableCluster) at /home/iai/.julia/packages/ICOT/34UmY/src/localsearch/distributed.jl:63",
      " [27] _fit!(::ICOT.InterpretableCluster, ::DataFrame, ::Nothing, ::Array{Union{Missing, Int64},1}) at /home/iai/.julia/packages/ICOT/34UmY/src/api.jl:217",
      " [28] #fit!#117 at /home/iai/.julia/packages/ICOT/34UmY/src/api.jl:33 [inlined]",
      " [29] fit!(::ICOT.InterpretableCluster, ::DataFrame, ::Array{Union{Missing, Int64},1}) at /home/iai/.julia/packages/ICOT/34UmY/src/api.jl:33",
      " [30] macro expansion at ./util.jl:213 [inlined]",
      " [31] icot(::Int64) at ./In[23]:9",
      " [32] top-level scope at In[26]:1"
     ]
    }
   ],
   "source": [
    "# @printf(\"MAXDEPTH = %1i\\n\", maxdepth)\n",
    "icot(3)"
   ]
  },
  {
   "cell_type": "code",
   "execution_count": null,
   "metadata": {},
   "outputs": [],
   "source": []
  }
 ],
 "metadata": {
  "kernelspec": {
   "display_name": "Julia 1.1.0",
   "language": "julia",
   "name": "julia-1.1"
  },
  "language_info": {
   "file_extension": ".jl",
   "mimetype": "application/julia",
   "name": "julia",
   "version": "1.1.0"
  },
  "orig_nbformat": 4
 },
 "nbformat": 4,
 "nbformat_minor": 2
}
