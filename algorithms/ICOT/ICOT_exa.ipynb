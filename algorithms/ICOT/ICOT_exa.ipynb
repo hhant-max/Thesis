{
 "cells": [
  {
   "cell_type": "code",
   "execution_count": 1,
   "metadata": {},
   "outputs": [
    {
     "name": "stderr",
     "output_type": "stream",
     "text": [
      "┌ Warning: readtable is deprecated, use CSV.read from the CSV package instead\n",
      "│   caller = top-level scope at In[1]:23\n",
      "└ @ Core In[1]:23\n",
      "┌ Warning: `names!(df::AbstractDataFrame, vals::Vector{Symbol}; makeunique::Bool=false)` is deprecated, use `rename!(df, vals, makeunique=makeunique)` instead.\n",
      "│   caller = top-level scope at In[1]:47\n",
      "└ @ Core In[1]:47\n"
     ]
    }
   ],
   "source": [
    "using DataFrames, MLDataUtils\n",
    "using Clustering, Distances\n",
    "using CSV\n",
    "using Random\n",
    "using Logging\n",
    "\n",
    "# Set up Logging - we recommend to use this command to avoid package warnings during the model training process.\n",
    "logger = Logging.SimpleLogger(stderr,Logging.Warn);\n",
    "global_logger(logger);\n",
    "\n",
    "#### Set parameters for the learners\n",
    "cr = :dunnindex\n",
    "method = \"ICOT_local\"\n",
    "warm_start = :none;\n",
    "geom_search = false\n",
    "threshold = 0.0\n",
    "seed = 1\n",
    "gridsearch = false\n",
    "num_tree_restarts = 100\n",
    "complexity_c = 0.0\n",
    "min_bucket = 10\n",
    "maxdepth = 5\n",
    "\n",
    "###### Step 1: Prepare the data\n",
    "# Read the data - recommend the use of the (deprecated) readtable() command to avoid potential version conflicts with the CSV package.\n",
    "data = readtable(\"ruspini.csv\"); \n",
    "\n",
    "# Convert the dataset to a matrix\n",
    "data_array = convert(Matrix{Float64}, data);\n",
    "# Get the number of observations and features\n",
    "n, p = size(data_array)\n",
    "data_t = data_array';\n",
    "\n",
    "##### Step 2: Fit K-means clustering on the dataset to generate a warm-start for ICOT\n",
    "#Fix the seed\n",
    "Random.seed!(seed);\n",
    "\n",
    "# The ruspini dataset has pre-defined clusters, which we will use to select the cluster count (K) for the K-means algorithm. \n",
    "# In an unsupervised setting (with no prior-known K), the number of clusters for K means can be selected using the elbow method.\n",
    "K = length(unique(data_array[:,end]))\n",
    "\n",
    "# Run k-means and save the assignments \n",
    "kmeans_result = kmeans(data_t, K);\n",
    "assignment = kmeans_result.assignments;\n",
    "\n",
    "data_full = DataFrame(hcat(data, assignment, makeunique=true));\n",
    "names!(data_full, [:x1, :x2, :true_labels, :kmean_assign]);\n",
    "\n",
    "# Prepare data for ICOT: features are stored in the matrix X, and the warm-start labels are stored in y\n",
    "X = data_full[:,1:2]; y = data_full[:,:true_labels];\n"
   ]
  },
  {
   "cell_type": "code",
   "execution_count": 2,
   "metadata": {},
   "outputs": [
    {
     "name": "stderr",
     "output_type": "stream",
     "text": [
      "┌ Warning: This copy of Interpretable AI software is for academic purposes only and not for commercial use.\n",
      "└ @ IAIBase /home/iai/.julia/packages/IAIBase/pOrUV/src/precompile.jl:19\n",
      "┌ Warning: `showinbrowser(args...; kwargs...)` is deprecated, use `show_in_browser(args...; kwargs...)` instead.\n",
      "│   caller = top-level scope at In[2]:9\n",
      "└ @ Core In[2]:9\n",
      "┌ Warning: implicit `dims=2` argument now has to be passed explicitly to specify that distances between columns should be computed\n",
      "│   caller = ip:0x0\n",
      "└ @ Core :-1\n",
      "\u001b[32mTraining trees...100%|██████████████████████████████████| Time: 0:00:02\u001b[39m\n",
      "┌ Warning: `getindex(df::DataFrame, col_ind::ColumnIndex)` is deprecated, use `df[!, col_ind]` instead.\n",
      "│   caller = dunn_score(::Array{Float64,2}, ::Array{Int64,1}) at clustering_tree.jl:132\n",
      "└ @ ICOT /home/iai/.julia/packages/ICOT/34UmY/src/clustering/clustering_tree.jl:132\n",
      "\u001b[32mTraining trees...100%|██████████████████████████████████| Time: 0:00:24\u001b[39m\n"
     ]
    }
   ],
   "source": [
    "\n",
    "##### Step 3a. Before running ICOT, start by testing the IAI license\n",
    "lnr_oct = ICOT.IAI.OptimalTreeClassifier(localsearch = false, max_depth = maxdepth,\n",
    "\t\t\t\t\t\t\t\t\t\t\t\t\t minbucket = min_bucket,\n",
    "\t\t\t\t\t\t\t\t\t\t\t\t\t criterion = :misclassification\n",
    "\t\t\t\t\t\t\t\t\t\t\t\t\t )\n",
    "grid = ICOT.IAI.GridSearch(lnr_oct)\n",
    "ICOT.IAI.fit!(grid, X, y)\n",
    "ICOT.IAI.showinbrowser(grid.lnr)\n",
    "\n",
    "##### Step 3b. Run ICOT\n",
    "\n",
    "# Run ICOT with no warm-start: \n",
    "# warm_start= :none\n",
    "# lnr_ws_none = ICOT.InterpretableCluster(ls_num_tree_restarts = num_tree_restarts, ls_random_seed = seed, cp = complexity_c, max_depth = maxdepth,\n",
    "# \tminbucket = min_bucket, criterion = cr, ls_warmstart_criterion = cr, kmeans_warmstart = warm_start,\n",
    "# \tgeom_search = geom_search, geom_threshold = threshold);\n",
    "# run_time_icot_ls_none = @elapsed ICOT.fit!(lnr_ws_none, X, y);\n",
    "\n",
    "# ICOT.showinbrowser(lnr_ws_none)\n",
    "\n",
    "# score_ws_none = ICOT.score(lnr_ws_none, X, y, criterion=:dunnindex);\n",
    "# score_al_ws_none = ICOT.score(lnr_ws_none, X, y, criterion=:silhouette);\n",
    "\n",
    "# Run ICOT with an OCT warm-start: fit an OCT as a supervised learning problem with labels \"y\" and use this as the warm-start\n",
    "warm_start= :oct\n",
    "lnr_ws_oct = ICOT.InterpretableCluster(ls_num_tree_restarts = num_tree_restarts, ls_random_seed = seed, cp = complexity_c, max_depth = maxdepth,\n",
    "\tminbucket = min_bucket, criterion = cr, ls_warmstart_criterion = cr, kmeans_warmstart = warm_start,\n",
    "\tgeom_search = geom_search, geom_threshold = threshold);\n",
    "run_time_icot_ls_oct = @elapsed ICOT.fit!(lnr_ws_oct, X, y);\n",
    "\n",
    "score_ws_oct = ICOT.score(lnr_ws_oct, X, y, criterion=:dunnindex);\n",
    "score_al_ws_oct = ICOT.score(lnr_ws_oct, X, y, criterion=:silhouette);\n",
    "\n",
    "##### Comments\n",
    "# Note that in this example, the OCT tree and ICOT (OCT warm-start, or no warm-start) result in the same solution. \n",
    "# This is not generally the case, but can occur when the data is easily separated (as in the ruspini dataset)\n",
    "\n",
    "# The score printed in the browser view is negative to reflect the formulation as a minimization problem.\n",
    "# The positive score returned by the ICOT.score() functions reflect the \"correct\" interpretation of the score, \n",
    "# in which we seek to maximize the criterion (with a maximum value of 1).\n",
    "\n",
    "# For larger datasets, we recommend setting warm_start = :oct and threshold = 0.99 to improve the solve time."
   ]
  },
  {
   "cell_type": "code",
   "execution_count": 10,
   "metadata": {},
   "outputs": [
    {
     "data": {
      "text/plain": [
       ":oct"
      ]
     },
     "execution_count": 10,
     "metadata": {},
     "output_type": "execute_result"
    }
   ],
   "source": [
    ":oct"
   ]
  },
  {
   "cell_type": "code",
   "execution_count": null,
   "metadata": {},
   "outputs": [],
   "source": []
  }
 ],
 "metadata": {
  "kernelspec": {
   "display_name": "Julia 1.1.0",
   "language": "julia",
   "name": "julia-1.1"
  },
  "language_info": {
   "file_extension": ".jl",
   "mimetype": "application/julia",
   "name": "julia",
   "version": "1.1.0"
  },
  "orig_nbformat": 4
 },
 "nbformat": 4,
 "nbformat_minor": 2
}
