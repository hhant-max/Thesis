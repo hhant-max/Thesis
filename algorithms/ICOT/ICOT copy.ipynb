{
 "cells": [
  {
   "cell_type": "code",
   "execution_count": 2,
   "metadata": {},
   "outputs": [],
   "source": [
    "using DataFrames, MLDataUtils\n",
    "using Clustering, Distances\n",
    "using CSV\n",
    "using Random\n",
    "using Logging\n",
    "using Printf\n",
    "\n",
    "# Set up Logging - we recommend to use this command to avoid package warnings during the model training process.\n",
    "logger = Logging.SimpleLogger(stderr, Logging.Warn);\n",
    "global_logger(logger);"
   ]
  },
  {
   "cell_type": "code",
   "execution_count": 3,
   "metadata": {},
   "outputs": [
    {
     "name": "stderr",
     "output_type": "stream",
     "text": [
      "┌ Warning: readtable is deprecated, use CSV.read from the CSV package instead\n",
      "│   caller = top-level scope at In[3]:17\n",
      "└ @ Core In[3]:17\n"
     ]
    }
   ],
   "source": [
    "#### Set parameters for the learners\n",
    "cr = :silhouette # VALIDATION criterion totrain ICOT\n",
    "method = \"ICOT_local\"\n",
    "warm_start = :oct; \n",
    "# in the paper,  awarmstart slution to intilazation algorithm, oct use kmeas labels as \n",
    "# as a uspervised algorithm. greedy option fits a cart tree to lebels? try? or not good as kmenas\n",
    "geom_search = true \n",
    "# s a boolean parameter that controls where the algorithm will enable the geometric component of the feature space search. See details in Section 3.3.1 of the paper.\n",
    "threshold = 0.99 # the percentile of gaps for each \n",
    "seed = 1\n",
    "gridsearch = false\n",
    "num_tree_restarts = 20\n",
    "# is an integer specifying the number of random restarts to use in the local search algorithm. Must be positive and defaults to 100. The performance of the tree typically increases as this value is increased, but with quickly diminishing returns. The computational cost of training increases linearly with this value.\n",
    "complexity_c = 0.0\n",
    "min_bucket = 100\n",
    "maxdepth = 5 # can change ! use grid search for tuning!\n",
    "\n",
    "###### Step 1: Prepare the data\n",
    "# Read the data - recommend the use of the (deprecated) readtable() command to avoid potential version conflicts with the CSV package.\n",
    "dataset = readtable(\"/home/sfy/Documents/VScodeProject/Thesis/algorithms/dataset_Scaler.csv\"); \n",
    "# println(dataset[1, :])\n"
   ]
  },
  {
   "cell_type": "code",
   "execution_count": 4,
   "metadata": {},
   "outputs": [
    {
     "data": {
      "text/html": [
       "<table class=\"data-frame\"><thead><tr><th></th><th>android_content_Context_getSystemService</th><th>java_net_URL_openConnection</th><th>android_net_ConnectivityManager_getActiveNetworkInfo</th></tr><tr><th></th><th>Float64⍰</th><th>Float64⍰</th><th>Float64⍰</th></tr></thead><tbody><p>5,460 rows × 211 columns (omitted printing of 208 columns)</p><tr><th>1</th><td>-0.5042</td><td>-0.6994</td><td>-0.3466</td></tr><tr><th>2</th><td>-0.5042</td><td>-0.6994</td><td>-0.3466</td></tr><tr><th>3</th><td>-0.5042</td><td>-0.6994</td><td>-0.3466</td></tr><tr><th>4</th><td>-0.5042</td><td>-0.6994</td><td>-0.3466</td></tr><tr><th>5</th><td>-0.5042</td><td>-0.6994</td><td>-0.3466</td></tr><tr><th>6</th><td>-0.5042</td><td>-0.6994</td><td>-0.3466</td></tr><tr><th>7</th><td>-0.4686</td><td>-0.2915</td><td>-0.3466</td></tr><tr><th>8</th><td>-0.4686</td><td>-0.2915</td><td>-0.3466</td></tr><tr><th>9</th><td>-0.4686</td><td>-0.2915</td><td>-0.3466</td></tr><tr><th>10</th><td>-0.4686</td><td>-0.2915</td><td>-0.3466</td></tr><tr><th>11</th><td>-0.4686</td><td>-0.2915</td><td>-0.3466</td></tr><tr><th>12</th><td>-0.4686</td><td>-0.2915</td><td>-0.3466</td></tr><tr><th>13</th><td>-0.4686</td><td>-0.2915</td><td>-0.3466</td></tr><tr><th>14</th><td>-0.4686</td><td>-0.2915</td><td>-0.3466</td></tr><tr><th>15</th><td>-0.4686</td><td>-0.2915</td><td>-0.3466</td></tr><tr><th>16</th><td>-0.4686</td><td>-0.2915</td><td>-0.3466</td></tr><tr><th>17</th><td>-0.4686</td><td>-0.2915</td><td>-0.3466</td></tr><tr><th>18</th><td>-0.4686</td><td>-0.2915</td><td>-0.3466</td></tr><tr><th>19</th><td>-0.4686</td><td>-0.2915</td><td>-0.3466</td></tr><tr><th>20</th><td>-0.4686</td><td>-0.2915</td><td>-0.3466</td></tr><tr><th>21</th><td>-0.4686</td><td>-0.2915</td><td>-0.3466</td></tr><tr><th>22</th><td>-0.4686</td><td>-0.2915</td><td>-0.3466</td></tr><tr><th>23</th><td>-0.4686</td><td>-0.2915</td><td>-0.3466</td></tr><tr><th>24</th><td>-0.4686</td><td>-0.2915</td><td>-0.3466</td></tr><tr><th>25</th><td>-0.4686</td><td>-0.2915</td><td>-0.3466</td></tr><tr><th>26</th><td>-0.4686</td><td>-0.2915</td><td>-0.3466</td></tr><tr><th>27</th><td>-0.4686</td><td>-0.2915</td><td>-0.3466</td></tr><tr><th>28</th><td>-0.4686</td><td>-0.1555</td><td>-0.1981</td></tr><tr><th>29</th><td>-0.4686</td><td>-0.2915</td><td>-0.3466</td></tr><tr><th>30</th><td>-0.3618</td><td>-0.6994</td><td>-0.3466</td></tr><tr><th>&vellip;</th><td>&vellip;</td><td>&vellip;</td><td>&vellip;</td></tr></tbody></table>"
      ],
      "text/latex": [
       "\\begin{tabular}{r|cccc}\n",
       "\t& android\\_content\\_Context\\_getSystemService & java\\_net\\_URL\\_openConnection & android\\_net\\_ConnectivityManager\\_getActiveNetworkInfo & \\\\\n",
       "\t\\hline\n",
       "\t& Float64⍰ & Float64⍰ & Float64⍰ & \\\\\n",
       "\t\\hline\n",
       "\t1 & -0.5042 & -0.6994 & -0.3466 & $\\dots$ \\\\\n",
       "\t2 & -0.5042 & -0.6994 & -0.3466 & $\\dots$ \\\\\n",
       "\t3 & -0.5042 & -0.6994 & -0.3466 & $\\dots$ \\\\\n",
       "\t4 & -0.5042 & -0.6994 & -0.3466 & $\\dots$ \\\\\n",
       "\t5 & -0.5042 & -0.6994 & -0.3466 & $\\dots$ \\\\\n",
       "\t6 & -0.5042 & -0.6994 & -0.3466 & $\\dots$ \\\\\n",
       "\t7 & -0.4686 & -0.2915 & -0.3466 & $\\dots$ \\\\\n",
       "\t8 & -0.4686 & -0.2915 & -0.3466 & $\\dots$ \\\\\n",
       "\t9 & -0.4686 & -0.2915 & -0.3466 & $\\dots$ \\\\\n",
       "\t10 & -0.4686 & -0.2915 & -0.3466 & $\\dots$ \\\\\n",
       "\t11 & -0.4686 & -0.2915 & -0.3466 & $\\dots$ \\\\\n",
       "\t12 & -0.4686 & -0.2915 & -0.3466 & $\\dots$ \\\\\n",
       "\t13 & -0.4686 & -0.2915 & -0.3466 & $\\dots$ \\\\\n",
       "\t14 & -0.4686 & -0.2915 & -0.3466 & $\\dots$ \\\\\n",
       "\t15 & -0.4686 & -0.2915 & -0.3466 & $\\dots$ \\\\\n",
       "\t16 & -0.4686 & -0.2915 & -0.3466 & $\\dots$ \\\\\n",
       "\t17 & -0.4686 & -0.2915 & -0.3466 & $\\dots$ \\\\\n",
       "\t18 & -0.4686 & -0.2915 & -0.3466 & $\\dots$ \\\\\n",
       "\t19 & -0.4686 & -0.2915 & -0.3466 & $\\dots$ \\\\\n",
       "\t20 & -0.4686 & -0.2915 & -0.3466 & $\\dots$ \\\\\n",
       "\t21 & -0.4686 & -0.2915 & -0.3466 & $\\dots$ \\\\\n",
       "\t22 & -0.4686 & -0.2915 & -0.3466 & $\\dots$ \\\\\n",
       "\t23 & -0.4686 & -0.2915 & -0.3466 & $\\dots$ \\\\\n",
       "\t24 & -0.4686 & -0.2915 & -0.3466 & $\\dots$ \\\\\n",
       "\t25 & -0.4686 & -0.2915 & -0.3466 & $\\dots$ \\\\\n",
       "\t26 & -0.4686 & -0.2915 & -0.3466 & $\\dots$ \\\\\n",
       "\t27 & -0.4686 & -0.2915 & -0.3466 & $\\dots$ \\\\\n",
       "\t28 & -0.4686 & -0.1555 & -0.1981 & $\\dots$ \\\\\n",
       "\t29 & -0.4686 & -0.2915 & -0.3466 & $\\dots$ \\\\\n",
       "\t30 & -0.3618 & -0.6994 & -0.3466 & $\\dots$ \\\\\n",
       "\t$\\dots$ & $\\dots$ & $\\dots$ & $\\dots$ &  \\\\\n",
       "\\end{tabular}\n"
      ],
      "text/plain": [
       "5460×211 DataFrame. Omitted printing of 210 columns\n",
       "│ Row  │ android_content_Context_getSystemService │\n",
       "│      │ \u001b[90mUnion{Missing, Float64}\u001b[39m                  │\n",
       "├──────┼──────────────────────────────────────────┤\n",
       "│ 1    │ -0.5042                                  │\n",
       "│ 2    │ -0.5042                                  │\n",
       "│ 3    │ -0.5042                                  │\n",
       "│ 4    │ -0.5042                                  │\n",
       "│ 5    │ -0.5042                                  │\n",
       "│ 6    │ -0.5042                                  │\n",
       "│ 7    │ -0.4686                                  │\n",
       "│ 8    │ -0.4686                                  │\n",
       "│ 9    │ -0.4686                                  │\n",
       "│ 10   │ -0.4686                                  │\n",
       "⋮\n",
       "│ 5450 │ 0.7414                                   │\n",
       "│ 5451 │ 1.0261                                   │\n",
       "│ 5452 │ 0.172                                    │\n",
       "│ 5453 │ -0.3262                                  │\n",
       "│ 5454 │ 0.5991                                   │\n",
       "│ 5455 │ 0.7414                                   │\n",
       "│ 5456 │ 0.8838                                   │\n",
       "│ 5457 │ -0.1839                                  │\n",
       "│ 5458 │ 0.5991                                   │\n",
       "│ 5459 │ 0.7414                                   │\n",
       "│ 5460 │ 0.8126                                   │"
      ]
     },
     "execution_count": 4,
     "metadata": {},
     "output_type": "execute_result"
    }
   ],
   "source": [
    "# data_x = select(dataset, Not(:label))\n",
    "# data\n",
    "#seperate x and y\n",
    "true_label = dataset[:, end]\n",
    "data_x = dataset[:, 1:end-1]\n",
    "\n",
    "# train model \n",
    "\n",
    "data_array = convert(Matrix{Float64}, data_x);\n",
    "# Get the number of observations and features\n",
    "n, p = size(data_array)\n",
    "data_t = data_array';\n",
    "\n",
    "##### Step 2: Fit K-means clustering on the dataset to generate a warm-start for ICOT\n",
    "#Fix the seed\n",
    "Random.seed!(seed);\n",
    "\n",
    "# The ruspini dataset has pre-defined clusters, which we will use to select the cluster count (K) for the K-means algorithm. \n",
    "# In an unsupervised setting (with no prior-known K), the number of clusters for K means can be selected using the elbow method.\n",
    "K = 10\n",
    "\n",
    "# Run k-means and save the assignments \n",
    "kmeans_result = kmeans(data_t, K);\n",
    "assignment = kmeans_result.assignments;\n",
    "\n",
    "# concat data and feed into next model\n",
    "data_full = DataFrame(hcat(dataset, assignment, makeunique=true));\n",
    "\n",
    "#rename column\n",
    "if !hasproperty(data_full, :true_labels)\n",
    "    rename!(data_full, :label => :true_labels)\n",
    "end\n",
    "\n",
    "if !hasproperty(data_full, :kmean_assign)\n",
    "    rename!(data_full, :x1 => :kmean_assign)\n",
    "end"
   ]
  },
  {
   "cell_type": "code",
   "execution_count": 5,
   "metadata": {},
   "outputs": [
    {
     "name": "stdout",
     "output_type": "stream",
     "text": [
      "DataFrameRow\n",
      "│ Row │ android_content_Context_getSystemService │ java_net_URL_openConnection │ android_net_ConnectivityManager_getActiveNetworkInfo │ javax_crypto_Cipher_init │ android_content_pm_PackageManager_getPackageInfo │ android_telephony_TelephonyManager_getDeviceId │ android_net_wifi_WifiManager_setWifiEnabled │ android_permission_READ_CALL_LOG │ android_os_PowerManager_WakeLock_release │ android_provider_Settings_System_putInt │ java_lang_Throwable_printStackTrace │ android_net_wifi_WifiManager_getConnectionInfo │ android_net_wifi_WifiManager_WifiLock_acquire │ android_telephony_TelephonyManager_getCellLocation │ android_os_PowerManager_WakeLock_acquire │ android_widget_VideoView_start │ android_intent_action_SENDTO │ android_net_ConnectivityManager_getAllNetworkInfo │ android_permission_SEND_SMS │ android_media_MediaPlayer_start │ java_net_URLConnection_connect │ android_telephony_TelephonyManager_getSubscriberId │ javax_crypto_CipherOutputStream_close │ android_widget_VideoView_stopPlayback │ android_intent_action_SEND │ android_telephony_gsm_SmsManager_sendTextMessage │ android_telephony_TelephonyManager_getSimSerialNumber │ android_net_ConnectivityManager_getNetworkInfo │ android_app_NotificationManager_notify │ javax_crypto_Cipher_getParameters │ javax_crypto_Cipher_getInstance │ android_media_MediaPlayer_release │ android_widget_VideoView_setVideoPath │ android_location_LocationManager_getLastKnownLocation │ java_lang_Runtime_exec │ android_content_ContentResolver_setMasterSyncAutomatically │ java_net_URLConnection_getInputStream │ android_app_KeyguardManager_exitKeyguardSecurely │ android_view_KeyEvent_getDeviceId │ android_permission_WRITE_EXTERNAL_STORAGE │ android_permission_READ_SMS │ android_telephony_TelephonyManager_getLine1Number │ android_telephony_SmsManager_sendMultipartTextMessage │ android_app_ActivityManager_getRunningTasks │ android_telephony_TelephonyManager_getVoiceMailAlphaTag │ android_media_MediaPlayer_stop │ android_intent_category_HOME │ android_intent_category_BROWSABLE │ android_permission_ACCESS_COARSE_LOCATION │ android_permission_CALL_PHONE │ android_net_wifi_WifiManager_startScan │ javax_crypto_Cipher_doFinal │ java_net_URL_getContent │ android_permission_CAMERA │ android_location_LocationManager_addGpsStatusListener │ android_telephony_TelephonyManager_getNeighboringCellInfo │ android_intent_category_LAUNCHER │ android_widget_VideoView_pause │ android_provider_ContactsContract_RawContacts_getContactLookupUri │ android_telephony_TelephonyManager_getVoiceMailNumber │ android_content_ContentResolver_getSyncAutomatically │ android_intent_action_EDIT │ android_app_KeyguardManager_KeyguardLock_reenableKeyguard │ javax_crypto_CipherOutputStream_write │ android_media_AsyncPlayer_stop │ android_provider_ContactsContract_Contacts_getLookupUri │ android_media_AsyncPlayer_play │ android_bluetooth_BluetoothAdapter_enable │ javax_crypto_Cipher_unwrap │ javax_crypto_Cipher_wrap │ android_telephony_gsm_SmsManager_sendMultipartTextMessage │ android_app_WallpaperManager_setBitmap │ android_location_LocationManager_getBestProvider │ android_permission_ACCESS_FINE_LOCATION │ android_net_wifi_WifiManager_getWifiState │ android_intent_action_MAIN │ android_permission_RECEIVE_SMS │ android_util_Base64_decode │ android_accounts_AccountManager_getAccountsByType │ android_util_Base64_encodeToString │ android_app_ActivityManager_killBackgroundProcesses │ android_permission_WRITE_CONTACTS │ android_media_MediaPlayer_reset │ java_net_URL_openStream │ android_intent_action_INSERT │ android_location_LocationManager_isProviderEnabled │ android_permission_READ_PHONE_STATE │ android_os_Vibrator_vibrate │ android_net_wifi_WifiManager_WifiLock_release │ android_telephony_SmsManager_sendTextMessage │ android_app_Activity_getSystemService │ android_app_ActivityManager_restartPackage │ android_media_MediaPlayer_pause │ android_intent_category_DEFAULT │ android_os_Environment_getExternalStoragePublicDirectory │ android_location_LocationManager_requestLocationUpdates │ android_permission_READ_CONTACTS │ android_media_AudioManager_setMode │ android_widget_VideoView_setVideoURI │ android_net_ConnectivityManager_isActiveNetworkMetered │ android_permission_READ_EXTERNAL_STORAGE │ android_media_AudioManager_setSpeakerphoneOn │ android_net_wifi_WifiManager_isWifiEnabled │ android_telephony_TelephonyManager_getSimCountryIso │ android_util_Base64_encode │ android_intent_action_BOOT_COMPLETED │ android_os_Vibrator_cancel │ android_telephony_TelephonyManager_listen │ android_net_wifi_WifiManager_getScanResults │ android_provider_Browser_getAllVisitedUrls │ android_intent_action_VIEW │ android_permission_GET_ACCOUNTS │ android_intent_action_SEARCH │ android_permission_RECORD_AUDIO │ android_media_MediaRecorder_setAudioSource │ android_media_RingtoneManager_setActualDefaultRingtoneUri │ java_net_ServerSocket_bind │ android_location_LocationManager_getProviders │ android_provider_Contacts_People_createPersonInMyContactsGroup │ javax_crypto_Cipher_getIV │ android_permission_PROCESS_OUTGOING_CALLS │ android_intent_category_INFO │ javax_crypto_CipherOutputStream_flush │ android_app_ActivityManager_getRecentTasks │ android_provider_Browser_getAllBookmarks │ android_app_DownloadManager_enqueue │ android_app_WallpaperManager_setStream │ android_intent_action_MEDIA_MOUNTED │ android_bluetooth_BluetoothAdapter_getState │ android_view_MotionEvent_getDeviceId │ android_hardware_Camera_open │ android_app_KeyguardManager_KeyguardLock_disableKeyguard │ android_media_RingtoneManager_getRingtone │ javax_net_ssl_SSLSocket_setEnabledCipherSuites │ android_provider_Settings_System_putString │ android_app_WallpaperManager_setResource │ android_intent_category_PREFERENCE │ android_intent_action_GET_CONTENT │ android_accounts_AccountManager_getAccounts │ android_content_Context_setWallpaper │ android_permission_RECEIVE_MMS │ android_bluetooth_BluetoothAdapter_disable │ android_nfc_tech_MifareUltralight_reconnect │ android_location_LocationManager_sendExtraCommand │ android_nfc_tech_NfcA_reconnect │ android_location_LocationManager_addNmeaListener │ android_nfc_tech_NfcF_close │ android_nfc_tech_MifareClassic_readBlock │ android_nfc_tech_MifareUltralight_getTimeout │ android_nfc_tech_NfcB_transceive │ android_nfc_tech_NfcV_connect │ android_media_MediaRecorder_setVideoSource │ android_nfc_tech_NfcF_setTimeout │ android_location_LocationManager_addProximityAlert │ android_nfc_tech_NdefFormatable_format │ android_media_RingtoneManager_stopPreviousRingtone │ android_bluetooth_BluetoothA2dp_isA2dpPlaying │ android_location_LocationManager_getProvider │ android_location_LocationManager_requestSingleUpdate │ android_location_LocationManager_setTestProviderStatus │ android_nfc_tech_NdefFormatable_reconnect │ android_nfc_tech_MifareClassic_restore │ android_nfc_tech_BasicTagTechnology_reconnect │ android_nfc_tech_MifareUltralight_setTimeout │ android_nfc_tech_Ndef_getNdefMessage │ android_nfc_tech_NfcV_close │ android_media_AudioManager_setMicrophoneMute │ android_media_AudioManager_setBluetoothScoOn │ android_nfc_tech_MifareUltralight_connect │ android_media_AudioManager_isBluetoothA2dpOn │ android_media_AudioManager_setParameters │ android_media_AudioManager_stopBluetoothSco │ android_nfc_tech_MifareClassic_increment │ android_nfc_tech_BasicTagTechnology_close │ android_media_AudioManager_startBluetoothSco │ android_nfc_tech_Ndef_close │ android_nfc_tech_Ndef_reconnect │ android_nfc_tech_MifareClassic_transfer │ android_nfc_tech_NdefFormatable_close │ android_nfc_tech_MifareClassic_authenticateSectorWithKeyB │ android_nfc_tech_NfcF_reconnect │ android_nfc_tech_MifareUltralight_writePage │ android_nfc_tech_NfcF_getTimeout │ android_nfc_tech_NdefFormatable_transceive │ android_location_LocationManager_clearTestProviderStatus │ android_nfc_tech_MifareClassic_close │ android_nfc_tech_IsoDep_getTimeout │ android_nfc_tech_MifareClassic_authenticate │ android_nfc_tech_BasicTagTechnology_connect │ android_media_Ringtone_setStreamType │ android_nfc_tech_IsoDep_reconnect │ android_nfc_tech_NdefFormatable_connect │ android_nfc_tech_Ndef_connect │ android_nfc_tech_MifareClassic_decrement │ android_location_LocationManager_clearTestProviderLocation │ android_media_Ringtone_stop │ android_nfc_NfcAdapter_dispatch │ android_media_Ringtone_play │ android_nfc_tech_NfcV_transceive │ android_nfc_NfcAdapter_disableForegroundNdefPush │ android_nfc_tech_MifareUltralight_readPages │ android_nfc_NfcAdapter_enableForegroundNdefPush │ android_media_AudioManager_setParameter │ android_nfc_tech_MifareClassic_transceive │ android_nfc_tech_NfcF_connect │ android_nfc_tech_MifareClassic_authenticateSectorWithKeyA │ android_media_effect_EffectContext_release │ android_nfc_tech_NfcF_transceive │ android_nfc_tech_MifareClassic_connect │ true_labels │ kmean_assign │\n",
      "│     │ \u001b[90mUnion{Missing, Float64}\u001b[39m                  │ \u001b[90mUnion{Missing, Float64}\u001b[39m     │ \u001b[90mUnion{Missing, Float64}\u001b[39m                              │ \u001b[90mUnion{Missing, Float64}\u001b[39m  │ \u001b[90mUnion{Missing, Float64}\u001b[39m                          │ \u001b[90mUnion{Missing, Float64}\u001b[39m                        │ \u001b[90mUnion{Missing, Float64}\u001b[39m                     │ \u001b[90mUnion{Missing, Float64}\u001b[39m          │ \u001b[90mUnion{Missing, Float64}\u001b[39m                  │ \u001b[90mUnion{Missing, Float64}\u001b[39m                 │ \u001b[90mUnion{Missing, Float64}\u001b[39m             │ \u001b[90mUnion{Missing, Float64}\u001b[39m                        │ \u001b[90mUnion{Missing, Float64}\u001b[39m                       │ \u001b[90mUnion{Missing, Float64}\u001b[39m                            │ \u001b[90mUnion{Missing, Float64}\u001b[39m                  │ \u001b[90mUnion{Missing, Float64}\u001b[39m        │ \u001b[90mUnion{Missing, Float64}\u001b[39m      │ \u001b[90mUnion{Missing, Float64}\u001b[39m                           │ \u001b[90mUnion{Missing, Float64}\u001b[39m     │ \u001b[90mUnion{Missing, Float64}\u001b[39m         │ \u001b[90mUnion{Missing, Float64}\u001b[39m        │ \u001b[90mUnion{Missing, Float64}\u001b[39m                            │ \u001b[90mUnion{Missing, Float64}\u001b[39m               │ \u001b[90mUnion{Missing, Float64}\u001b[39m               │ \u001b[90mUnion{Missing, Float64}\u001b[39m    │ \u001b[90mUnion{Missing, Float64}\u001b[39m                          │ \u001b[90mUnion{Missing, Float64}\u001b[39m                               │ \u001b[90mUnion{Missing, Float64}\u001b[39m                        │ \u001b[90mUnion{Missing, Float64}\u001b[39m                │ \u001b[90mUnion{Missing, Float64}\u001b[39m           │ \u001b[90mUnion{Missing, Float64}\u001b[39m         │ \u001b[90mUnion{Missing, Float64}\u001b[39m           │ \u001b[90mUnion{Missing, Float64}\u001b[39m               │ \u001b[90mUnion{Missing, Float64}\u001b[39m                               │ \u001b[90mFloat64⍰\u001b[39m               │ \u001b[90mUnion{Missing, Float64}\u001b[39m                                    │ \u001b[90mUnion{Missing, Float64}\u001b[39m               │ \u001b[90mUnion{Missing, Float64}\u001b[39m                          │ \u001b[90mUnion{Missing, Float64}\u001b[39m           │ \u001b[90mUnion{Missing, Float64}\u001b[39m                   │ \u001b[90mUnion{Missing, Float64}\u001b[39m     │ \u001b[90mUnion{Missing, Float64}\u001b[39m                           │ \u001b[90mUnion{Missing, Float64}\u001b[39m                               │ \u001b[90mUnion{Missing, Float64}\u001b[39m                     │ \u001b[90mUnion{Missing, Float64}\u001b[39m                                 │ \u001b[90mUnion{Missing, Float64}\u001b[39m        │ \u001b[90mUnion{Missing, Float64}\u001b[39m      │ \u001b[90mUnion{Missing, Float64}\u001b[39m           │ \u001b[90mUnion{Missing, Float64}\u001b[39m                   │ \u001b[90mUnion{Missing, Float64}\u001b[39m       │ \u001b[90mUnion{Missing, Float64}\u001b[39m                │ \u001b[90mUnion{Missing, Float64}\u001b[39m     │ \u001b[90mUnion{Missing, Float64}\u001b[39m │ \u001b[90mUnion{Missing, Float64}\u001b[39m   │ \u001b[90mUnion{Missing, Float64}\u001b[39m                               │ \u001b[90mUnion{Missing, Float64}\u001b[39m                                   │ \u001b[90mUnion{Missing, Float64}\u001b[39m          │ \u001b[90mUnion{Missing, Float64}\u001b[39m        │ \u001b[90mUnion{Missing, Float64}\u001b[39m                                           │ \u001b[90mUnion{Missing, Float64}\u001b[39m                               │ \u001b[90mUnion{Missing, Float64}\u001b[39m                              │ \u001b[90mUnion{Missing, Float64}\u001b[39m    │ \u001b[90mUnion{Missing, Float64}\u001b[39m                                   │ \u001b[90mUnion{Missing, Float64}\u001b[39m               │ \u001b[90mUnion{Missing, Float64}\u001b[39m        │ \u001b[90mUnion{Missing, Float64}\u001b[39m                                 │ \u001b[90mUnion{Missing, Float64}\u001b[39m        │ \u001b[90mUnion{Missing, Float64}\u001b[39m                   │ \u001b[90mUnion{Missing, Float64}\u001b[39m    │ \u001b[90mUnion{Missing, Float64}\u001b[39m  │ \u001b[90mUnion{Missing, Float64}\u001b[39m                                   │ \u001b[90mUnion{Missing, Float64}\u001b[39m                │ \u001b[90mUnion{Missing, Float64}\u001b[39m                          │ \u001b[90mUnion{Missing, Float64}\u001b[39m                 │ \u001b[90mUnion{Missing, Float64}\u001b[39m                   │ \u001b[90mUnion{Missing, Float64}\u001b[39m    │ \u001b[90mUnion{Missing, Float64}\u001b[39m        │ \u001b[90mUnion{Missing, Float64}\u001b[39m    │ \u001b[90mUnion{Missing, Float64}\u001b[39m                           │ \u001b[90mUnion{Missing, Float64}\u001b[39m            │ \u001b[90mUnion{Missing, Float64}\u001b[39m                             │ \u001b[90mUnion{Missing, Float64}\u001b[39m           │ \u001b[90mUnion{Missing, Float64}\u001b[39m         │ \u001b[90mUnion{Missing, Float64}\u001b[39m │ \u001b[90mUnion{Missing, Float64}\u001b[39m      │ \u001b[90mUnion{Missing, Float64}\u001b[39m                            │ \u001b[90mUnion{Missing, Float64}\u001b[39m             │ \u001b[90mUnion{Missing, Float64}\u001b[39m     │ \u001b[90mUnion{Missing, Float64}\u001b[39m                       │ \u001b[90mUnion{Missing, Float64}\u001b[39m                      │ \u001b[90mUnion{Missing, Float64}\u001b[39m               │ \u001b[90mUnion{Missing, Float64}\u001b[39m                    │ \u001b[90mUnion{Missing, Float64}\u001b[39m         │ \u001b[90mUnion{Missing, Float64}\u001b[39m         │ \u001b[90mUnion{Missing, Float64}\u001b[39m                                  │ \u001b[90mUnion{Missing, Float64}\u001b[39m                                 │ \u001b[90mUnion{Missing, Float64}\u001b[39m          │ \u001b[90mUnion{Missing, Float64}\u001b[39m            │ \u001b[90mUnion{Missing, Float64}\u001b[39m              │ \u001b[90mUnion{Missing, Float64}\u001b[39m                                │ \u001b[90mUnion{Missing, Float64}\u001b[39m                  │ \u001b[90mUnion{Missing, Float64}\u001b[39m                      │ \u001b[90mUnion{Missing, Float64}\u001b[39m                    │ \u001b[90mUnion{Missing, Float64}\u001b[39m                             │ \u001b[90mUnion{Missing, Float64}\u001b[39m    │ \u001b[90mUnion{Missing, Float64}\u001b[39m              │ \u001b[90mUnion{Missing, Float64}\u001b[39m    │ \u001b[90mUnion{Missing, Float64}\u001b[39m                   │ \u001b[90mUnion{Missing, Float64}\u001b[39m                     │ \u001b[90mUnion{Missing, Float64}\u001b[39m                    │ \u001b[90mUnion{Missing, Float64}\u001b[39m    │ \u001b[90mUnion{Missing, Float64}\u001b[39m         │ \u001b[90mUnion{Missing, Float64}\u001b[39m      │ \u001b[90mUnion{Missing, Float64}\u001b[39m         │ \u001b[90mUnion{Missing, Float64}\u001b[39m                    │ \u001b[90mUnion{Missing, Float64}\u001b[39m                                   │ \u001b[90mUnion{Missing, Float64}\u001b[39m    │ \u001b[90mUnion{Missing, Float64}\u001b[39m                       │ \u001b[90mUnion{Missing, Float64}\u001b[39m                                        │ \u001b[90mUnion{Missing, Float64}\u001b[39m   │ \u001b[90mUnion{Missing, Float64}\u001b[39m                   │ \u001b[90mUnion{Missing, Float64}\u001b[39m      │ \u001b[90mUnion{Missing, Float64}\u001b[39m               │ \u001b[90mUnion{Missing, Float64}\u001b[39m                    │ \u001b[90mUnion{Missing, Float64}\u001b[39m                  │ \u001b[90mUnion{Missing, Float64}\u001b[39m             │ \u001b[90mUnion{Missing, Float64}\u001b[39m                │ \u001b[90mUnion{Missing, Float64}\u001b[39m             │ \u001b[90mUnion{Missing, Float64}\u001b[39m                     │ \u001b[90mUnion{Missing, Float64}\u001b[39m              │ \u001b[90mUnion{Missing, Float64}\u001b[39m      │ \u001b[90mUnion{Missing, Float64}\u001b[39m                                  │ \u001b[90mUnion{Missing, Float64}\u001b[39m                   │ \u001b[90mUnion{Missing, Float64}\u001b[39m                        │ \u001b[90mUnion{Missing, Float64}\u001b[39m                    │ \u001b[90mUnion{Missing, Float64}\u001b[39m                  │ \u001b[90mUnion{Missing, Float64}\u001b[39m            │ \u001b[90mUnion{Missing, Float64}\u001b[39m           │ \u001b[90mUnion{Missing, Float64}\u001b[39m                     │ \u001b[90mUnion{Missing, Float64}\u001b[39m              │ \u001b[90mUnion{Missing, Float64}\u001b[39m        │ \u001b[90mUnion{Missing, Float64}\u001b[39m                    │ \u001b[90mUnion{Missing, Float64}\u001b[39m                     │ \u001b[90mUnion{Missing, Float64}\u001b[39m                           │ \u001b[90mUnion{Missing, Float64}\u001b[39m         │ \u001b[90mUnion{Missing, Float64}\u001b[39m                          │ \u001b[90mUnion{Missing, Float64}\u001b[39m     │ \u001b[90mUnion{Missing, Float64}\u001b[39m                  │ \u001b[90mUnion{Missing, Float64}\u001b[39m                      │ \u001b[90mUnion{Missing, Float64}\u001b[39m          │ \u001b[90mUnion{Missing, Float64}\u001b[39m       │ \u001b[90mUnion{Missing, Float64}\u001b[39m                    │ \u001b[90mUnion{Missing, Float64}\u001b[39m          │ \u001b[90mUnion{Missing, Float64}\u001b[39m                            │ \u001b[90mUnion{Missing, Float64}\u001b[39m                │ \u001b[90mUnion{Missing, Float64}\u001b[39m                            │ \u001b[90mUnion{Missing, Float64}\u001b[39m                       │ \u001b[90mUnion{Missing, Float64}\u001b[39m                      │ \u001b[90mUnion{Missing, Float64}\u001b[39m                              │ \u001b[90mUnion{Missing, Float64}\u001b[39m                                │ \u001b[90mUnion{Missing, Float64}\u001b[39m                   │ \u001b[90mUnion{Missing, Float64}\u001b[39m                │ \u001b[90mUnion{Missing, Float64}\u001b[39m                       │ \u001b[90mUnion{Missing, Float64}\u001b[39m                      │ \u001b[90mUnion{Missing, Float64}\u001b[39m              │ \u001b[90mUnion{Missing, Float64}\u001b[39m     │ \u001b[90mUnion{Missing, Float64}\u001b[39m                      │ \u001b[90mUnion{Missing, Float64}\u001b[39m                      │ \u001b[90mUnion{Missing, Float64}\u001b[39m                   │ \u001b[90mUnion{Missing, Float64}\u001b[39m                      │ \u001b[90mUnion{Missing, Float64}\u001b[39m                  │ \u001b[90mUnion{Missing, Float64}\u001b[39m                     │ \u001b[90mUnion{Missing, Float64}\u001b[39m                  │ \u001b[90mUnion{Missing, Float64}\u001b[39m                   │ \u001b[90mUnion{Missing, Float64}\u001b[39m                      │ \u001b[90mUnion{Missing, Float64}\u001b[39m     │ \u001b[90mUnion{Missing, Float64}\u001b[39m         │ \u001b[90mUnion{Missing, Float64}\u001b[39m                 │ \u001b[90mUnion{Missing, Float64}\u001b[39m               │ \u001b[90mUnion{Missing, Float64}\u001b[39m                                   │ \u001b[90mUnion{Missing, Float64}\u001b[39m         │ \u001b[90mUnion{Missing, Float64}\u001b[39m                     │ \u001b[90mUnion{Missing, Float64}\u001b[39m          │ \u001b[90mUnion{Missing, Float64}\u001b[39m                    │ \u001b[90mUnion{Missing, Float64}\u001b[39m                                  │ \u001b[90mUnion{Missing, Float64}\u001b[39m              │ \u001b[90mUnion{Missing, Float64}\u001b[39m            │ \u001b[90mUnion{Missing, Float64}\u001b[39m                     │ \u001b[90mUnion{Missing, Float64}\u001b[39m                     │ \u001b[90mUnion{Missing, Float64}\u001b[39m              │ \u001b[90mUnion{Missing, Float64}\u001b[39m           │ \u001b[90mUnion{Missing, Float64}\u001b[39m                 │ \u001b[90mUnion{Missing, Float64}\u001b[39m       │ \u001b[90mUnion{Missing, Float64}\u001b[39m                  │ \u001b[90mUnion{Missing, Float64}\u001b[39m                                    │ \u001b[90mUnion{Missing, Float64}\u001b[39m     │ \u001b[90mUnion{Missing, Float64}\u001b[39m         │ \u001b[90mUnion{Missing, Float64}\u001b[39m     │ \u001b[90mUnion{Missing, Float64}\u001b[39m          │ \u001b[90mUnion{Missing, Float64}\u001b[39m                          │ \u001b[90mUnion{Missing, Float64}\u001b[39m                     │ \u001b[90mUnion{Missing, Float64}\u001b[39m                         │ \u001b[90mUnion{Missing, Float64}\u001b[39m                 │ \u001b[90mUnion{Missing, Float64}\u001b[39m                   │ \u001b[90mUnion{Missing, Float64}\u001b[39m       │ \u001b[90mUnion{Missing, Float64}\u001b[39m                                   │ \u001b[90mUnion{Missing, Float64}\u001b[39m                    │ \u001b[90mUnion{Missing, Float64}\u001b[39m          │ \u001b[90mUnion{Missing, Float64}\u001b[39m                │ \u001b[90mInt64⍰\u001b[39m      │ \u001b[90mInt64\u001b[39m        │\n",
      "├─────┼──────────────────────────────────────────┼─────────────────────────────┼──────────────────────────────────────────────────────┼──────────────────────────┼──────────────────────────────────────────────────┼────────────────────────────────────────────────┼─────────────────────────────────────────────┼──────────────────────────────────┼──────────────────────────────────────────┼─────────────────────────────────────────┼─────────────────────────────────────┼────────────────────────────────────────────────┼───────────────────────────────────────────────┼────────────────────────────────────────────────────┼──────────────────────────────────────────┼────────────────────────────────┼──────────────────────────────┼───────────────────────────────────────────────────┼─────────────────────────────┼─────────────────────────────────┼────────────────────────────────┼────────────────────────────────────────────────────┼───────────────────────────────────────┼───────────────────────────────────────┼────────────────────────────┼──────────────────────────────────────────────────┼───────────────────────────────────────────────────────┼────────────────────────────────────────────────┼────────────────────────────────────────┼───────────────────────────────────┼─────────────────────────────────┼───────────────────────────────────┼───────────────────────────────────────┼───────────────────────────────────────────────────────┼────────────────────────┼────────────────────────────────────────────────────────────┼───────────────────────────────────────┼──────────────────────────────────────────────────┼───────────────────────────────────┼───────────────────────────────────────────┼─────────────────────────────┼───────────────────────────────────────────────────┼───────────────────────────────────────────────────────┼─────────────────────────────────────────────┼─────────────────────────────────────────────────────────┼────────────────────────────────┼──────────────────────────────┼───────────────────────────────────┼───────────────────────────────────────────┼───────────────────────────────┼────────────────────────────────────────┼─────────────────────────────┼─────────────────────────┼───────────────────────────┼───────────────────────────────────────────────────────┼───────────────────────────────────────────────────────────┼──────────────────────────────────┼────────────────────────────────┼───────────────────────────────────────────────────────────────────┼───────────────────────────────────────────────────────┼──────────────────────────────────────────────────────┼────────────────────────────┼───────────────────────────────────────────────────────────┼───────────────────────────────────────┼────────────────────────────────┼─────────────────────────────────────────────────────────┼────────────────────────────────┼───────────────────────────────────────────┼────────────────────────────┼──────────────────────────┼───────────────────────────────────────────────────────────┼────────────────────────────────────────┼──────────────────────────────────────────────────┼─────────────────────────────────────────┼───────────────────────────────────────────┼────────────────────────────┼────────────────────────────────┼────────────────────────────┼───────────────────────────────────────────────────┼────────────────────────────────────┼─────────────────────────────────────────────────────┼───────────────────────────────────┼─────────────────────────────────┼─────────────────────────┼──────────────────────────────┼────────────────────────────────────────────────────┼─────────────────────────────────────┼─────────────────────────────┼───────────────────────────────────────────────┼──────────────────────────────────────────────┼───────────────────────────────────────┼────────────────────────────────────────────┼─────────────────────────────────┼─────────────────────────────────┼──────────────────────────────────────────────────────────┼─────────────────────────────────────────────────────────┼──────────────────────────────────┼────────────────────────────────────┼──────────────────────────────────────┼────────────────────────────────────────────────────────┼──────────────────────────────────────────┼──────────────────────────────────────────────┼────────────────────────────────────────────┼─────────────────────────────────────────────────────┼────────────────────────────┼──────────────────────────────────────┼────────────────────────────┼───────────────────────────────────────────┼─────────────────────────────────────────────┼────────────────────────────────────────────┼────────────────────────────┼─────────────────────────────────┼──────────────────────────────┼─────────────────────────────────┼────────────────────────────────────────────┼───────────────────────────────────────────────────────────┼────────────────────────────┼───────────────────────────────────────────────┼────────────────────────────────────────────────────────────────┼───────────────────────────┼───────────────────────────────────────────┼──────────────────────────────┼───────────────────────────────────────┼────────────────────────────────────────────┼──────────────────────────────────────────┼─────────────────────────────────────┼────────────────────────────────────────┼─────────────────────────────────────┼─────────────────────────────────────────────┼──────────────────────────────────────┼──────────────────────────────┼──────────────────────────────────────────────────────────┼───────────────────────────────────────────┼────────────────────────────────────────────────┼────────────────────────────────────────────┼──────────────────────────────────────────┼────────────────────────────────────┼───────────────────────────────────┼─────────────────────────────────────────────┼──────────────────────────────────────┼────────────────────────────────┼────────────────────────────────────────────┼─────────────────────────────────────────────┼───────────────────────────────────────────────────┼─────────────────────────────────┼──────────────────────────────────────────────────┼─────────────────────────────┼──────────────────────────────────────────┼──────────────────────────────────────────────┼──────────────────────────────────┼───────────────────────────────┼────────────────────────────────────────────┼──────────────────────────────────┼────────────────────────────────────────────────────┼────────────────────────────────────────┼────────────────────────────────────────────────────┼───────────────────────────────────────────────┼──────────────────────────────────────────────┼──────────────────────────────────────────────────────┼────────────────────────────────────────────────────────┼───────────────────────────────────────────┼────────────────────────────────────────┼───────────────────────────────────────────────┼──────────────────────────────────────────────┼──────────────────────────────────────┼─────────────────────────────┼──────────────────────────────────────────────┼──────────────────────────────────────────────┼───────────────────────────────────────────┼──────────────────────────────────────────────┼──────────────────────────────────────────┼─────────────────────────────────────────────┼──────────────────────────────────────────┼───────────────────────────────────────────┼──────────────────────────────────────────────┼─────────────────────────────┼─────────────────────────────────┼─────────────────────────────────────────┼───────────────────────────────────────┼───────────────────────────────────────────────────────────┼─────────────────────────────────┼─────────────────────────────────────────────┼──────────────────────────────────┼────────────────────────────────────────────┼──────────────────────────────────────────────────────────┼──────────────────────────────────────┼────────────────────────────────────┼─────────────────────────────────────────────┼─────────────────────────────────────────────┼──────────────────────────────────────┼───────────────────────────────────┼─────────────────────────────────────────┼───────────────────────────────┼──────────────────────────────────────────┼────────────────────────────────────────────────────────────┼─────────────────────────────┼─────────────────────────────────┼─────────────────────────────┼──────────────────────────────────┼──────────────────────────────────────────────────┼─────────────────────────────────────────────┼─────────────────────────────────────────────────┼─────────────────────────────────────────┼───────────────────────────────────────────┼───────────────────────────────┼───────────────────────────────────────────────────────────┼────────────────────────────────────────────┼──────────────────────────────────┼────────────────────────────────────────┼─────────────┼──────────────┤\n",
      "│ 1   │ -0.5042                                  │ -0.6994                     │ -0.3466                                              │ -0.4941                  │ -0.8437                                          │ -0.1396                                        │ -0.2059                                     │ -0.2916                          │ -0.6057                                  │ -0.2386                                 │ -0.4688                             │ -0.5944                                        │ -0.4046                                       │ -0.3772                                            │ -0.7127                                  │ -0.5698                        │ -0.1206                      │ -0.4936                                           │ -0.6447                     │ -0.2258                         │ -0.5255                        │ -0.4086                                            │ -0.086                                │ -0.5289                               │ -0.143                     │ -0.08                                            │ -0.2341                                               │ -0.6816                                        │ -0.0922                                │ -0.0777                           │ -0.4967                         │ -0.2884                           │ -0.5017                               │ -0.2314                                               │ -0.5105                │ -0.0229                                                    │ -0.5432                               │ -0.0289                                          │ -0.1529                           │ -1.6748                                   │ -0.3547                     │ -0.7332                                           │ -0.1448                                               │ -0.352                                      │ -0.0243                                                 │ -0.3733                        │ 1.3924                       │ -0.2549                           │ -1.4442                                   │ -0.5183                       │ -0.1978                                │ -0.4908                     │ -0.1914                 │ -0.3686                   │ -0.3839                                               │ -0.1406                                                   │ 0.2123                           │ -0.5843                        │ -0.0825                                                           │ -0.0282                                               │ -0.0149                                              │ -0.0554                    │ -0.0782                                                   │ -0.0922                               │ -0.0188                        │ -0.0846                                                 │ -0.0277                        │ -0.041                                    │ -0.0179                    │ -0.0171                  │ -0.0218                                                   │ -0.0223                                │ -0.754                                           │ -1.2899                                 │ -0.2486                                   │ 0.1852                     │ -0.4614                        │ -0.2787                    │ -0.5812                                           │ -0.3725                            │ -0.1566                                             │ -0.3209                           │ -0.1291                         │ -0.1323                 │ -0.0316                      │ -0.4814                                            │ 0.221                               │ -0.2579                     │ -0.2543                                       │ -0.3278                                      │ -0.3918                               │ -0.1296                                    │ -0.2781                         │ -0.5089                         │ -0.0979                                                  │ -0.1527                                                 │ -0.4044                          │ -0.0329                            │ -0.3931                              │ -0.5925                                                │ -0.1689                                  │ -0.0393                                      │ -0.4996                                    │ -0.1892                                             │ -0.1027                    │ 0.7837                               │ -0.1608                    │ -0.218                                    │ -0.2061                                     │ -0.0871                                    │ -0.3255                    │ -0.7031                         │ -0.1728                      │ -0.1836                         │ -0.1288                                    │ -0.0273                                                   │ -0.1319                    │ -0.177                                        │ -0.0683                                                        │ -0.3107                   │ -0.3157                                   │ -0.1088                      │ -0.0745                               │ -0.0568                                    │ -0.2329                                  │ -0.1251                             │ -0.0498                                │ -0.1221                             │ -0.0196                                     │ -0.0586                              │ -0.0955                      │ -0.1137                                                  │ -0.1051                                   │ -0.0555                                        │ -0.0529                                    │ -0.0403                                  │ -0.1272                            │ -0.0543                           │ -0.3292                                     │ -0.0411                              │ -0.0343                        │ -0.0422                                    │ 0.0                                         │ -0.0741                                           │ 0.0                             │ -0.0361                                          │ 0.0                         │ -0.0077                                  │ 0.0                                          │ 0.0                              │ 0.0                           │ -0.0264                                    │ 0.0                              │ -0.0108                                            │ 0.0                                    │ -0.0123                                            │ 0.0                                           │ -0.1927                                      │ -0.0145                                              │ -0.0125                                                │ 0.0                                       │ 0.0                                    │ 0.0                                           │ 0.0                                          │ 0.0                                  │ 0.0                         │ -0.0232                                      │ -0.047                                       │ 0.0                                       │ -0.0194                                      │ -0.0077                                  │ -0.0575                                     │ 0.0                                      │ 0.0                                       │ -0.059                                       │ 0.0                         │ 0.0                             │ 0.0                                     │ 0.0                                   │ -0.0077                                                   │ 0.0                             │ 0.0                                         │ 0.0                              │ 0.0                                        │ -0.0153                                                  │ 0.0                                  │ 0.0                                │ 0.0                                         │ 0.0                                         │ -0.0163                              │ 0.0                               │ 0.0                                     │ 0.0                           │ 0.0                                      │ -0.0133                                                    │ -0.0192                     │ 0.0                             │ -0.1016                     │ 0.0                              │ -0.0077                                          │ 0.0                                         │ -0.0077                                         │ 0.0                                     │ 0.0                                       │ 0.0                           │ -0.0077                                                   │ 0.0                                        │ 0.0                              │ 0.0                                    │ 0           │ 10           │\n"
     ]
    }
   ],
   "source": [
    "println(data_full[:1, :]) "
   ]
  },
  {
   "cell_type": "code",
   "execution_count": 12,
   "metadata": {},
   "outputs": [
    {
     "data": {
      "text/plain": [
       "icot (generic function with 1 method)"
      ]
     },
     "execution_count": 12,
     "metadata": {},
     "output_type": "execute_result"
    }
   ],
   "source": [
    "# Prepare data for ICOT: features are \n",
    "# stored in the matrix X, and the warm-start labels are stored in y\n",
    "X = data_full[:, 1:end-2];\n",
    "y = data_full[:, :true_labels];\n",
    "\n",
    "\n",
    "# Run ICOT with an OCT warm-start: fit an OCT as a supervised learning problem with labels \"y\" and use this as the warm-start\n",
    "function icot(maxdepth)\n",
    "    warm_start = :oct\n",
    "    lnr_ws_oct = ICOT.InterpretableCluster(ls_num_tree_restarts=num_tree_restarts, ls_random_seed=seed, cp=complexity_c, max_depth=maxdepth,\n",
    "        minbucket=min_bucket, criterion=cr, ls_warmstart_criterion=cr, kmeans_warmstart=warm_start,\n",
    "        geom_search=geom_search, geom_threshold=threshold)\n",
    "    run_time_icot_ls_oct = @elapsed ICOT.fit!(lnr_ws_oct, X, y)\n",
    "\n",
    "    score_ws_oct = ICOT.score(lnr_ws_oct, X, y, criterion=:dunnindex)\n",
    "    score_al_ws_oct = ICOT.score(lnr_ws_oct, X, y, criterion=:silhouette)\n",
    "    ICOT.showinbrowser(lnr_ws_oct)\n",
    "\n",
    "    @printf(\"dunnindex = %.4f\\n\", float(score_ws_oct))\n",
    "    @printf(\"silhouette = %.4f\\n\", float(score_al_ws_oct))\n",
    "\n",
    "end\n"
   ]
  },
  {
   "cell_type": "code",
   "execution_count": 8,
   "metadata": {},
   "outputs": [
    {
     "name": "stdout",
     "output_type": "stream",
     "text": [
      "MAXDEPTH = 4\n"
     ]
    },
    {
     "name": "stderr",
     "output_type": "stream",
     "text": [
      "┌ Warning: implicit `dims=2` argument now has to be passed explicitly to specify that distances between columns should be computed\n",
      "│   caller = ip:0x0\n",
      "└ @ Core :-1\n",
      "┌ Warning: This copy of Interpretable AI software is for academic purposes only and not for commercial use.\n",
      "└ @ IAIBase /home/iai/.julia/packages/IAIBase/pOrUV/src/precompile.jl:19\n",
      "\u001b[32mTraining trees...100%|██████████████████████████████████| Time: 0:00:47\u001b[39m\n",
      "\u001b[32mTraining trees...100%|██████████████████████████████████| Time: 0:00:58\u001b[39m\n",
      "┌ Warning: `getindex(df::DataFrame, col_ind::ColumnIndex)` is deprecated, use `df[!, col_ind]` instead.\n",
      "│   caller = dunn_score(::Array{Float64,2}, ::Array{Int64,1}) at clustering_tree.jl:132\n",
      "└ @ ICOT /home/iai/.julia/packages/ICOT/34UmY/src/clustering/clustering_tree.jl:132\n",
      "\u001b[32mTraining trees...100%|██████████████████████████████████| Time: 0:00:39\u001b[39m\n",
      "\u001b[32mTraining trees...100%|██████████████████████████████████| Time: 0:01:01\u001b[39m\n",
      "\u001b[32mTraining trees...100%|██████████████████████████████████| Time: 0:00:37\u001b[39m\n",
      "\u001b[32mTraining trees...100%|██████████████████████████████████| Time: 0:01:00\u001b[39m\n",
      "\u001b[32mTraining trees...100%|██████████████████████████████████| Time: 0:00:41\u001b[39m\n",
      "\u001b[32mTraining trees...100%|██████████████████████████████████| Time: 0:01:04\u001b[39m\n",
      "\u001b[32mTraining trees...100%|██████████████████████████████████| Time: 0:00:39\u001b[39m\n",
      "\u001b[32mTraining trees...100%|██████████████████████████████████| Time: 0:01:11\u001b[39m\n",
      "\u001b[32mTraining trees...100%|██████████████████████████████████| Time: 0:00:42\u001b[39m\n",
      "\u001b[32mTraining trees...100%|██████████████████████████████████| Time: 0:01:04\u001b[39m\n"
     ]
    }
   ],
   "source": [
    "# grid search for max max_depth\n",
    "# unknown cannot use for gridsearch\n",
    "for maxdepth in [4, 5, 6, 7, 8, 9, 10]\n",
    "    @time begin\n",
    "    @printf(\"MAXDEPTH = %1i\\n\", maxdepth)\n",
    "    icot(maxdepth)\n",
    "    end\n",
    "end"
   ]
  },
  {
   "cell_type": "code",
   "execution_count": 14,
   "metadata": {},
   "outputs": [
    {
     "name": "stdout",
     "output_type": "stream",
     "text": [
      "MAXDEPTH = 3\n"
     ]
    },
    {
     "name": "stderr",
     "output_type": "stream",
     "text": [
      "┌ Warning: implicit `dims=2` argument now has to be passed explicitly to specify that distances between columns should be computed\n",
      "│   caller = ip:0x0\n",
      "└ @ Core :-1\n",
      "┌ Warning: This copy of Interpretable AI software is for academic purposes only and not for commercial use.\n",
      "└ @ IAIBase /home/iai/.julia/packages/IAIBase/pOrUV/src/precompile.jl:19\n",
      "\u001b[32mTraining trees...100%|██████████████████████████████████| Time: 0:00:26\u001b[39m\n",
      "\u001b[32mTraining trees...100%|██████████████████████████████████| Time: 0:00:26\u001b[39m\n",
      "┌ Warning: `getindex(df::DataFrame, col_ind::ColumnIndex)` is deprecated, use `df[!, col_ind]` instead.\n",
      "│   caller = dunn_score(::Array{Float64,2}, ::Array{Int64,1}) at clustering_tree.jl:132\n",
      "└ @ ICOT /home/iai/.julia/packages/ICOT/34UmY/src/clustering/clustering_tree.jl:132\n",
      "\u001b[32mTraining trees...100%|██████████████████████████████████| Time: 0:00:19\u001b[39m\n",
      "\u001b[32mTraining trees...100%|██████████████████████████████████| Time: 0:00:27\u001b[39m\n",
      "\u001b[32mTraining trees...100%|██████████████████████████████████| Time: 0:00:18\u001b[39m\n",
      "\u001b[32mTraining trees...100%|██████████████████████████████████| Time: 0:00:27\u001b[39m\n",
      "\u001b[32mTraining trees...100%|██████████████████████████████████| Time: 0:00:17\u001b[39m\n",
      "\u001b[32mTraining trees...100%|██████████████████████████████████| Time: 0:00:29\u001b[39m\n",
      "\u001b[32mTraining trees...100%|██████████████████████████████████| Time: 0:00:18\u001b[39m\n",
      "\u001b[32mTraining trees...100%|██████████████████████████████████| Time: 0:00:29\u001b[39m\n",
      "\u001b[32mTraining trees...100%|██████████████████████████████████| Time: 0:00:19\u001b[39m\n",
      "\u001b[32mTraining trees...100%|██████████████████████████████████| Time: 0:00:27\u001b[39m\n",
      "\u001b[32mTraining trees...100%|██████████████████████████████████| Time: 0:00:18\u001b[39m\n",
      "\u001b[32mTraining trees...100%|██████████████████████████████████| Time: 0:00:27\u001b[39m\n",
      "\u001b[32mTraining trees...100%|██████████████████████████████████| Time: 0:00:20\u001b[39m\n",
      "\u001b[32mTraining trees...100%|██████████████████████████████████| Time: 0:00:27\u001b[39m\n",
      "\u001b[32mTraining trees...100%|██████████████████████████████████| Time: 0:00:19\u001b[39m\n",
      "\u001b[32mTraining trees...100%|██████████████████████████████████| Time: 0:00:24\u001b[39m\n",
      "\u001b[32mTraining trees...100%|██████████████████████████████████| Time: 0:00:20\u001b[39m\n",
      "\u001b[32mTraining trees...100%|██████████████████████████████████| Time: 0:00:28\u001b[39m\n",
      "\u001b[32mTraining trees...100%|██████████████████████████████████| Time: 0:00:18\u001b[39m\n",
      "\u001b[32mTraining trees...100%|██████████████████████████████████| Time: 0:00:26\u001b[39m\n",
      "\u001b[32mTraining trees...100%|██████████████████████████████████| Time: 0:00:18\u001b[39m\n",
      "\u001b[32mTraining trees...100%|██████████████████████████████████| Time: 0:00:27\u001b[39m\n",
      "\u001b[32mTraining trees...100%|██████████████████████████████████| Time: 0:00:19\u001b[39m\n",
      "\u001b[32mTraining trees...100%|██████████████████████████████████| Time: 0:00:26\u001b[39m\n",
      "\u001b[32mTraining trees...100%|██████████████████████████████████| Time: 0:00:18\u001b[39m\n",
      "\u001b[32mTraining trees...100%|██████████████████████████████████| Time: 0:00:28\u001b[39m\n",
      "\u001b[32mTraining trees...100%|██████████████████████████████████| Time: 0:00:18\u001b[39m\n",
      "\u001b[32mTraining trees...100%|██████████████████████████████████| Time: 0:00:29\u001b[39m\n",
      "\u001b[32mTraining trees...100%|██████████████████████████████████| Time: 0:00:19\u001b[39m\n",
      "\u001b[32mTraining trees...100%|██████████████████████████████████| Time: 0:00:27\u001b[39m\n",
      "\u001b[32mTraining trees...100%|██████████████████████████████████| Time: 0:00:18\u001b[39m\n",
      "\u001b[32mTraining trees...100%|██████████████████████████████████| Time: 0:00:28\u001b[39m\n",
      "\u001b[32mTraining trees...100%|██████████████████████████████████| Time: 0:00:20\u001b[39m\n",
      "\u001b[32mTraining trees...100%|██████████████████████████████████| Time: 0:00:29\u001b[39m\n",
      "\u001b[32mTraining trees...100%|██████████████████████████████████| Time: 0:00:19\u001b[39m\n",
      "\u001b[32mTraining trees...100%|██████████████████████████████████| Time: 0:00:28\u001b[39m\n",
      "\u001b[32mTraining trees...100%|██████████████████████████████████| Time: 0:00:18\u001b[39m\n",
      "\u001b[32mTraining trees...100%|██████████████████████████████████| Time: 0:00:27\u001b[39m\n",
      "\u001b[32mTraining trees...100%|██████████████████████████████████| Time: 2:30:38\u001b[39m\n"
     ]
    },
    {
     "name": "stdout",
     "output_type": "stream",
     "text": [
      "dunnindex = 0"
     ]
    },
    {
     "name": "stderr",
     "output_type": "stream",
     "text": [
      "/snap/core20/current/lib/x86_64-linux-gnu/libstdc++.so.6: version `GLIBCXX_3.4.29' not found (required by /lib/x86_64-linux-gnu/libproxy.so.1)\n",
      "Failed to load module: /home/sfy/snap/code/common/.cache/gio-modules/libgiolibproxy.so\n"
     ]
    },
    {
     "name": "stdout",
     "output_type": "stream",
     "text": [
      ".0054\n",
      "silhouette = 0.4208\n",
      "9091.263039 seconds (384.21 M allocations: 226.567 GiB, 0.83% gc time)\n"
     ]
    },
    {
     "name": "stderr",
     "output_type": "stream",
     "text": [
      "/snap/core20/current/lib/x86_64-linux-gnu/libstdc++.so.6: version `GLIBCXX_3.4.29' not found (required by /lib/x86_64-linux-gnu/libproxy.so.1)\n",
      "Failed to load module: /home/sfy/snap/code/common/.cache/gio-modules/libgiolibproxy.so\n",
      "libva error: vaGetDriverNameByIndex() failed with unknown libva error, driver_name = (null)\n"
     ]
    },
    {
     "name": "stdout",
     "output_type": "stream",
     "text": [
      "Opening in existing browser session.\n"
     ]
    }
   ],
   "source": [
    "maxdepth = 3\n",
    "@time begin\n",
    "@printf(\"MAXDEPTH = %1i\\n\", maxdepth)\n",
    "icot(maxdepth)\n",
    "end"
   ]
  },
  {
   "cell_type": "code",
   "execution_count": null,
   "metadata": {},
   "outputs": [],
   "source": []
  }
 ],
 "metadata": {
  "kernelspec": {
   "display_name": "Julia 1.1.0",
   "language": "julia",
   "name": "julia-1.1"
  },
  "language_info": {
   "file_extension": ".jl",
   "mimetype": "application/julia",
   "name": "julia",
   "version": "1.1.0"
  },
  "orig_nbformat": 4
 },
 "nbformat": 4,
 "nbformat_minor": 2
}
