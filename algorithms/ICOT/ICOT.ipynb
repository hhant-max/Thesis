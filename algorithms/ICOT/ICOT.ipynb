{
 "cells": [
  {
   "cell_type": "code",
   "execution_count": 1,
   "metadata": {},
   "outputs": [],
   "source": [
    "using DataFrames, MLDataUtils\n",
    "using Clustering, Distances\n",
    "using CSV\n",
    "using Random\n",
    "using Logging\n",
    "using Printf\n",
    "\n",
    "# Set up Logging - we recommend to use this command to avoid package warnings during the model training process.\n",
    "logger = Logging.SimpleLogger(stderr, Logging.Warn);\n",
    "global_logger(logger);"
   ]
  },
  {
   "cell_type": "code",
   "execution_count": 2,
   "metadata": {},
   "outputs": [
    {
     "name": "stderr",
     "output_type": "stream",
     "text": [
      "┌ Warning: readtable is deprecated, use CSV.read from the CSV package instead\n",
      "│   caller = top-level scope at In[2]:17\n",
      "└ @ Core In[2]:17\n"
     ]
    }
   ],
   "source": [
    "#### Set parameters for the learners\n",
    "cr = :silhouette # VALIDATION criterion totrain ICOT\n",
    "method = \"ICOT_local\"\n",
    "warm_start = :oct; \n",
    "# in the paper,  awarmstart slution to intilazation algorithm, oct use kmeas labels as \n",
    "# as a uspervised algorithm. greedy option fits a cart tree to lebels? try? or not good as kmenas\n",
    "geom_search = true \n",
    "# s a boolean parameter that controls where the algorithm will enable the geometric component of the feature space search. See details in Section 3.3.1 of the paper.\n",
    "threshold = 0.99 # the percentile of gaps for each \n",
    "seed = 1\n",
    "gridsearch = true\n",
    "num_tree_restarts = 20\n",
    "# is an integer specifying the number of random restarts to use in the local search algorithm. Must be positive and defaults to 100. The performance of the tree typically increases as this value is increased, but with quickly diminishing returns. The computational cost of training increases linearly with this value.\n",
    "complexity_c = 0.0\n",
    "min_bucket = 100\n",
    "maxdepth = 5 # can change ! use grid search for tuning!\n",
    "\n",
    "###### Step 1: Prepare the data\n",
    "# Read the data - recommend the use of the (deprecated) readtable() command to avoid potential version conflicts with the CSV package.\n",
    "dataset = readtable(\"dataset_noScaler.csv\"); \n",
    "# println(dataset[1, :])\n"
   ]
  },
  {
   "cell_type": "code",
   "execution_count": 3,
   "metadata": {},
   "outputs": [
    {
     "data": {
      "text/html": [
       "<table class=\"data-frame\"><thead><tr><th></th><th>android_content_Context_getSystemService</th><th>java_net_URL_openConnection</th><th>android_os_PowerManager_WakeLock_release</th></tr><tr><th></th><th>Int64⍰</th><th>Int64⍰</th><th>Int64⍰</th></tr></thead><tbody><p>5,460 rows × 211 columns (omitted printing of 208 columns)</p><tr><th>1</th><td>13</td><td>1</td><td>0</td></tr><tr><th>2</th><td>13</td><td>1</td><td>0</td></tr><tr><th>3</th><td>13</td><td>1</td><td>0</td></tr><tr><th>4</th><td>13</td><td>1</td><td>0</td></tr><tr><th>5</th><td>13</td><td>1</td><td>0</td></tr><tr><th>6</th><td>13</td><td>1</td><td>0</td></tr><tr><th>7</th><td>13</td><td>1</td><td>0</td></tr><tr><th>8</th><td>14</td><td>3</td><td>0</td></tr><tr><th>9</th><td>14</td><td>3</td><td>0</td></tr><tr><th>10</th><td>14</td><td>3</td><td>0</td></tr><tr><th>11</th><td>13</td><td>1</td><td>0</td></tr><tr><th>12</th><td>13</td><td>1</td><td>0</td></tr><tr><th>13</th><td>13</td><td>1</td><td>0</td></tr><tr><th>14</th><td>13</td><td>1</td><td>0</td></tr><tr><th>15</th><td>13</td><td>1</td><td>0</td></tr><tr><th>16</th><td>13</td><td>1</td><td>0</td></tr><tr><th>17</th><td>13</td><td>1</td><td>0</td></tr><tr><th>18</th><td>13</td><td>1</td><td>0</td></tr><tr><th>19</th><td>13</td><td>1</td><td>0</td></tr><tr><th>20</th><td>13</td><td>1</td><td>0</td></tr><tr><th>21</th><td>13</td><td>1</td><td>0</td></tr><tr><th>22</th><td>14</td><td>3</td><td>0</td></tr><tr><th>23</th><td>14</td><td>3</td><td>0</td></tr><tr><th>24</th><td>13</td><td>1</td><td>0</td></tr><tr><th>25</th><td>15</td><td>13</td><td>0</td></tr><tr><th>26</th><td>13</td><td>3</td><td>0</td></tr><tr><th>27</th><td>14</td><td>3</td><td>0</td></tr><tr><th>28</th><td>14</td><td>3</td><td>0</td></tr><tr><th>29</th><td>14</td><td>1</td><td>0</td></tr><tr><th>30</th><td>14</td><td>1</td><td>0</td></tr><tr><th>&vellip;</th><td>&vellip;</td><td>&vellip;</td><td>&vellip;</td></tr></tbody></table>"
      ],
      "text/latex": [
       "\\begin{tabular}{r|cccc}\n",
       "\t& android\\_content\\_Context\\_getSystemService & java\\_net\\_URL\\_openConnection & android\\_os\\_PowerManager\\_WakeLock\\_release & \\\\\n",
       "\t\\hline\n",
       "\t& Int64⍰ & Int64⍰ & Int64⍰ & \\\\\n",
       "\t\\hline\n",
       "\t1 & 13 & 1 & 0 & $\\dots$ \\\\\n",
       "\t2 & 13 & 1 & 0 & $\\dots$ \\\\\n",
       "\t3 & 13 & 1 & 0 & $\\dots$ \\\\\n",
       "\t4 & 13 & 1 & 0 & $\\dots$ \\\\\n",
       "\t5 & 13 & 1 & 0 & $\\dots$ \\\\\n",
       "\t6 & 13 & 1 & 0 & $\\dots$ \\\\\n",
       "\t7 & 13 & 1 & 0 & $\\dots$ \\\\\n",
       "\t8 & 14 & 3 & 0 & $\\dots$ \\\\\n",
       "\t9 & 14 & 3 & 0 & $\\dots$ \\\\\n",
       "\t10 & 14 & 3 & 0 & $\\dots$ \\\\\n",
       "\t11 & 13 & 1 & 0 & $\\dots$ \\\\\n",
       "\t12 & 13 & 1 & 0 & $\\dots$ \\\\\n",
       "\t13 & 13 & 1 & 0 & $\\dots$ \\\\\n",
       "\t14 & 13 & 1 & 0 & $\\dots$ \\\\\n",
       "\t15 & 13 & 1 & 0 & $\\dots$ \\\\\n",
       "\t16 & 13 & 1 & 0 & $\\dots$ \\\\\n",
       "\t17 & 13 & 1 & 0 & $\\dots$ \\\\\n",
       "\t18 & 13 & 1 & 0 & $\\dots$ \\\\\n",
       "\t19 & 13 & 1 & 0 & $\\dots$ \\\\\n",
       "\t20 & 13 & 1 & 0 & $\\dots$ \\\\\n",
       "\t21 & 13 & 1 & 0 & $\\dots$ \\\\\n",
       "\t22 & 14 & 3 & 0 & $\\dots$ \\\\\n",
       "\t23 & 14 & 3 & 0 & $\\dots$ \\\\\n",
       "\t24 & 13 & 1 & 0 & $\\dots$ \\\\\n",
       "\t25 & 15 & 13 & 0 & $\\dots$ \\\\\n",
       "\t26 & 13 & 3 & 0 & $\\dots$ \\\\\n",
       "\t27 & 14 & 3 & 0 & $\\dots$ \\\\\n",
       "\t28 & 14 & 3 & 0 & $\\dots$ \\\\\n",
       "\t29 & 14 & 1 & 0 & $\\dots$ \\\\\n",
       "\t30 & 14 & 1 & 0 & $\\dots$ \\\\\n",
       "\t$\\dots$ & $\\dots$ & $\\dots$ & $\\dots$ &  \\\\\n",
       "\\end{tabular}\n"
      ],
      "text/plain": [
       "5460×211 DataFrame. Omitted printing of 210 columns\n",
       "│ Row  │ android_content_Context_getSystemService │\n",
       "│      │ \u001b[90mUnion{Missing, Int64}\u001b[39m                    │\n",
       "├──────┼──────────────────────────────────────────┤\n",
       "│ 1    │ 13                                       │\n",
       "│ 2    │ 13                                       │\n",
       "│ 3    │ 13                                       │\n",
       "│ 4    │ 13                                       │\n",
       "│ 5    │ 13                                       │\n",
       "│ 6    │ 13                                       │\n",
       "│ 7    │ 13                                       │\n",
       "│ 8    │ 14                                       │\n",
       "│ 9    │ 14                                       │\n",
       "│ 10   │ 14                                       │\n",
       "⋮\n",
       "│ 5450 │ 29                                       │\n",
       "│ 5451 │ 26                                       │\n",
       "│ 5452 │ 28                                       │\n",
       "│ 5453 │ 43                                       │\n",
       "│ 5454 │ 29                                       │\n",
       "│ 5455 │ 26                                       │\n",
       "│ 5456 │ 34                                       │\n",
       "│ 5457 │ 31                                       │\n",
       "│ 5458 │ 30                                       │\n",
       "│ 5459 │ 39                                       │\n",
       "│ 5460 │ 30                                       │"
      ]
     },
     "execution_count": 3,
     "metadata": {},
     "output_type": "execute_result"
    }
   ],
   "source": [
    "# data_x = select(dataset, Not(:label))\n",
    "# data\n",
    "#seperate x and y\n",
    "true_label = dataset[:, end]\n",
    "data_x = dataset[:, 1:end-1]\n",
    "\n",
    "# train model \n",
    "\n",
    "data_array = convert(Matrix{Float64}, data_x);\n",
    "# Get the number of observations and features\n",
    "n, p = size(data_array)\n",
    "data_t = data_array';\n",
    "\n",
    "##### Step 2: Fit K-means clustering on the dataset to generate a warm-start for ICOT\n",
    "#Fix the seed\n",
    "Random.seed!(seed);\n",
    "\n",
    "# The ruspini dataset has pre-defined clusters, which we will use to select the cluster count (K) for the K-means algorithm. \n",
    "# In an unsupervised setting (with no prior-known K), the number of clusters for K means can be selected using the elbow method.\n",
    "K = 10\n",
    "\n",
    "# Run k-means and save the assignments \n",
    "kmeans_result = kmeans(data_t, K);\n",
    "assignment = kmeans_result.assignments;\n",
    "\n",
    "# concat data and feed into next model\n",
    "data_full = DataFrame(hcat(dataset, assignment, makeunique=true));\n",
    "\n",
    "#rename column\n",
    "if !hasproperty(data_full, :true_labels)\n",
    "    rename!(data_full, :label => :true_labels)\n",
    "end\n",
    "\n",
    "if !hasproperty(data_full, :kmean_assign)\n",
    "    rename!(data_full, :x1 => :kmean_assign)\n",
    "else\n",
    "    println(\"all done\")\n",
    "end"
   ]
  },
  {
   "cell_type": "code",
   "execution_count": 4,
   "metadata": {},
   "outputs": [
    {
     "name": "stdout",
     "output_type": "stream",
     "text": [
      "DataFrameRow\n",
      "│ Row │ android_content_Context_getSystemService │ java_net_URL_openConnection │ android_os_PowerManager_WakeLock_release │ android_net_ConnectivityManager_getActiveNetworkInfo │ android_telephony_TelephonyManager_getDeviceId │ android_os_PowerManager_WakeLock_acquire │ android_intent_action_SENDTO │ android_location_LocationManager_getLastKnownLocation │ android_app_NotificationManager_notify │ android_media_Ringtone_play │ android_content_pm_PackageManager_getPackageInfo │ android_media_MediaPlayer_stop │ android_net_wifi_WifiManager_setWifiEnabled │ android_bluetooth_BluetoothDevice_createRfcommSocketToServiceRecord │ javax_crypto_Cipher_init │ javax_crypto_Cipher_getParameters │ android_widget_VideoView_start │ android_media_MediaPlayer_start │ javax_crypto_Cipher_getBlockSize │ android_widget_VideoView_setVideoPath │ javax_crypto_Cipher_getInstance │ android_os_Vibrator_vibrate │ android_permission_READ_CALL_LOG │ android_accounts_AccountManager_getAccountsByType │ javax_net_ssl_SSLSession_getCipherSuite │ android_telephony_TelephonyManager_getSubscriberId │ android_provider_ContactsContract_Contacts_markAsContacted │ android_provider_Browser_truncateHistory │ android_bluetooth_BluetoothAdapter_isDiscovering │ javax_crypto_CipherOutputStream_close │ android_telephony_TelephonyManager_getCellLocation │ javax_crypto_Cipher_update │ android_telephony_TelephonyManager_getSimSerialNumber │ java_lang_Runtime_exec │ android_telephony_SmsManager_sendMultipartTextMessage │ android_net_wifi_WifiManager_getConnectionInfo │ android_provider_Settings_Secure_putString │ android_app_KeyguardManager_KeyguardLock_disableKeyguard │ android_intent_action_MEDIA_EJECT │ android_intent_action_MAIN │ android_permission_ACCESS_FINE_LOCATION │ android_util_Base64_decode │ android_provider_Settings_System_putInt │ javax_net_ssl_SSLSocket_getSupportedCipherSuites │ android_media_MediaPlayer_release │ android_permission_CAMERA │ android_permission_SEND_SMS │ android_media_AudioManager_setMode │ java_net_URLConnection_connect │ android_telephony_TelephonyManager_getNeighboringCellInfo │ android_os_Vibrator_cancel │ android_content_ContentResolver_getSyncAutomatically │ android_net_wifi_WifiManager_getConfiguredNetworks │ android_accounts_AccountManager_updateCredentials │ android_telephony_TelephonyManager_getVoiceMailNumber │ android_location_LocationManager_addGpsStatusListener │ android_permission_RECEIVE_SMS │ android_content_ContextWrapper_getSystemService │ android_net_wifi_WifiManager_startScan │ android_app_Activity_getSystemService │ java_net_URLConnection_getInputStream │ android_net_wifi_WifiManager_getWifiState │ android_provider_Browser_clearHistory │ android_app_ActivityManager_getRunningTasks │ android_bluetooth_BluetoothAdapter_enable │ android_widget_VideoView_stopPlayback │ java_lang_Throwable_printStackTrace │ android_net_ConnectivityManager_getNetworkInfo │ android_media_MediaPlayer_reset │ java_net_URL_openStream │ android_net_wifi_WifiManager_WifiLock_release │ android_provider_Settings_System_getUriFor │ android_bluetooth_BluetoothAdapter_getBondedDevices │ javax_crypto_CipherOutputStream_flush │ android_net_wifi_WifiManager_isWifiEnabled │ android_permission_ACCESS_COARSE_LOCATION │ android_net_wifi_WifiManager_addNetwork │ javax_net_ssl_SSLSocketFactory_getSupportedCipherSuites │ android_accounts_AccountManager_addAccount │ javax_net_ssl_SSLSocketFactory_getDefaultCipherSuites │ android_telephony_TelephonyManager_getVoiceMailAlphaTag │ android_telephony_TelephonyManager_getLine1Number │ android_media_AsyncPlayer_play │ android_net_ConnectivityManager_stopUsingNetworkFeature │ android_net_ConnectivityManager_getAllNetworkInfo │ android_media_AsyncPlayer_stop │ javax_crypto_Cipher_unwrap │ android_net_ConnectivityManager_startUsingNetworkFeature │ android_bluetooth_BluetoothAdapter_startDiscovery │ android_bluetooth_BluetoothAdapter_disable │ android_bluetooth_BluetoothAdapter_getAddress │ javax_crypto_Cipher_wrap │ android_net_wifi_WifiManager_MulticastLock_release │ android_net_wifi_WifiManager_MulticastLock_acquire │ android_intent_action_MEDIA_REMOVED │ android_bluetooth_BluetoothAdapter_getName │ android_net_wifi_WifiManager_disableNetwork │ android_net_wifi_WifiManager_updateNetwork │ android_net_wifi_WifiManager_reconnect │ android_intent_action_MEDIA_MOUNTED │ android_intent_action_MEDIA_UNMOUNTED │ android_intent_action_SEND │ android_intent_category_LAUNCHER │ javax_crypto_Cipher_doFinal │ android_bluetooth_BluetoothSocket_connect │ android_bluetooth_BluetoothAdapter_listenUsingRfcommWithServiceRecord │ android_location_LocationManager_getProviders │ android_media_AudioManager_isBluetoothA2dpOn │ android_net_wifi_WifiManager_enableNetwork │ android_net_wifi_WifiManager_removeNetwork │ android_bluetooth_BluetoothDevice_getBondState │ android_provider_ContactsContract_RawContacts_getContactLookupUri │ android_bluetooth_BluetoothAdapter_isEnabled │ java_net_URL_getContent │ android_media_MediaPlayer_pause │ android_permission_WRITE_EXTERNAL_STORAGE │ android_net_wifi_WifiManager_getScanResults │ android_location_LocationManager_isProviderEnabled │ android_accounts_AccountManager_addOnAccountsUpdatedListener │ android_permission_WRITE_CONTACTS │ android_intent_action_EDIT │ android_intent_action_BOOT_COMPLETED │ android_permission_READ_CONTACTS │ android_location_LocationManager_requestLocationUpdates │ android_accounts_AccountManager_getAccounts │ javax_net_ssl_SSLSocket_getEnabledCipherSuites │ android_intent_category_HOME │ android_widget_VideoView_setVideoURI │ android_util_Base64_encode │ android_app_ActivityManager_killBackgroundProcesses │ android_telephony_TelephonyManager_listen │ android_intent_category_BROWSABLE │ android_util_Base64_encodeToString │ android_permission_READ_PHONE_STATE │ android_intent_category_DEFAULT │ android_telephony_SmsManager_sendTextMessage │ android_os_Environment_getExternalStoragePublicDirectory │ javax_crypto_Cipher_getIV │ android_accounts_AccountManager_blockingGetAuthToken │ android_location_LocationManager_getBestProvider │ android_net_ConnectivityManager_isActiveNetworkMetered │ android_accounts_AccountManager_getAuthToken │ android_app_WallpaperManager_setResource │ android_intent_category_INFO │ android_intent_action_INSERT │ android_permission_READ_SMS │ android_media_MediaRecorder_setAudioSource │ android_app_KeyguardManager_KeyguardLock_reenableKeyguard │ android_net_wifi_WifiManager_saveConfiguration │ android_permission_READ_EXTERNAL_STORAGE │ android_net_wifi_WifiManager_WifiLock_acquire │ android_app_ActivityManager_restartPackage │ android_app_WallpaperManager_setStream │ android_permission_GET_ACCOUNTS │ java_net_ServerSocket_bind │ android_widget_VideoView_pause │ android_permission_CALL_PHONE │ android_intent_action_VIEW │ android_intent_category_DESK_DOCK │ android_media_RingtoneManager_setActualDefaultRingtoneUri │ javax_net_ssl_SSLSocket_setEnabledCipherSuites │ android_view_KeyEvent_getDeviceId │ android_provider_ContactsContract_Contacts_getLookupUri │ android_accounts_AccountManager_invalidateAuthToken │ android_telephony_gsm_SmsManager_sendTextMessage │ android_media_AudioManager_setSpeakerphoneOn │ android_net_wifi_WifiManager_getDhcpInfo │ android_bluetooth_BluetoothAdapter_cancelDiscovery │ android_provider_Browser_getAllVisitedUrls │ android_provider_Settings_System_putString │ android_provider_Browser_getAllBookmarks │ android_location_LocationManager_getProvider │ android_permission_RECORD_AUDIO │ android_media_RingtoneManager_getRingtone │ android_telephony_gsm_SmsManager_sendDataMessage │ android_intent_action_PICK │ javax_crypto_CipherOutputStream_write │ android_intent_action_GET_CONTENT │ android_app_WallpaperManager_suggestDesiredDimensions │ android_hardware_Camera_open │ android_location_LocationManager_sendExtraCommand │ android_bluetooth_BluetoothDevice_getName │ android_media_Ringtone_stop │ android_permission_PROCESS_OUTGOING_CALLS │ android_bluetooth_BluetoothAdapter_getScanMode │ android_intent_action_ACTION_DATE_CHANGED │ android_intent_action_DELETE │ android_media_MediaPlayer_setWakeMode │ javax_xml_transform_TransformerException_printStackTrace │ android_telephony_TelephonyManager_getSimCountryIso │ android_app_DownloadManager_enqueue │ android_app_KeyguardManager_exitKeyguardSecurely │ android_bluetooth_BluetoothAdapter_getState │ android_app_WallpaperManager_setBitmap │ android_intent_category_TEST │ android_intent_action_SEARCH │ android_intent_category_PREFERENCE │ android_telephony_TelephonyManager_getDeviceSoftwareVersion │ android_app_ActivityManager_getRecentTasks │ android_content_Context_setWallpaper │ android_content_ContentResolver_setMasterSyncAutomatically │ android_media_AudioManager_isWiredHeadsetOn │ android_view_MotionEvent_getDeviceId │ javax_crypto_Cipher_getOutputSize │ android_provider_Contacts_People_addToMyContactsGroup │ android_telephony_gsm_SmsManager_sendMultipartTextMessage │ android_provider_UserDictionary_Words_addWord │ android_media_AudioManager_setMicrophoneMute │ android_net_ConnectivityManager_requestRouteToHost │ true_labels │ kmean_assign │\n",
      "│     │ \u001b[90mUnion{Missing, Int64}\u001b[39m                    │ \u001b[90mUnion{Missing, Int64}\u001b[39m       │ \u001b[90mUnion{Missing, Int64}\u001b[39m                    │ \u001b[90mUnion{Missing, Int64}\u001b[39m                                │ \u001b[90mUnion{Missing, Int64}\u001b[39m                          │ \u001b[90mUnion{Missing, Int64}\u001b[39m                    │ \u001b[90mUnion{Missing, Int64}\u001b[39m        │ \u001b[90mUnion{Missing, Int64}\u001b[39m                                 │ \u001b[90mUnion{Missing, Int64}\u001b[39m                  │ \u001b[90mUnion{Missing, Int64}\u001b[39m       │ \u001b[90mUnion{Missing, Int64}\u001b[39m                            │ \u001b[90mUnion{Missing, Int64}\u001b[39m          │ \u001b[90mUnion{Missing, Int64}\u001b[39m                       │ \u001b[90mUnion{Missing, Int64}\u001b[39m                                               │ \u001b[90mUnion{Missing, Int64}\u001b[39m    │ \u001b[90mUnion{Missing, Int64}\u001b[39m             │ \u001b[90mUnion{Missing, Int64}\u001b[39m          │ \u001b[90mUnion{Missing, Int64}\u001b[39m           │ \u001b[90mUnion{Missing, Int64}\u001b[39m            │ \u001b[90mUnion{Missing, Int64}\u001b[39m                 │ \u001b[90mUnion{Missing, Int64}\u001b[39m           │ \u001b[90mUnion{Missing, Int64}\u001b[39m       │ \u001b[90mUnion{Missing, Int64}\u001b[39m            │ \u001b[90mUnion{Missing, Int64}\u001b[39m                             │ \u001b[90mUnion{Missing, Int64}\u001b[39m                   │ \u001b[90mUnion{Missing, Int64}\u001b[39m                              │ \u001b[90mUnion{Missing, Int64}\u001b[39m                                      │ \u001b[90mUnion{Missing, Int64}\u001b[39m                    │ \u001b[90mUnion{Missing, Int64}\u001b[39m                            │ \u001b[90mUnion{Missing, Int64}\u001b[39m                 │ \u001b[90mUnion{Missing, Int64}\u001b[39m                              │ \u001b[90mUnion{Missing, Int64}\u001b[39m      │ \u001b[90mUnion{Missing, Int64}\u001b[39m                                 │ \u001b[90mUnion{Missing, Int64}\u001b[39m  │ \u001b[90mUnion{Missing, Int64}\u001b[39m                                 │ \u001b[90mUnion{Missing, Int64}\u001b[39m                          │ \u001b[90mUnion{Missing, Int64}\u001b[39m                      │ \u001b[90mUnion{Missing, Int64}\u001b[39m                                    │ \u001b[90mUnion{Missing, Int64}\u001b[39m             │ \u001b[90mUnion{Missing, Int64}\u001b[39m      │ \u001b[90mUnion{Missing, Int64}\u001b[39m                   │ \u001b[90mUnion{Missing, Int64}\u001b[39m      │ \u001b[90mUnion{Missing, Int64}\u001b[39m                   │ \u001b[90mUnion{Missing, Int64}\u001b[39m                            │ \u001b[90mUnion{Missing, Int64}\u001b[39m             │ \u001b[90mUnion{Missing, Int64}\u001b[39m     │ \u001b[90mUnion{Missing, Int64}\u001b[39m       │ \u001b[90mUnion{Missing, Int64}\u001b[39m              │ \u001b[90mUnion{Missing, Int64}\u001b[39m          │ \u001b[90mUnion{Missing, Int64}\u001b[39m                                     │ \u001b[90mUnion{Missing, Int64}\u001b[39m      │ \u001b[90mUnion{Missing, Int64}\u001b[39m                                │ \u001b[90mUnion{Missing, Int64}\u001b[39m                              │ \u001b[90mUnion{Missing, Int64}\u001b[39m                             │ \u001b[90mUnion{Missing, Int64}\u001b[39m                                 │ \u001b[90mUnion{Missing, Int64}\u001b[39m                                 │ \u001b[90mUnion{Missing, Int64}\u001b[39m          │ \u001b[90mUnion{Missing, Int64}\u001b[39m                           │ \u001b[90mUnion{Missing, Int64}\u001b[39m                  │ \u001b[90mUnion{Missing, Int64}\u001b[39m                 │ \u001b[90mUnion{Missing, Int64}\u001b[39m                 │ \u001b[90mUnion{Missing, Int64}\u001b[39m                     │ \u001b[90mUnion{Missing, Int64}\u001b[39m                 │ \u001b[90mUnion{Missing, Int64}\u001b[39m                       │ \u001b[90mUnion{Missing, Int64}\u001b[39m                     │ \u001b[90mUnion{Missing, Int64}\u001b[39m                 │ \u001b[90mUnion{Missing, Int64}\u001b[39m               │ \u001b[90mUnion{Missing, Int64}\u001b[39m                          │ \u001b[90mUnion{Missing, Int64}\u001b[39m           │ \u001b[90mUnion{Missing, Int64}\u001b[39m   │ \u001b[90mUnion{Missing, Int64}\u001b[39m                         │ \u001b[90mUnion{Missing, Int64}\u001b[39m                      │ \u001b[90mUnion{Missing, Int64}\u001b[39m                               │ \u001b[90mUnion{Missing, Int64}\u001b[39m                 │ \u001b[90mUnion{Missing, Int64}\u001b[39m                      │ \u001b[90mUnion{Missing, Int64}\u001b[39m                     │ \u001b[90mUnion{Missing, Int64}\u001b[39m                   │ \u001b[90mUnion{Missing, Int64}\u001b[39m                                   │ \u001b[90mUnion{Missing, Int64}\u001b[39m                      │ \u001b[90mUnion{Missing, Int64}\u001b[39m                                 │ \u001b[90mUnion{Missing, Int64}\u001b[39m                                   │ \u001b[90mUnion{Missing, Int64}\u001b[39m                             │ \u001b[90mUnion{Missing, Int64}\u001b[39m          │ \u001b[90mUnion{Missing, Int64}\u001b[39m                                   │ \u001b[90mUnion{Missing, Int64}\u001b[39m                             │ \u001b[90mUnion{Missing, Int64}\u001b[39m          │ \u001b[90mUnion{Missing, Int64}\u001b[39m      │ \u001b[90mUnion{Missing, Int64}\u001b[39m                                    │ \u001b[90mUnion{Missing, Int64}\u001b[39m                             │ \u001b[90mUnion{Missing, Int64}\u001b[39m                      │ \u001b[90mUnion{Missing, Int64}\u001b[39m                         │ \u001b[90mUnion{Missing, Int64}\u001b[39m    │ \u001b[90mUnion{Missing, Int64}\u001b[39m                              │ \u001b[90mUnion{Missing, Int64}\u001b[39m                              │ \u001b[90mUnion{Missing, Int64}\u001b[39m               │ \u001b[90mUnion{Missing, Int64}\u001b[39m                      │ \u001b[90mUnion{Missing, Int64}\u001b[39m                       │ \u001b[90mUnion{Missing, Int64}\u001b[39m                      │ \u001b[90mUnion{Missing, Int64}\u001b[39m                  │ \u001b[90mUnion{Missing, Int64}\u001b[39m               │ \u001b[90mUnion{Missing, Int64}\u001b[39m                 │ \u001b[90mUnion{Missing, Int64}\u001b[39m      │ \u001b[90mUnion{Missing, Int64}\u001b[39m            │ \u001b[90mUnion{Missing, Int64}\u001b[39m       │ \u001b[90mUnion{Missing, Int64}\u001b[39m                     │ \u001b[90mUnion{Missing, Int64}\u001b[39m                                                 │ \u001b[90mUnion{Missing, Int64}\u001b[39m                         │ \u001b[90mUnion{Missing, Int64}\u001b[39m                        │ \u001b[90mUnion{Missing, Int64}\u001b[39m                      │ \u001b[90mUnion{Missing, Int64}\u001b[39m                      │ \u001b[90mUnion{Missing, Int64}\u001b[39m                          │ \u001b[90mUnion{Missing, Int64}\u001b[39m                                             │ \u001b[90mUnion{Missing, Int64}\u001b[39m                        │ \u001b[90mUnion{Missing, Int64}\u001b[39m   │ \u001b[90mUnion{Missing, Int64}\u001b[39m           │ \u001b[90mUnion{Missing, Int64}\u001b[39m                     │ \u001b[90mUnion{Missing, Int64}\u001b[39m                       │ \u001b[90mUnion{Missing, Int64}\u001b[39m                              │ \u001b[90mUnion{Missing, Int64}\u001b[39m                                        │ \u001b[90mUnion{Missing, Int64}\u001b[39m             │ \u001b[90mUnion{Missing, Int64}\u001b[39m      │ \u001b[90mUnion{Missing, Int64}\u001b[39m                │ \u001b[90mUnion{Missing, Int64}\u001b[39m            │ \u001b[90mUnion{Missing, Int64}\u001b[39m                                   │ \u001b[90mUnion{Missing, Int64}\u001b[39m                       │ \u001b[90mUnion{Missing, Int64}\u001b[39m                          │ \u001b[90mUnion{Missing, Int64}\u001b[39m        │ \u001b[90mUnion{Missing, Int64}\u001b[39m                │ \u001b[90mUnion{Missing, Int64}\u001b[39m      │ \u001b[90mUnion{Missing, Int64}\u001b[39m                               │ \u001b[90mUnion{Missing, Int64}\u001b[39m                     │ \u001b[90mUnion{Missing, Int64}\u001b[39m             │ \u001b[90mUnion{Missing, Int64}\u001b[39m              │ \u001b[90mUnion{Missing, Int64}\u001b[39m               │ \u001b[90mUnion{Missing, Int64}\u001b[39m           │ \u001b[90mUnion{Missing, Int64}\u001b[39m                        │ \u001b[90mUnion{Missing, Int64}\u001b[39m                                    │ \u001b[90mUnion{Missing, Int64}\u001b[39m     │ \u001b[90mUnion{Missing, Int64}\u001b[39m                                │ \u001b[90mUnion{Missing, Int64}\u001b[39m                            │ \u001b[90mUnion{Missing, Int64}\u001b[39m                                  │ \u001b[90mUnion{Missing, Int64}\u001b[39m                        │ \u001b[90mUnion{Missing, Int64}\u001b[39m                    │ \u001b[90mUnion{Missing, Int64}\u001b[39m        │ \u001b[90mUnion{Missing, Int64}\u001b[39m        │ \u001b[90mUnion{Missing, Int64}\u001b[39m       │ \u001b[90mUnion{Missing, Int64}\u001b[39m                      │ \u001b[90mUnion{Missing, Int64}\u001b[39m                                     │ \u001b[90mUnion{Missing, Int64}\u001b[39m                          │ \u001b[90mUnion{Missing, Int64}\u001b[39m                    │ \u001b[90mUnion{Missing, Int64}\u001b[39m                         │ \u001b[90mUnion{Missing, Int64}\u001b[39m                      │ \u001b[90mUnion{Missing, Int64}\u001b[39m                  │ \u001b[90mUnion{Missing, Int64}\u001b[39m           │ \u001b[90mUnion{Missing, Int64}\u001b[39m      │ \u001b[90mUnion{Missing, Int64}\u001b[39m          │ \u001b[90mUnion{Missing, Int64}\u001b[39m         │ \u001b[90mUnion{Missing, Int64}\u001b[39m      │ \u001b[90mUnion{Missing, Int64}\u001b[39m             │ \u001b[90mUnion{Missing, Int64}\u001b[39m                                     │ \u001b[90mUnion{Missing, Int64}\u001b[39m                          │ \u001b[90mUnion{Missing, Int64}\u001b[39m             │ \u001b[90mUnion{Missing, Int64}\u001b[39m                                   │ \u001b[90mUnion{Missing, Int64}\u001b[39m                               │ \u001b[90mUnion{Missing, Int64}\u001b[39m                            │ \u001b[90mUnion{Missing, Int64}\u001b[39m                        │ \u001b[90mUnion{Missing, Int64}\u001b[39m                    │ \u001b[90mUnion{Missing, Int64}\u001b[39m                              │ \u001b[90mUnion{Missing, Int64}\u001b[39m                      │ \u001b[90mUnion{Missing, Int64}\u001b[39m                      │ \u001b[90mUnion{Missing, Int64}\u001b[39m                    │ \u001b[90mUnion{Missing, Int64}\u001b[39m                        │ \u001b[90mUnion{Missing, Int64}\u001b[39m           │ \u001b[90mUnion{Missing, Int64}\u001b[39m                     │ \u001b[90mUnion{Missing, Int64}\u001b[39m                            │ \u001b[90mUnion{Missing, Int64}\u001b[39m      │ \u001b[90mUnion{Missing, Int64}\u001b[39m                 │ \u001b[90mUnion{Missing, Int64}\u001b[39m             │ \u001b[90mUnion{Missing, Int64}\u001b[39m                                 │ \u001b[90mUnion{Missing, Int64}\u001b[39m        │ \u001b[90mUnion{Missing, Int64}\u001b[39m                             │ \u001b[90mUnion{Missing, Int64}\u001b[39m                     │ \u001b[90mUnion{Missing, Int64}\u001b[39m       │ \u001b[90mUnion{Missing, Int64}\u001b[39m                     │ \u001b[90mUnion{Missing, Int64}\u001b[39m                          │ \u001b[90mUnion{Missing, Int64}\u001b[39m                     │ \u001b[90mUnion{Missing, Int64}\u001b[39m        │ \u001b[90mUnion{Missing, Int64}\u001b[39m                 │ \u001b[90mUnion{Missing, Int64}\u001b[39m                                    │ \u001b[90mUnion{Missing, Int64}\u001b[39m                               │ \u001b[90mUnion{Missing, Int64}\u001b[39m               │ \u001b[90mUnion{Missing, Int64}\u001b[39m                            │ \u001b[90mUnion{Missing, Int64}\u001b[39m                       │ \u001b[90mUnion{Missing, Int64}\u001b[39m                  │ \u001b[90mUnion{Missing, Int64}\u001b[39m        │ \u001b[90mUnion{Missing, Int64}\u001b[39m        │ \u001b[90mUnion{Missing, Int64}\u001b[39m              │ \u001b[90mUnion{Missing, Int64}\u001b[39m                                       │ \u001b[90mUnion{Missing, Int64}\u001b[39m                      │ \u001b[90mUnion{Missing, Int64}\u001b[39m                │ \u001b[90mUnion{Missing, Int64}\u001b[39m                                      │ \u001b[90mUnion{Missing, Int64}\u001b[39m                       │ \u001b[90mUnion{Missing, Int64}\u001b[39m                │ \u001b[90mUnion{Missing, Int64}\u001b[39m             │ \u001b[90mUnion{Missing, Int64}\u001b[39m                                 │ \u001b[90mUnion{Missing, Int64}\u001b[39m                                     │ \u001b[90mUnion{Missing, Int64}\u001b[39m                         │ \u001b[90mUnion{Missing, Int64}\u001b[39m                        │ \u001b[90mUnion{Missing, Int64}\u001b[39m                              │ \u001b[90mInt64⍰\u001b[39m      │ \u001b[90mInt64\u001b[39m        │\n",
      "├─────┼──────────────────────────────────────────┼─────────────────────────────┼──────────────────────────────────────────┼──────────────────────────────────────────────────────┼────────────────────────────────────────────────┼──────────────────────────────────────────┼──────────────────────────────┼───────────────────────────────────────────────────────┼────────────────────────────────────────┼─────────────────────────────┼──────────────────────────────────────────────────┼────────────────────────────────┼─────────────────────────────────────────────┼─────────────────────────────────────────────────────────────────────┼──────────────────────────┼───────────────────────────────────┼────────────────────────────────┼─────────────────────────────────┼──────────────────────────────────┼───────────────────────────────────────┼─────────────────────────────────┼─────────────────────────────┼──────────────────────────────────┼───────────────────────────────────────────────────┼─────────────────────────────────────────┼────────────────────────────────────────────────────┼────────────────────────────────────────────────────────────┼──────────────────────────────────────────┼──────────────────────────────────────────────────┼───────────────────────────────────────┼────────────────────────────────────────────────────┼────────────────────────────┼───────────────────────────────────────────────────────┼────────────────────────┼───────────────────────────────────────────────────────┼────────────────────────────────────────────────┼────────────────────────────────────────────┼──────────────────────────────────────────────────────────┼───────────────────────────────────┼────────────────────────────┼─────────────────────────────────────────┼────────────────────────────┼─────────────────────────────────────────┼──────────────────────────────────────────────────┼───────────────────────────────────┼───────────────────────────┼─────────────────────────────┼────────────────────────────────────┼────────────────────────────────┼───────────────────────────────────────────────────────────┼────────────────────────────┼──────────────────────────────────────────────────────┼────────────────────────────────────────────────────┼───────────────────────────────────────────────────┼───────────────────────────────────────────────────────┼───────────────────────────────────────────────────────┼────────────────────────────────┼─────────────────────────────────────────────────┼────────────────────────────────────────┼───────────────────────────────────────┼───────────────────────────────────────┼───────────────────────────────────────────┼───────────────────────────────────────┼─────────────────────────────────────────────┼───────────────────────────────────────────┼───────────────────────────────────────┼─────────────────────────────────────┼────────────────────────────────────────────────┼─────────────────────────────────┼─────────────────────────┼───────────────────────────────────────────────┼────────────────────────────────────────────┼─────────────────────────────────────────────────────┼───────────────────────────────────────┼────────────────────────────────────────────┼───────────────────────────────────────────┼─────────────────────────────────────────┼─────────────────────────────────────────────────────────┼────────────────────────────────────────────┼───────────────────────────────────────────────────────┼─────────────────────────────────────────────────────────┼───────────────────────────────────────────────────┼────────────────────────────────┼─────────────────────────────────────────────────────────┼───────────────────────────────────────────────────┼────────────────────────────────┼────────────────────────────┼──────────────────────────────────────────────────────────┼───────────────────────────────────────────────────┼────────────────────────────────────────────┼───────────────────────────────────────────────┼──────────────────────────┼────────────────────────────────────────────────────┼────────────────────────────────────────────────────┼─────────────────────────────────────┼────────────────────────────────────────────┼─────────────────────────────────────────────┼────────────────────────────────────────────┼────────────────────────────────────────┼─────────────────────────────────────┼───────────────────────────────────────┼────────────────────────────┼──────────────────────────────────┼─────────────────────────────┼───────────────────────────────────────────┼───────────────────────────────────────────────────────────────────────┼───────────────────────────────────────────────┼──────────────────────────────────────────────┼────────────────────────────────────────────┼────────────────────────────────────────────┼────────────────────────────────────────────────┼───────────────────────────────────────────────────────────────────┼──────────────────────────────────────────────┼─────────────────────────┼─────────────────────────────────┼───────────────────────────────────────────┼─────────────────────────────────────────────┼────────────────────────────────────────────────────┼──────────────────────────────────────────────────────────────┼───────────────────────────────────┼────────────────────────────┼──────────────────────────────────────┼──────────────────────────────────┼─────────────────────────────────────────────────────────┼─────────────────────────────────────────────┼────────────────────────────────────────────────┼──────────────────────────────┼──────────────────────────────────────┼────────────────────────────┼─────────────────────────────────────────────────────┼───────────────────────────────────────────┼───────────────────────────────────┼────────────────────────────────────┼─────────────────────────────────────┼─────────────────────────────────┼──────────────────────────────────────────────┼──────────────────────────────────────────────────────────┼───────────────────────────┼──────────────────────────────────────────────────────┼──────────────────────────────────────────────────┼────────────────────────────────────────────────────────┼──────────────────────────────────────────────┼──────────────────────────────────────────┼──────────────────────────────┼──────────────────────────────┼─────────────────────────────┼────────────────────────────────────────────┼───────────────────────────────────────────────────────────┼────────────────────────────────────────────────┼──────────────────────────────────────────┼───────────────────────────────────────────────┼────────────────────────────────────────────┼────────────────────────────────────────┼─────────────────────────────────┼────────────────────────────┼────────────────────────────────┼───────────────────────────────┼────────────────────────────┼───────────────────────────────────┼───────────────────────────────────────────────────────────┼────────────────────────────────────────────────┼───────────────────────────────────┼─────────────────────────────────────────────────────────┼─────────────────────────────────────────────────────┼──────────────────────────────────────────────────┼──────────────────────────────────────────────┼──────────────────────────────────────────┼────────────────────────────────────────────────────┼────────────────────────────────────────────┼────────────────────────────────────────────┼──────────────────────────────────────────┼──────────────────────────────────────────────┼─────────────────────────────────┼───────────────────────────────────────────┼──────────────────────────────────────────────────┼────────────────────────────┼───────────────────────────────────────┼───────────────────────────────────┼───────────────────────────────────────────────────────┼──────────────────────────────┼───────────────────────────────────────────────────┼───────────────────────────────────────────┼─────────────────────────────┼───────────────────────────────────────────┼────────────────────────────────────────────────┼───────────────────────────────────────────┼──────────────────────────────┼───────────────────────────────────────┼──────────────────────────────────────────────────────────┼─────────────────────────────────────────────────────┼─────────────────────────────────────┼──────────────────────────────────────────────────┼─────────────────────────────────────────────┼────────────────────────────────────────┼──────────────────────────────┼──────────────────────────────┼────────────────────────────────────┼─────────────────────────────────────────────────────────────┼────────────────────────────────────────────┼──────────────────────────────────────┼────────────────────────────────────────────────────────────┼─────────────────────────────────────────────┼──────────────────────────────────────┼───────────────────────────────────┼───────────────────────────────────────────────────────┼───────────────────────────────────────────────────────────┼───────────────────────────────────────────────┼──────────────────────────────────────────────┼────────────────────────────────────────────────────┼─────────────┼──────────────┤\n",
      "│ 1   │ 13                                       │ 1                           │ 0                                        │ 4                                                    │ 2                                              │ 0                                        │ 0                            │ 1                                                     │ 3                                      │ 0                           │ 0                                                │ 1                              │ 0                                           │ 0                                                                   │ 0                        │ 0                                 │ 0                              │ 4                               │ 0                                │ 0                                     │ 0                               │ 0                           │ 0                                │ 0                                                 │ 0                                       │ 0                                                  │ 0                                                          │ 0                                        │ 0                                                │ 0                                     │ 0                                                  │ 0                          │ 0                                                     │ 0                      │ 0                                                     │ 0                                              │ 0                                          │ 0                                                        │ 0                                 │ 1                          │ 1                                       │ 0                          │ 0                                       │ 0                                                │ 1                                 │ 0                         │ 0                           │ 0                                  │ 0                              │ 0                                                         │ 0                          │ 0                                                    │ 0                                                  │ 0                                                 │ 0                                                     │ 0                                                     │ 0                              │ 0                                               │ 0                                      │ 0                                     │ 0                                     │ 0                                         │ 0                                     │ 0                                           │ 0                                         │ 0                                     │ 0                                   │ 0                                              │ 1                               │ 0                       │ 0                                             │ 0                                          │ 0                                                   │ 0                                     │ 0                                          │ 1                                         │ 0                                       │ 0                                                       │ 0                                          │ 0                                                     │ 0                                                       │ 0                                                 │ 0                              │ 0                                                       │ 0                                                 │ 0                              │ 0                          │ 0                                                        │ 0                                                 │ 0                                          │ 0                                             │ 0                        │ 0                                                  │ 0                                                  │ 0                                   │ 0                                          │ 0                                           │ 0                                          │ 0                                      │ 0                                   │ 0                                     │ 0                          │ 1                                │ 0                           │ 0                                         │ 0                                                                     │ 0                                             │ 0                                            │ 0                                          │ 0                                          │ 0                                              │ 0                                                                 │ 0                                            │ 0                       │ 4                               │ 1                                         │ 0                                           │ 0                                                  │ 0                                                            │ 0                                 │ 0                          │ 1                                    │ 0                                │ 1                                                       │ 0                                           │ 0                                              │ 1                            │ 0                                    │ 0                          │ 0                                                   │ 0                                         │ 0                                 │ 0                                  │ 1                                   │ 1                               │ 0                                            │ 0                                                        │ 0                         │ 0                                                    │ 0                                                │ 0                                                      │ 0                                            │ 0                                        │ 0                            │ 0                            │ 0                           │ 0                                          │ 0                                                         │ 0                                              │ 0                                        │ 0                                             │ 0                                          │ 0                                      │ 0                               │ 0                          │ 0                              │ 0                             │ 0                          │ 0                                 │ 0                                                         │ 0                                              │ 0                                 │ 0                                                       │ 0                                                   │ 0                                                │ 0                                            │ 0                                        │ 0                                                  │ 0                                          │ 0                                          │ 0                                        │ 0                                            │ 0                               │ 0                                         │ 0                                                │ 0                          │ 0                                     │ 0                                 │ 0                                                     │ 0                            │ 0                                                 │ 0                                         │ 0                           │ 0                                         │ 0                                              │ 0                                         │ 0                            │ 0                                     │ 0                                                        │ 0                                                   │ 0                                   │ 0                                                │ 0                                           │ 0                                      │ 0                            │ 0                            │ 0                                  │ 0                                                           │ 0                                          │ 0                                    │ 0                                                          │ 0                                           │ 0                                    │ 0                                 │ 0                                                     │ 0                                                         │ 0                                             │ 0                                            │ 0                                                  │ 0           │ 4            │\n"
     ]
    }
   ],
   "source": [
    "println(data_full[:1, :]) "
   ]
  },
  {
   "cell_type": "code",
   "execution_count": 5,
   "metadata": {},
   "outputs": [
    {
     "data": {
      "text/plain": [
       "icot (generic function with 1 method)"
      ]
     },
     "execution_count": 5,
     "metadata": {},
     "output_type": "execute_result"
    }
   ],
   "source": [
    "# Prepare data for ICOT: features are \n",
    "# stored in the matrix X, and the warm-start labels are stored in y\n",
    "X = data_full[:, 1:end-2];\n",
    "y = data_full[:, :true_labels];\n",
    "\n",
    "\n",
    "# Run ICOT with an OCT warm-start: fit an OCT as a supervised learning problem with labels \"y\" and use this as the warm-start\n",
    "function icot(maxdepth)\n",
    "    warm_start = :oct\n",
    "    lnr_ws_oct = ICOT.InterpretableCluster(ls_num_tree_restarts=num_tree_restarts, ls_random_seed=seed, cp=complexity_c, max_depth=maxdepth,\n",
    "        minbucket=min_bucket, criterion=cr, ls_warmstart_criterion=cr, kmeans_warmstart=warm_start,\n",
    "        geom_search=geom_search, geom_threshold=threshold)\n",
    "    run_time_icot_ls_oct = @elapsed ICOT.fit!(lnr_ws_oct, X, y)\n",
    "\n",
    "    score_ws_oct = ICOT.score(lnr_ws_oct, X, y, criterion=:dunnindex)\n",
    "    score_al_ws_oct = ICOT.score(lnr_ws_oct, X, y, criterion=:silhouette)\n",
    "    ICOT.showinbrowser(lnr_ws_oct)\n",
    "\n",
    "    @printf(\"dunnindex = %.4f\\n\", float(score_ws_oct))\n",
    "    @printf(\"silhouette = %.4f\\n\", float(score_al_ws_oct))\n",
    "\n",
    "end\n"
   ]
  },
  {
   "cell_type": "code",
   "execution_count": 6,
   "metadata": {},
   "outputs": [
    {
     "name": "stdout",
     "output_type": "stream",
     "text": [
      "MAXDEPTH = 4\n"
     ]
    },
    {
     "name": "stderr",
     "output_type": "stream",
     "text": [
      "┌ Warning: implicit `dims=2` argument now has to be passed explicitly to specify that distances between columns should be computed\n",
      "│   caller = ip:0x0\n",
      "└ @ Core :-1\n",
      "┌ Warning: This copy of Interpretable AI software is for academic purposes only and not for commercial use.\n",
      "└ @ IAIBase /home/iai/.julia/packages/IAIBase/pOrUV/src/precompile.jl:19\n",
      "\u001b[32mTraining trees...100%|██████████████████████████████████| Time: 0:00:49\u001b[39m\n",
      "\u001b[32mTraining trees...100%|██████████████████████████████████| Time: 0:01:20\u001b[39m\n"
     ]
    }
   ],
   "source": [
    "# grid search for max max_depth\n",
    "# unknown cannot use for gridsearch\n",
    "for maxdepth in [4,5,6]\n",
    "    @time begin\n",
    "    @printf(\"MAXDEPTH = %1i\\n\", maxdepth)\n",
    "    icot(maxdepth)\n",
    "    end\n",
    "end"
   ]
  },
  {
   "cell_type": "code",
   "execution_count": null,
   "metadata": {},
   "outputs": [],
   "source": []
  }
 ],
 "metadata": {
  "kernelspec": {
   "display_name": "Julia 1.1.0",
   "language": "julia",
   "name": "julia-1.1"
  },
  "language_info": {
   "file_extension": ".jl",
   "mimetype": "application/julia",
   "name": "julia",
   "version": "1.1.0"
  },
  "orig_nbformat": 4
 },
 "nbformat": 4,
 "nbformat_minor": 2
}
