{
 "cells": [
  {
   "cell_type": "code",
   "execution_count": 1,
   "metadata": {},
   "outputs": [],
   "source": [
    "import pandas as pd\n",
    "import warnings\n",
    "warnings.filterwarnings(action='once')\n",
    "\n",
    "\n"
   ]
  },
  {
   "cell_type": "code",
   "execution_count": 2,
   "metadata": {},
   "outputs": [
    {
     "data": {
      "text/plain": [
       "'\\n# read the whole file \\nDF = pd.read_csv(\\'/home/sfy/Documents/VScodeProject/Thesis/data/test.txt\\')\\nname = DF[\\'name\\']\\n\\n# create a new dataframe\\ndata = pd.DataFrame()\\n\\n# FAMILY = \\'Airpush\\'\\nfamilyList = [\"Airpush\", \"BankBot\",\"Boqx\"]\\n\\n\\ndef addFam(data, family):\\n    # extract lines contating this family\\n    targetLines = DF[name.str.contains(f\"({family})\")]\\n\\n    # add family name into it\\n    addFamil = [family for _ in range(len(targetLines))]\\n    targetLines.insert(1, \"family\", addFamil)\\n\\n    res = pd.concat([data, targetLines], ignore_index=True)\\n    return res\\n\\n\\nfor family in familyList:\\n    data = addFam(data, family)\\n'"
      ]
     },
     "execution_count": 2,
     "metadata": {},
     "output_type": "execute_result"
    }
   ],
   "source": []
  },
  {
   "cell_type": "code",
   "execution_count": 3,
   "metadata": {},
   "outputs": [
    {
     "name": "stdout",
     "output_type": "stream",
     "text": [
      "(20760, 698)\n"
     ]
    }
   ],
   "source": [
    "DF = pd.read_csv('/home/sfy/Documents/VScodeProject/Thesis/family.csv')\n",
    "print(DF.shape)\n",
    "\n",
    "grouped = DF.groupby(['family'])\n",
    "# get numbers of each group \n",
    "groupCount = grouped['family'].count()\n",
    "# groupCount\n",
    "# seect the family with certain condition\n",
    "\n",
    "selected = groupCount[groupCount > 1000]\n",
    "\n",
    "# get names\n",
    "selectedNames = list(selected.index)\n",
    "\n",
    "# select trained\n",
    "train = DF.loc[DF['family'].isin(selectedNames)]\n",
    "\n"
   ]
  },
  {
   "cell_type": "code",
   "execution_count": null,
   "metadata": {},
   "outputs": [],
   "source": [
    "# encode string value with intergers\n"
   ]
  }
 ],
 "metadata": {
  "kernelspec": {
   "display_name": "thesis",
   "language": "python",
   "name": "python3"
  },
  "language_info": {
   "codemirror_mode": {
    "name": "ipython",
    "version": 3
   },
   "file_extension": ".py",
   "mimetype": "text/x-python",
   "name": "python",
   "nbconvert_exporter": "python",
   "pygments_lexer": "ipython3",
   "version": "3.9.13 (main, Oct 13 2022, 21:15:33) \n[GCC 11.2.0]"
  },
  "orig_nbformat": 4,
  "vscode": {
   "interpreter": {
    "hash": "c673639e1878fb3520d597d27aecf39bb774213fc27bbc445709cd358b48682f"
   }
  }
 },
 "nbformat": 4,
 "nbformat_minor": 2
}
