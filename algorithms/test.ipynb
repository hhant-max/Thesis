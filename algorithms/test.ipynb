{
 "cells": [
  {
   "cell_type": "code",
   "execution_count": 1,
   "metadata": {},
   "outputs": [],
   "source": [
    "import pandas as pd\n",
    "import warnings\n",
    "warnings.filterwarnings(action='once')\n",
    "\n",
    "\n",
    "\n"
   ]
  },
  {
   "cell_type": "code",
   "execution_count": null,
   "metadata": {},
   "outputs": [],
   "source": [
    "import os\n",
    "from subprocess import Popen, PIPE\n",
    "\n",
    "\n",
    "def get_mojo(file_path1, file_path2):\n",
    "\tcmd = \"java -jar mojo.jar  \" + file_path1 + \"  \" + file_path2+\" -fm\"\n",
    "\tp = Popen(cmd, shell=True, stdout=PIPE, stderr=PIPE)\n",
    "\tout, err = p.communicate()\n",
    "\tresults = out.strip()\n",
    "\treturn results\n",
    "\n",
    "\n",
    "def get_mojo_fm(gt_path, cluster_path, base_out_path, project_name):\n",
    "\twith open(base_out_path + '/' + project_name + '-mojo-out.txt', 'w') as f:\n",
    "\t\tf.write(str(max(get_mojo(gt_path, cluster_path), get_mojo(cluster_path, gt_path))))"
   ]
  }
 ],
 "metadata": {
  "kernelspec": {
   "display_name": "thesis",
   "language": "python",
   "name": "python3"
  },
  "language_info": {
   "codemirror_mode": {
    "name": "ipython",
    "version": 3
   },
   "file_extension": ".py",
   "mimetype": "text/x-python",
   "name": "python",
   "nbconvert_exporter": "python",
   "pygments_lexer": "ipython3",
   "version": "3.9.13"
  },
  "orig_nbformat": 4,
  "vscode": {
   "interpreter": {
    "hash": "c673639e1878fb3520d597d27aecf39bb774213fc27bbc445709cd358b48682f"
   }
  }
 },
 "nbformat": 4,
 "nbformat_minor": 2
}
