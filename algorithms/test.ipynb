{
 "cells": [
  {
   "cell_type": "code",
   "execution_count": 1,
   "metadata": {},
   "outputs": [],
   "source": [
    "import pandas as pd\n",
    "import warnings\n",
    "warnings.filterwarnings(action='once')\n",
    "\n",
    "\n",
    "\n"
   ]
  },
  {
   "cell_type": "code",
   "execution_count": null,
   "metadata": {},
   "outputs": [],
   "source": [
    "import os\n",
    "from subprocess import Popen, PIPE\n",
    "\n",
    "\n",
    "def get_mojo(file_path1, file_path2):\n",
    "\tcmd = \"java -jar mojo.jar  \" + file_path1 + \"  \" + file_path2+\" -fm\"\n",
    "\tp = Popen(cmd, shell=True, stdout=PIPE, stderr=PIPE)\n",
    "\tout, err = p.communicate()\n",
    "\tresults = out.strip()\n",
    "\treturn results\n",
    "\n",
    "\n",
    "def get_mojo_fm(gt_path, cluster_path, base_out_path, project_name):\n",
    "\twith open(base_out_path + '/' + project_name + '-mojo-out.txt', 'w') as f:\n",
    "\t\tf.write(str(max(get_mojo(gt_path, cluster_path), get_mojo(cluster_path, gt_path))))"
   ]
  },
  {
   "cell_type": "code",
   "execution_count": 7,
   "metadata": {},
   "outputs": [
    {
     "name": "stdout",
     "output_type": "stream",
     "text": [
      "93.57\n"
     ]
    },
    {
     "data": {
      "text/plain": [
       "CompletedProcess(args='java -cp /home/sfy/Documents/VScodeProject/Thesis/algorithms  mojo.MoJo /home/sfy/Documents/VScodeProject/Thesis/result/distraTop11.rsf /home/sfy/Documents/VScodeProject/Thesis/result/distrbTop11.rsf  -fm', returncode=0)"
      ]
     },
     "execution_count": 7,
     "metadata": {},
     "output_type": "execute_result"
    }
   ],
   "source": [
    "# add \"\" to firt the command of mojofm\n",
    "\n",
    "import subprocess\n",
    "\n",
    "# for complex commands, with many args, use string + `shell=True`:\n",
    "cmd_str = \"cd /home/sfy/Documents/VScodeProject/Thesis/algorithms\"\n",
    "cmd_str_2 = \"java -cp /home/sfy/Documents/VScodeProject/Thesis/algorithms  mojo.MoJo /home/sfy/Documents/VScodeProject/Thesis/result/distraTop11.rsf /home/sfy/Documents/VScodeProject/Thesis/result/distrbTop11.rsf  -fm\"\n",
    "subprocess.run(cmd_str, shell=True)\n",
    "subprocess.run(cmd_str_2, shell=True)\n"
   ]
  },
  {
   "cell_type": "code",
   "execution_count": null,
   "metadata": {},
   "outputs": [],
   "source": []
  }
 ],
 "metadata": {
  "kernelspec": {
   "display_name": "thesis",
   "language": "python",
   "name": "python3"
  },
  "language_info": {
   "codemirror_mode": {
    "name": "ipython",
    "version": 3
   },
   "file_extension": ".py",
   "mimetype": "text/x-python",
   "name": "python",
   "nbconvert_exporter": "python",
   "pygments_lexer": "ipython3",
   "version": "3.9.13"
  },
  "orig_nbformat": 4,
  "vscode": {
   "interpreter": {
    "hash": "c673639e1878fb3520d597d27aecf39bb774213fc27bbc445709cd358b48682f"
   }
  }
 },
 "nbformat": 4,
 "nbformat_minor": 2
}
