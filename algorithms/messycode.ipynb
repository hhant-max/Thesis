{
 "cells": [
  {
   "cell_type": "code",
   "execution_count": null,
   "metadata": {},
   "outputs": [],
   "source": []
  },
  {
   "cell_type": "code",
   "execution_count": null,
   "metadata": {},
   "outputs": [],
   "source": [
    "# X_train,X_test,y_train,y_test = train_test_split(X,y,test_size=0.7)\n",
    "\n",
    "# selector = SelectKBest(mutual_info_regression, k = 120)\n",
    "# selector.fit(X_train, y_train)\n",
    "# X_train.columns[selector.get_support()]\n",
    "\n",
    "# X_train = X_train.iloc[:,X_train.columns[selector.get_support()]]\n",
    "\n",
    "# X_train.shape"
   ]
  },
  {
   "cell_type": "code",
   "execution_count": null,
   "metadata": {},
   "outputs": [],
   "source": [
    "################################ kmeans\n",
    "# k = 2\n",
    "# # random = KMeans(k,random_state=0)\n",
    "# # ran_labels = random.fit_predict(train_data)\n",
    "\n",
    "# def run2algs(train_data,leaves,k):\n",
    "#     kmeans = KMeans(n_clusters= k)\n",
    "#     # kmeans = MiniBatchKMeans(n_clusters=k)\n",
    "#     cluster_labels = kmeans.fit_predict(train_data)\n",
    "\n",
    "#     ################################ tree\n",
    "#     tree = Tree(k=k,max_leaves=leaves)\n",
    "#     tree_labels = tree.fit_predict(train_data, kmeans)\n",
    "\n",
    "#     return kmeans,cluster_labels,tree_labels\n"
   ]
  },
  {
   "cell_type": "code",
   "execution_count": null,
   "metadata": {},
   "outputs": [],
   "source": [
    "# X_train = PCA(n_components=20).fit_transform(X)\n",
    "# X_train = MiniBatchSparsePCA(n_components=20, batch_size=300).fit_transform(X_train)\n",
    "\n",
    "\n",
    "# Normalizing the Data\n",
    "# normalized_df = normalize(scaled_df)\n",
    "\n",
    "\n",
    "# kmeans, kmeans_labels, tree_labels = run2algs(X_train_, leaves=8 * k, k=2)\n",
    "# kmeans = MiniBatchKMeans(k)??????"
   ]
  },
  {
   "cell_type": "code",
   "execution_count": null,
   "metadata": {},
   "outputs": [],
   "source": [
    "\n",
    "# data preprocess\n",
    "# Standardize data\n",
    "# TODO train_test_split(X, y, test_size=0.4, random_state=0)\n",
    "\n",
    "\n",
    "#output X_\n",
    "# X_.to_csv('alldata.csv',index=False)"
   ]
  },
  {
   "cell_type": "code",
   "execution_count": null,
   "metadata": {},
   "outputs": [],
   "source": [
    "# test with random\n",
    "\n",
    "f_a_score(ran_labels,tree_labels = Tree(k).fit_predict(X,random))"
   ]
  }
 ],
 "metadata": {
  "kernelspec": {
   "display_name": "Python 3.9.13 ('thesis')",
   "language": "python",
   "name": "python3"
  },
  "language_info": {
   "name": "python",
   "version": "3.9.13 (main, Oct 13 2022, 21:15:33) \n[GCC 11.2.0]"
  },
  "orig_nbformat": 4,
  "vscode": {
   "interpreter": {
    "hash": "c673639e1878fb3520d597d27aecf39bb774213fc27bbc445709cd358b48682f"
   }
  }
 },
 "nbformat": 4,
 "nbformat_minor": 2
}
