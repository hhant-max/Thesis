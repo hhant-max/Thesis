{
 "cells": [
  {
   "cell_type": "code",
   "execution_count": 1,
   "metadata": {
    "vscode": {
     "languageId": "r"
    }
   },
   "outputs": [
    {
     "name": "stderr",
     "output_type": "stream",
     "text": [
      "Loading required package: clue\n",
      "\n",
      "Loading required package: MASS\n",
      "\n"
     ]
    },
    {
     "ename": "ERROR",
     "evalue": "Error: package ‘partitions’ required by ‘cubt’ could not be found\n",
     "output_type": "error",
     "traceback": [
      "Error: package ‘partitions’ required by ‘cubt’ could not be found\nTraceback:\n",
      "1. library(\"cubt\")",
      "2. .getRequiredPackages2(pkgInfo, quietly = quietly)",
      "3. stop(gettextf(\"package %s required by %s could not be found\", \n .     sQuote(pkg), sQuote(pkgname)), call. = FALSE, domain = NA)"
     ]
    }
   ],
   "source": [
    "library('cubt')"
   ]
  },
  {
   "cell_type": "code",
   "execution_count": null,
   "metadata": {
    "vscode": {
     "languageId": "r"
    }
   },
   "outputs": [],
   "source": []
  }
 ],
 "metadata": {
  "kernelspec": {
   "display_name": "R",
   "language": "R",
   "name": "ir"
  },
  "language_info": {
   "codemirror_mode": "r",
   "file_extension": ".r",
   "mimetype": "text/x-r-source",
   "name": "R",
   "pygments_lexer": "r",
   "version": "4.2.2"
  },
  "orig_nbformat": 4,
  "vscode": {
   "interpreter": {
    "hash": "bba981811683e472a32ae9c934758687e2cf4b931b14a261cef6332b7ce366d6"
   }
  }
 },
 "nbformat": 4,
 "nbformat_minor": 2
}
