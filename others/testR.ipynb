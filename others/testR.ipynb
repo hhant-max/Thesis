{
 "cells": [
  {
   "cell_type": "code",
   "execution_count": 2,
   "metadata": {},
   "outputs": [
    {
     "ename": "NameError",
     "evalue": "name 'install' is not defined",
     "output_type": "error",
     "traceback": [
      "\u001b[0;31m---------------------------------------------------------------------------\u001b[0m",
      "\u001b[0;31mNameError\u001b[0m                                 Traceback (most recent call last)",
      "\u001b[1;32m/home/sfy/Documents/VScodeProject/Thesis/others/testR.ipynb Cell 1\u001b[0m in \u001b[0;36m1\n\u001b[0;32m----> <a href='vscode-notebook-cell:/home/sfy/Documents/VScodeProject/Thesis/others/testR.ipynb#W0sZmlsZQ%3D%3D?line=0'>1</a>\u001b[0m install\u001b[39m.\u001b[39mpackages(\u001b[39m'\u001b[39m\u001b[39m/home/sfy/Documents/VScodeProject/Thesis/algorithms/cubt_3.2.tar.gz\u001b[39m\u001b[39m'\u001b[39m,repos \u001b[39m=\u001b[39m NULL,\u001b[39mtype\u001b[39m \u001b[39m=\u001b[39m \u001b[39m\"\u001b[39m\u001b[39msource\u001b[39m\u001b[39m\"\u001b[39m)\n\u001b[1;32m      <a href='vscode-notebook-cell:/home/sfy/Documents/VScodeProject/Thesis/others/testR.ipynb#W0sZmlsZQ%3D%3D?line=1'>2</a>\u001b[0m library(\u001b[39m'\u001b[39m\u001b[39mclue\u001b[39m\u001b[39m'\u001b[39m)\n\u001b[1;32m      <a href='vscode-notebook-cell:/home/sfy/Documents/VScodeProject/Thesis/others/testR.ipynb#W0sZmlsZQ%3D%3D?line=3'>4</a>\u001b[0m library(\u001b[39m'\u001b[39m\u001b[39mpartitions\u001b[39m\u001b[39m'\u001b[39m)\n",
      "\u001b[0;31mNameError\u001b[0m: name 'install' is not defined"
     ]
    }
   ],
   "source": [
    "install.packages('/home/sfy/Documents/VScodeProject/Thesis/algorithms/cubt_3.2.tar.gz',repos = NULL,type = \"source\")\n",
    "library('clue')\n",
    "\n",
    "library('partitions')\n",
    "library('cubt')\n",
    "installed.packages()\n",
    "\n"
   ]
  },
  {
   "cell_type": "code",
   "execution_count": null,
   "metadata": {},
   "outputs": [],
   "source": []
  }
 ],
 "metadata": {
  "kernelspec": {
   "display_name": "Python 3.8.2 ('r33-env')",
   "language": "python",
   "name": "python3"
  },
  "language_info": {
   "codemirror_mode": {
    "name": "ipython",
    "version": 3
   },
   "file_extension": ".py",
   "mimetype": "text/x-python",
   "name": "python",
   "nbconvert_exporter": "python",
   "pygments_lexer": "ipython3",
   "version": "3.8.2"
  },
  "orig_nbformat": 4,
  "vscode": {
   "interpreter": {
    "hash": "2d116a545a04cc3898a5e8635e40dadc85965896e5b5c3e3e1bdfcdf06d150c6"
   }
  }
 },
 "nbformat": 4,
 "nbformat_minor": 2
}
