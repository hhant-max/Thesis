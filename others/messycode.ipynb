{
 "cells": [
  {
   "cell_type": "code",
   "execution_count": null,
   "metadata": {},
   "outputs": [],
   "source": []
  },
  {
   "cell_type": "code",
   "execution_count": null,
   "metadata": {},
   "outputs": [],
   "source": [
    "# X_train,X_test,y_train,y_test = train_test_split(X,y,test_size=0.7)\n",
    "\n",
    "# selector = SelectKBest(mutual_info_regression, k = 120)\n",
    "# selector.fit(X_train, y_train)\n",
    "# X_train.columns[selector.get_support()]\n",
    "\n",
    "# X_train = X_train.iloc[:,X_train.columns[selector.get_support()]]\n",
    "\n",
    "# X_train.shape"
   ]
  },
  {
   "cell_type": "code",
   "execution_count": null,
   "metadata": {},
   "outputs": [],
   "source": [
    "from torch.utils.data import DataLoader,Dataset\n",
    "from torchsampler import ImbalancedDatasetSampler\n",
    "import torch\n",
    "\n",
    "\n",
    "dataset = CustomDataset(scaled_df)\n",
    "\n",
    "train_loader = DataLoader(\n",
    "    dataset = dataset,\n",
    "    sampler=ImbalancedDatasetSampler(dataset),\n",
    "    batch_size=dataset.__len__()\n",
    ")\n",
    "train_features, train_labels = next(iter(train_loader))\n",
    "\n",
    "resampled_X = train_features.numpy()\n",
    "resampled_y = train_labels.numpy()\n",
    "\n",
    "\n",
    "maj_int_min = {}\n",
    "lst_maj,lst_min = [],[]\n",
    "\n",
    "for i in range(10):\n",
    "    if i < 2 :\n",
    "        lst_maj.append(i)\n",
    "    if i >7 :\n",
    "        lst_min.append(i)\n",
    "maj_int_min['maj'] = lst_maj\n",
    "maj_int_min['min'] = lst_min\n",
    "maj_int_min\n",
    "# oversamping not working no only callssify 5 cass\n",
    "import smote_variants as sv\n",
    "import sklearn.datasets as datasets\n",
    "\n",
    "\n",
    "oversampler= sv.MulticlassOversampling(oversampler='SYMPROD',\n",
    "                                      oversampler_params={'random_state': 5})\n",
    "\n",
    "# X_samp and y_samp contain the oversampled dataset\n",
    "X_samp, y_samp= oversampler.sample(X, Y)\n",
    "\n",
    "\n"
   ]
  },
  {
   "cell_type": "code",
   "execution_count": null,
   "metadata": {},
   "outputs": [],
   "source": [
    "################################ kmeans\n",
    "# k = 2\n",
    "# # random = KMeans(k,random_state=0)\n",
    "# # ran_labels = random.fit_predict(train_data)\n",
    "\n",
    "# def run2algs(train_data,leaves,k):\n",
    "#     kmeans = KMeans(n_clusters= k)\n",
    "#     # kmeans = MiniBatchKMeans(n_clusters=k)\n",
    "#     cluster_labels = kmeans.fit_predict(train_data)\n",
    "\n",
    "#     ################################ tree\n",
    "#     tree = Tree(k=k,max_leaves=leaves)\n",
    "#     tree_labels = tree.fit_predict(train_data, kmeans)\n",
    "\n",
    "#     return kmeans,cluster_labels,tree_labels\n"
   ]
  },
  {
   "cell_type": "code",
   "execution_count": null,
   "metadata": {},
   "outputs": [],
   "source": [
    "# X_train = PCA(n_components=20).fit_transform(X)\n",
    "# X_train = MiniBatchSparsePCA(n_components=20, batch_size=300).fit_transform(X_train)\n",
    "\n",
    "\n",
    "# Normalizing the Data\n",
    "# normalized_df = normalize(scaled_df)\n",
    "\n",
    "\n",
    "# kmeans, kmeans_labels, tree_labels = run2algs(X_train_, leaves=8 * k, k=2)\n",
    "# kmeans = MiniBatchKMeans(k)??????"
   ]
  },
  {
   "cell_type": "code",
   "execution_count": null,
   "metadata": {},
   "outputs": [],
   "source": [
    "\n",
    "# data preprocess\n",
    "# Standardize data\n",
    "# TODO train_test_split(X, y, test_size=0.4, random_state=0)\n",
    "\n",
    "\n",
    "#output X_\n",
    "# X_.to_csv('alldata.csv',index=False)"
   ]
  },
  {
   "cell_type": "code",
   "execution_count": null,
   "metadata": {},
   "outputs": [],
   "source": [
    "# test with random\n",
    "\n",
    "f_a_score(ran_labels,tree_labels = Tree(k).fit_predict(X,random))"
   ]
  },
  {
   "cell_type": "code",
   "execution_count": null,
   "metadata": {},
   "outputs": [],
   "source": [
    "from multi_imbalance.resampling.global_cs import GlobalCS\n",
    "# # result is better but mojofm not good\n",
    "clf = GlobalCS()\n",
    "\n",
    "# long time with no good result\n",
    "# from multi_imbalance.resampling.spider import SPIDER3\n",
    "# maj_int_min = {\n",
    "#     'maj':[0,1],\n",
    "#     'int':[2,3,4,5,6,7],\n",
    "#     'min':[8,9]\n",
    "# }\n",
    "# clf = SPIDER3(k=100, maj_int_min = maj_int_min)\n",
    "\n",
    "# from multi_imbalance.resampling.mdo import MDO\n",
    "# clf = MDO(k=50,prop=0.8,maj_int_min=maj_int_min)\n",
    "\n",
    "\n",
    "resampled_X, resampled_y = clf.fit_resample(scaled_df, Y)\n",
    "\n",
    "\n",
    "print(f'resampeld X shape is {resampled_X.shape}')"
   ]
  }
 ],
 "metadata": {
  "kernelspec": {
   "display_name": "Python 3.9.13 ('thesis')",
   "language": "python",
   "name": "python3"
  },
  "language_info": {
   "name": "python",
   "version": "3.9.13"
  },
  "orig_nbformat": 4,
  "vscode": {
   "interpreter": {
    "hash": "c673639e1878fb3520d597d27aecf39bb774213fc27bbc445709cd358b48682f"
   }
  }
 },
 "nbformat": 4,
 "nbformat_minor": 2
}
