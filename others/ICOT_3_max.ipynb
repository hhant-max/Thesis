{
 "cells": [
  {
   "cell_type": "code",
   "execution_count": 1,
   "metadata": {},
   "outputs": [],
   "source": [
    "using DataFrames, MLDataUtils\n",
    "using Clustering, Distances\n",
    "using CSV\n",
    "using Random\n",
    "using Logging\n",
    "using Printf\n",
    "\n",
    "# Set up Logging - we recommend to use this command to avoid package warnings during the model training process.\n",
    "logger = Logging.SimpleLogger(stderr, Logging.Warn);\n",
    "global_logger(logger);"
   ]
  },
  {
   "cell_type": "code",
   "execution_count": 2,
   "metadata": {},
   "outputs": [
    {
     "name": "stderr",
     "output_type": "stream",
     "text": [
      "┌ Warning: readtable is deprecated, use CSV.read from the CSV package instead\n",
      "│   caller = top-level scope at In[2]:17\n",
      "└ @ Core In[2]:17\n"
     ]
    }
   ],
   "source": [
    "#### Set parameters for the learners\n",
    "cr = :silhouette # VALIDATION criterion totrain ICOT\n",
    "method = \"ICOT_local\"\n",
    "warm_start = :oct; \n",
    "# in the paper,  awarmstart slution to intilazation algorithm, oct use kmeas labels as \n",
    "# as a uspervised algorithm. greedy option fits a cart tree to lebels? try? or not good as kmenas\n",
    "geom_search = true \n",
    "# s a boolean parameter that controls where the algorithm will enable the geometric component of the feature space search. See details in Section 3.3.1 of the paper.\n",
    "threshold = 0.99 # the percentile of gaps for each \n",
    "seed = 1\n",
    "gridsearch = true\n",
    "num_tree_restarts = 20\n",
    "# is an integer specifying the number of random restarts to use in the local search algorithm. Must be positive and defaults to 100. The performance of the tree typically increases as this value is increased, but with quickly diminishing returns. The computational cost of training increases linearly with this value.\n",
    "complexity_c = 0.0\n",
    "min_bucket = 100\n",
    "maxdepth = 5 # can change ! use grid search for tuning!\n",
    "\n",
    "###### Step 1: Prepare the data\n",
    "# Read the data - recommend the use of the (deprecated) readtable() command to avoid potential version conflicts with the CSV package.\n",
    "dataset = readtable(\"dataset_noScaler.csv\"); \n",
    "# println(dataset[1, :])\n"
   ]
  },
  {
   "cell_type": "code",
   "execution_count": 3,
   "metadata": {},
   "outputs": [
    {
     "data": {
      "text/html": [
       "<table class=\"data-frame\"><thead><tr><th></th><th>android_content_Context_getSystemService</th><th>java_net_URL_openConnection</th><th>android_os_PowerManager_WakeLock_release</th></tr><tr><th></th><th>Int64⍰</th><th>Int64⍰</th><th>Int64⍰</th></tr></thead><tbody><p>5,460 rows × 211 columns (omitted printing of 208 columns)</p><tr><th>1</th><td>13</td><td>1</td><td>0</td></tr><tr><th>2</th><td>13</td><td>1</td><td>0</td></tr><tr><th>3</th><td>13</td><td>1</td><td>0</td></tr><tr><th>4</th><td>13</td><td>1</td><td>0</td></tr><tr><th>5</th><td>13</td><td>1</td><td>0</td></tr><tr><th>6</th><td>13</td><td>1</td><td>0</td></tr><tr><th>7</th><td>13</td><td>1</td><td>0</td></tr><tr><th>8</th><td>14</td><td>3</td><td>0</td></tr><tr><th>9</th><td>14</td><td>3</td><td>0</td></tr><tr><th>10</th><td>14</td><td>3</td><td>0</td></tr><tr><th>11</th><td>13</td><td>1</td><td>0</td></tr><tr><th>12</th><td>13</td><td>1</td><td>0</td></tr><tr><th>13</th><td>13</td><td>1</td><td>0</td></tr><tr><th>14</th><td>13</td><td>1</td><td>0</td></tr><tr><th>15</th><td>13</td><td>1</td><td>0</td></tr><tr><th>16</th><td>13</td><td>1</td><td>0</td></tr><tr><th>17</th><td>13</td><td>1</td><td>0</td></tr><tr><th>18</th><td>13</td><td>1</td><td>0</td></tr><tr><th>19</th><td>13</td><td>1</td><td>0</td></tr><tr><th>20</th><td>13</td><td>1</td><td>0</td></tr><tr><th>21</th><td>13</td><td>1</td><td>0</td></tr><tr><th>22</th><td>14</td><td>3</td><td>0</td></tr><tr><th>23</th><td>14</td><td>3</td><td>0</td></tr><tr><th>24</th><td>13</td><td>1</td><td>0</td></tr><tr><th>25</th><td>15</td><td>13</td><td>0</td></tr><tr><th>26</th><td>13</td><td>3</td><td>0</td></tr><tr><th>27</th><td>14</td><td>3</td><td>0</td></tr><tr><th>28</th><td>14</td><td>3</td><td>0</td></tr><tr><th>29</th><td>14</td><td>1</td><td>0</td></tr><tr><th>30</th><td>14</td><td>1</td><td>0</td></tr><tr><th>&vellip;</th><td>&vellip;</td><td>&vellip;</td><td>&vellip;</td></tr></tbody></table>"
      ],
      "text/latex": [
       "\\begin{tabular}{r|cccc}\n",
       "\t& android\\_content\\_Context\\_getSystemService & java\\_net\\_URL\\_openConnection & android\\_os\\_PowerManager\\_WakeLock\\_release & \\\\\n",
       "\t\\hline\n",
       "\t& Int64⍰ & Int64⍰ & Int64⍰ & \\\\\n",
       "\t\\hline\n",
       "\t1 & 13 & 1 & 0 & $\\dots$ \\\\\n",
       "\t2 & 13 & 1 & 0 & $\\dots$ \\\\\n",
       "\t3 & 13 & 1 & 0 & $\\dots$ \\\\\n",
       "\t4 & 13 & 1 & 0 & $\\dots$ \\\\\n",
       "\t5 & 13 & 1 & 0 & $\\dots$ \\\\\n",
       "\t6 & 13 & 1 & 0 & $\\dots$ \\\\\n",
       "\t7 & 13 & 1 & 0 & $\\dots$ \\\\\n",
       "\t8 & 14 & 3 & 0 & $\\dots$ \\\\\n",
       "\t9 & 14 & 3 & 0 & $\\dots$ \\\\\n",
       "\t10 & 14 & 3 & 0 & $\\dots$ \\\\\n",
       "\t11 & 13 & 1 & 0 & $\\dots$ \\\\\n",
       "\t12 & 13 & 1 & 0 & $\\dots$ \\\\\n",
       "\t13 & 13 & 1 & 0 & $\\dots$ \\\\\n",
       "\t14 & 13 & 1 & 0 & $\\dots$ \\\\\n",
       "\t15 & 13 & 1 & 0 & $\\dots$ \\\\\n",
       "\t16 & 13 & 1 & 0 & $\\dots$ \\\\\n",
       "\t17 & 13 & 1 & 0 & $\\dots$ \\\\\n",
       "\t18 & 13 & 1 & 0 & $\\dots$ \\\\\n",
       "\t19 & 13 & 1 & 0 & $\\dots$ \\\\\n",
       "\t20 & 13 & 1 & 0 & $\\dots$ \\\\\n",
       "\t21 & 13 & 1 & 0 & $\\dots$ \\\\\n",
       "\t22 & 14 & 3 & 0 & $\\dots$ \\\\\n",
       "\t23 & 14 & 3 & 0 & $\\dots$ \\\\\n",
       "\t24 & 13 & 1 & 0 & $\\dots$ \\\\\n",
       "\t25 & 15 & 13 & 0 & $\\dots$ \\\\\n",
       "\t26 & 13 & 3 & 0 & $\\dots$ \\\\\n",
       "\t27 & 14 & 3 & 0 & $\\dots$ \\\\\n",
       "\t28 & 14 & 3 & 0 & $\\dots$ \\\\\n",
       "\t29 & 14 & 1 & 0 & $\\dots$ \\\\\n",
       "\t30 & 14 & 1 & 0 & $\\dots$ \\\\\n",
       "\t$\\dots$ & $\\dots$ & $\\dots$ & $\\dots$ &  \\\\\n",
       "\\end{tabular}\n"
      ],
      "text/plain": [
       "5460×211 DataFrame. Omitted printing of 210 columns\n",
       "│ Row  │ android_content_Context_getSystemService │\n",
       "│      │ \u001b[90mUnion{Missing, Int64}\u001b[39m                    │\n",
       "├──────┼──────────────────────────────────────────┤\n",
       "│ 1    │ 13                                       │\n",
       "│ 2    │ 13                                       │\n",
       "│ 3    │ 13                                       │\n",
       "│ 4    │ 13                                       │\n",
       "│ 5    │ 13                                       │\n",
       "│ 6    │ 13                                       │\n",
       "│ 7    │ 13                                       │\n",
       "│ 8    │ 14                                       │\n",
       "│ 9    │ 14                                       │\n",
       "│ 10   │ 14                                       │\n",
       "⋮\n",
       "│ 5450 │ 29                                       │\n",
       "│ 5451 │ 26                                       │\n",
       "│ 5452 │ 28                                       │\n",
       "│ 5453 │ 43                                       │\n",
       "│ 5454 │ 29                                       │\n",
       "│ 5455 │ 26                                       │\n",
       "│ 5456 │ 34                                       │\n",
       "│ 5457 │ 31                                       │\n",
       "│ 5458 │ 30                                       │\n",
       "│ 5459 │ 39                                       │\n",
       "│ 5460 │ 30                                       │"
      ]
     },
     "execution_count": 3,
     "metadata": {},
     "output_type": "execute_result"
    }
   ],
   "source": [
    "# data_x = select(dataset, Not(:label))\n",
    "# data\n",
    "#seperate x and y\n",
    "true_label = dataset[:, end]\n",
    "data_x = dataset[:, 1:end-1]\n",
    "\n",
    "# train model \n",
    "\n",
    "data_array = convert(Matrix{Float64}, data_x);\n",
    "# Get the number of observations and features\n",
    "n, p = size(data_array)\n",
    "data_t = data_array';\n",
    "\n",
    "##### Step 2: Fit K-means clustering on the dataset to generate a warm-start for ICOT\n",
    "#Fix the seed\n",
    "Random.seed!(seed);\n",
    "\n",
    "# The ruspini dataset has pre-defined clusters, which we will use to select the cluster count (K) for the K-means algorithm. \n",
    "# In an unsupervised setting (with no prior-known K), the number of clusters for K means can be selected using the elbow method.\n",
    "K = 10\n",
    "\n",
    "# Run k-means and save the assignments \n",
    "kmeans_result = kmeans(data_t, K);\n",
    "assignment = kmeans_result.assignments;\n",
    "\n",
    "# concat data and feed into next model\n",
    "data_full = DataFrame(hcat(dataset, assignment, makeunique=true));\n",
    "\n",
    "#rename column\n",
    "if !hasproperty(data_full, :true_labels)\n",
    "    rename!(data_full, :label => :true_labels)\n",
    "end\n",
    "\n",
    "if !hasproperty(data_full, :kmean_assign)\n",
    "    rename!(data_full, :x1 => :kmean_assign)\n",
    "else\n",
    "    println(\"all done\")\n",
    "end"
   ]
  },
  {
   "cell_type": "code",
   "execution_count": 3,
   "metadata": {},
   "outputs": [
    {
     "ename": "UndefVarError",
     "evalue": "\u001b[91mUndefVarError: data_full not defined\u001b[39m",
     "output_type": "error",
     "traceback": [
      "\u001b[91mUndefVarError: data_full not defined\u001b[39m",
      "",
      "Stacktrace:",
      " [1] top-level scope at In[3]:1"
     ]
    }
   ],
   "source": [
    "println(data_full[:1, :]) "
   ]
  },
  {
   "cell_type": "code",
   "execution_count": null,
   "metadata": {},
   "outputs": [
    {
     "data": {
      "text/plain": [
       "icot (generic function with 1 method)"
      ]
     },
     "execution_count": 5,
     "metadata": {},
     "output_type": "execute_result"
    }
   ],
   "source": [
    "# Prepare data for ICOT: features are \n",
    "# stored in the matrix X, and the warm-start labels are stored in y\n",
    "X = data_full[:, 1:end-2];\n",
    "y = data_full[:, :true_labels];\n",
    "\n",
    "\n",
    "# Run ICOT with an OCT warm-start: fit an OCT as a supervised learning problem with labels \"y\" and use this as the warm-start\n",
    "function icot(maxdepth)\n",
    "    warm_start = :oct\n",
    "    lnr_ws_oct = ICOT.InterpretableCluster(ls_num_tree_restarts=num_tree_restarts, ls_random_seed=seed, cp=complexity_c, max_depth=maxdepth,\n",
    "        minbucket=min_bucket, criterion=cr, ls_warmstart_criterion=cr, kmeans_warmstart=warm_start,\n",
    "        geom_search=geom_search, geom_threshold=threshold)\n",
    "    run_time_icot_ls_oct = @elapsed ICOT.fit!(lnr_ws_oct, X, y)\n",
    "\n",
    "    score_ws_oct = ICOT.score(lnr_ws_oct, X, y, criterion=:dunnindex)\n",
    "    score_al_ws_oct = ICOT.score(lnr_ws_oct, X, y, criterion=:silhouette)\n",
    "    ICOT.showinbrowser(lnr_ws_oct)\n",
    "\n",
    "    @printf(\"dunnindex = %.4f\\n\", float(score_ws_oct))\n",
    "    @printf(\"silhouette = %.4f\\n\", float(score_al_ws_oct))\n",
    "\n",
    "end\n"
   ]
  },
  {
   "cell_type": "code",
   "execution_count": 6,
   "metadata": {},
   "outputs": [
    {
     "name": "stdout",
     "output_type": "stream",
     "text": [
      "MAXDEPTH = 3\n"
     ]
    },
    {
     "name": "stderr",
     "output_type": "stream",
     "text": [
      "┌ Warning: implicit `dims=2` argument now has to be passed explicitly to specify that distances between columns should be computed\n",
      "│   caller = ip:0x0\n",
      "└ @ Core :-1\n",
      "┌ Warning: This copy of Interpretable AI software is for academic purposes only and not for commercial use.\n",
      "└ @ IAIBase /home/iai/.julia/packages/IAIBase/pOrUV/src/precompile.jl:19\n",
      "\u001b[32mTraining trees...100%|██████████████████████████████████| Time: 0:00:32\u001b[39m\n",
      "\u001b[32mTraining trees...100%|██████████████████████████████████| Time: 0:00:40\u001b[39m\n",
      "┌ Warning: `getindex(df::DataFrame, col_ind::ColumnIndex)` is deprecated, use `df[!, col_ind]` instead.\n",
      "│   caller = dunn_score(::Array{Float64,2}, ::Array{Int64,1}) at clustering_tree.jl:132\n",
      "└ @ ICOT /home/iai/.julia/packages/ICOT/34UmY/src/clustering/clustering_tree.jl:132\n",
      "\u001b[32mTraining trees...100%|██████████████████████████████████| Time: 0:00:27\u001b[39m\n",
      "\u001b[32mTraining trees...100%|██████████████████████████████████| Time: 0:00:38\u001b[39m\n",
      "\u001b[32mTraining trees...100%|██████████████████████████████████| Time: 0:00:25\u001b[39m\n",
      "\u001b[32mTraining trees...100%|██████████████████████████████████| Time: 0:00:46\u001b[39m\n",
      "\u001b[32mTraining trees...100%|██████████████████████████████████| Time: 0:00:26\u001b[39m\n",
      "\u001b[32mTraining trees...100%|██████████████████████████████████| Time: 0:00:41\u001b[39m\n",
      "\u001b[32mTraining trees...100%|██████████████████████████████████| Time: 0:00:28\u001b[39mm\n",
      "\u001b[32mTraining trees...100%|██████████████████████████████████| Time: 0:00:44\u001b[39m\n",
      "\u001b[32mTraining trees...100%|██████████████████████████████████| Time: 0:00:27\u001b[39mm\n",
      "\u001b[32mTraining trees...100%|██████████████████████████████████| Time: 0:00:42\u001b[39m\n",
      "\u001b[32mTraining trees...100%|██████████████████████████████████| Time: 0:00:27\u001b[39m\n",
      "\u001b[32mTraining trees...100%|██████████████████████████████████| Time: 0:00:49\u001b[39m\n",
      "\u001b[32mTraining trees...100%|██████████████████████████████████| Time: 0:00:28\u001b[39m\n",
      "\u001b[32mTraining trees...100%|██████████████████████████████████| Time: 0:00:45\u001b[39m\n",
      "\u001b[32mTraining trees...100%|██████████████████████████████████| Time: 0:00:28\u001b[39m\n",
      "\u001b[32mTraining trees...100%|██████████████████████████████████| Time: 0:00:41\u001b[39m\n",
      "\u001b[32mTraining trees...100%|██████████████████████████████████| Time: 0:00:28\u001b[39m\n",
      "\u001b[32mTraining trees...100%|██████████████████████████████████| Time: 0:00:42\u001b[39m\n",
      "\u001b[32mTraining trees...100%|██████████████████████████████████| Time: 0:00:26\u001b[39m\n",
      "\u001b[32mTraining trees...100%|██████████████████████████████████| Time: 0:00:40\u001b[39m\n",
      "\u001b[32mTraining trees...100%|██████████████████████████████████| Time: 0:00:25\u001b[39m\n",
      "\u001b[32mTraining trees...100%|██████████████████████████████████| Time: 0:00:41\u001b[39m\n",
      "\u001b[32mTraining trees...100%|██████████████████████████████████| Time: 0:00:26\u001b[39m\n",
      "\u001b[32mTraining trees...100%|██████████████████████████████████| Time: 0:00:42\u001b[39m\n",
      "\u001b[32mTraining trees...100%|██████████████████████████████████| Time: 0:00:28\u001b[39m\n",
      "\u001b[32mTraining trees...100%|██████████████████████████████████| Time: 0:00:45\u001b[39m\n",
      "\u001b[32mTraining trees...100%|██████████████████████████████████| Time: 0:00:25\u001b[39m\n",
      "\u001b[32mTraining trees...100%|██████████████████████████████████| Time: 0:00:46\u001b[39m\n",
      "\u001b[32mTraining trees...100%|██████████████████████████████████| Time: 0:00:25\u001b[39m\n",
      "\u001b[32mTraining trees...100%|██████████████████████████████████| Time: 0:00:45\u001b[39m\n",
      "\u001b[32mTraining trees...100%|██████████████████████████████████| Time: 0:00:27\u001b[39m\n",
      "\u001b[32mTraining trees...100%|██████████████████████████████████| Time: 0:00:43\u001b[39m\n"
     ]
    },
    {
     "ename": "InterruptException",
     "evalue": "\u001b[91mInterruptException:\u001b[39m",
     "output_type": "error",
     "traceback": [
      "\u001b[91mInterruptException:\u001b[39m",
      "",
      "Stacktrace:",
      " [1] Type at ./boot.jl:402 [inlined]",
      " [2] similar at ./array.jl:316 [inlined]",
      " [3] silhouettes(::Array{Int64,1}, ::Array{Int64,1}, ::Array{Float64,2}) at /home/iai/.julia/packages/Clustering/tt9vc/src/silhouette.jl:77",
      " [4] raw_error(::Array{Int64,1}, ::Array{Float64,2}, ::ICOT.Silhouette) at /home/iai/.julia/packages/ICOT/34UmY/src/clustering/clustering_base.jl:46",
      " [5] get_score at /home/iai/.julia/packages/ICOT/34UmY/src/clustering/clustering_evaluator.jl:39 [inlined]",
      " [6] update_score!(::ICOT.Evaluator{ICOT.ClusteringTask,ICOT.ClassificationEvaluator{ICOT.Silhouette},ICOT.ClusteringTargetData}, ::Array{Int64,1}, ::Array{Float64,2}) at /home/iai/.julia/packages/ICOT/34UmY/src/evaluator.jl:248",
      " [7] update_scores_numeric!(::ICOT.LocalSearcher{ICOT.ClusteringTask,ICOT.ClassificationEvaluator{ICOT.Silhouette},ICOT.ClusteringTargetData}) at /home/iai/.julia/packages/ICOT/34UmY/src/localsearch/numeric.jl:328",
      " [8] scan_split!(::ICOT.LocalSearcher{ICOT.ClusteringTask,ICOT.ClassificationEvaluator{ICOT.Silhouette},ICOT.ClusteringTargetData}, ::ICOT.ParallelScannerMode, ::Float64, ::Float64, ::ICOT.RoundingModeNone) at /home/iai/.julia/packages/ICOT/34UmY/src/localsearch/numeric.jl:59",
      " [9] scan_split! at /home/iai/.julia/packages/ICOT/34UmY/src/localsearch/numeric.jl:18 [inlined]",
      " [10] parallel_split!(::ICOT.LocalSearcher{ICOT.ClusteringTask,ICOT.ClassificationEvaluator{ICOT.Silhouette},ICOT.ClusteringTargetData}, ::Float64, ::Int64, ::Float64) at /home/iai/.julia/packages/ICOT/34UmY/src/localsearch/parallel.jl:40",
      " [11] best_split!(::ICOT.Node{ICOT.ClusteringTask,ICOT.ClusteringFit}, ::ICOT.LocalSearcher{ICOT.ClusteringTask,ICOT.ClassificationEvaluator{ICOT.Silhouette},ICOT.ClusteringTargetData}, ::Float64) at /home/iai/.julia/packages/ICOT/34UmY/src/localsearch/search.jl:611",
      " [12] redo_split!(::ICOT.Tree{ICOT.ClusteringTask,ICOT.Node{ICOT.ClusteringTask,ICOT.ClusteringFit}}, ::Int64, ::Int64, ::ICOT.LocalSearcher{ICOT.ClusteringTask,ICOT.ClassificationEvaluator{ICOT.Silhouette},ICOT.ClusteringTargetData}) at /home/iai/.julia/packages/ICOT/34UmY/src/localsearch/search.jl:566",
      " [13] local_search!(::ICOT.Tree{ICOT.ClusteringTask,ICOT.Node{ICOT.ClusteringTask,ICOT.ClusteringFit}}, ::ICOT.LocalSearcher{ICOT.ClusteringTask,ICOT.ClassificationEvaluator{ICOT.Silhouette},ICOT.ClusteringTargetData}) at /home/iai/.julia/packages/ICOT/34UmY/src/localsearch/search.jl:144",
      " [14] run_worker!(::ICOT.InterpretableCluster, ::UnitRange{Int64}) at /home/iai/.julia/packages/ICOT/34UmY/src/localsearch/distributed.jl:130",
      " [15] fit_heuristic_localsearch!(::ICOT.InterpretableCluster) at /home/iai/.julia/packages/ICOT/34UmY/src/localsearch/distributed.jl:63",
      " [16] _fit!(::ICOT.InterpretableCluster, ::DataFrame, ::Nothing, ::Array{Union{Missing, Int64},1}) at /home/iai/.julia/packages/ICOT/34UmY/src/api.jl:217",
      " [17] #fit!#117 at /home/iai/.julia/packages/ICOT/34UmY/src/api.jl:33 [inlined]",
      " [18] fit!(::ICOT.InterpretableCluster, ::DataFrame, ::Array{Union{Missing, Int64},1}) at /home/iai/.julia/packages/ICOT/34UmY/src/api.jl:33",
      " [19] macro expansion at ./util.jl:213 [inlined]",
      " [20] icot(::Int64) at ./In[5]:13",
      " [21] top-level scope at util.jl:156",
      " [22] top-level scope at In[6]:4"
     ]
    }
   ],
   "source": [
    "# grid search for max max_depth\n",
    "# unknown cannot use for gridsearch\n",
    "maxdepth = 4\n",
    "@time begin\n",
    "@printf(\"MAXDEPTH = %1i\\n\", maxdepth)\n",
    "icot(maxdepth)\n",
    "end"
   ]
  },
  {
   "cell_type": "code",
   "execution_count": null,
   "metadata": {},
   "outputs": [],
   "source": []
  }
 ],
 "metadata": {
  "kernelspec": {
   "display_name": "Julia 1.1.0",
   "language": "julia",
   "name": "julia-1.1"
  },
  "language_info": {
   "file_extension": ".jl",
   "mimetype": "application/julia",
   "name": "julia",
   "version": "1.1.0"
  },
  "orig_nbformat": 4
 },
 "nbformat": 4,
 "nbformat_minor": 2
}
